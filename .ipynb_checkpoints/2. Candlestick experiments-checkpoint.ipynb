{
 "cells": [
  {
   "cell_type": "markdown",
   "metadata": {},
   "source": [
    "- sz: 深圳\n",
    "- ss: 上海\n",
    "\n",
    "在谷歌：\n",
    "- sha:上海\n",
    "- she:深圳\n",
    "\n",
    "格力: 000651.sz  \n",
    "科大讯飞：002230.sz  \n",
    "中潜股份: 300526.sz  \n",
    "st众合：002070.sz  \n",
    "京东方A: 000725.sz  \n",
    "茅台：600519.ss  "
   ]
  },
  {
   "cell_type": "code",
   "execution_count": 171,
   "metadata": {
    "scrolled": true
   },
   "outputs": [
    {
     "data": {
      "text/html": [
       "\n",
       "    <div class=\"bk-root\">\n",
       "        <a href=\"https://bokeh.pydata.org\" target=\"_blank\" class=\"bk-logo bk-logo-small bk-logo-notebook\"></a>\n",
       "        <span id=\"ace95105-99c8-490f-b2ce-3071ff7f8172\">Loading BokehJS ...</span>\n",
       "    </div>"
      ]
     },
     "metadata": {},
     "output_type": "display_data"
    },
    {
     "data": {
      "application/javascript": [
       "\n",
       "(function(root) {\n",
       "  function now() {\n",
       "    return new Date();\n",
       "  }\n",
       "\n",
       "  var force = true;\n",
       "\n",
       "  if (typeof (root._bokeh_onload_callbacks) === \"undefined\" || force === true) {\n",
       "    root._bokeh_onload_callbacks = [];\n",
       "    root._bokeh_is_loading = undefined;\n",
       "  }\n",
       "\n",
       "  var JS_MIME_TYPE = 'application/javascript';\n",
       "  var HTML_MIME_TYPE = 'text/html';\n",
       "  var EXEC_MIME_TYPE = 'application/vnd.bokehjs_exec.v0+json';\n",
       "  var CLASS_NAME = 'output_bokeh rendered_html';\n",
       "\n",
       "  /**\n",
       "   * Render data to the DOM node\n",
       "   */\n",
       "  function render(props, node) {\n",
       "    var script = document.createElement(\"script\");\n",
       "    node.appendChild(script);\n",
       "  }\n",
       "\n",
       "  /**\n",
       "   * Handle when an output is cleared or removed\n",
       "   */\n",
       "  function handleClearOutput(event, handle) {\n",
       "    var cell = handle.cell;\n",
       "\n",
       "    var id = cell.output_area._bokeh_element_id;\n",
       "    var server_id = cell.output_area._bokeh_server_id;\n",
       "    // Clean up Bokeh references\n",
       "    if (id !== undefined) {\n",
       "      Bokeh.index[id].model.document.clear();\n",
       "      delete Bokeh.index[id];\n",
       "    }\n",
       "\n",
       "    if (server_id !== undefined) {\n",
       "      // Clean up Bokeh references\n",
       "      var cmd = \"from bokeh.io.state import curstate; print(curstate().uuid_to_server['\" + server_id + \"'].get_sessions()[0].document.roots[0]._id)\";\n",
       "      cell.notebook.kernel.execute(cmd, {\n",
       "        iopub: {\n",
       "          output: function(msg) {\n",
       "            var element_id = msg.content.text.trim();\n",
       "            Bokeh.index[element_id].model.document.clear();\n",
       "            delete Bokeh.index[element_id];\n",
       "          }\n",
       "        }\n",
       "      });\n",
       "      // Destroy server and session\n",
       "      var cmd = \"import bokeh.io.notebook as ion; ion.destroy_server('\" + server_id + \"')\";\n",
       "      cell.notebook.kernel.execute(cmd);\n",
       "    }\n",
       "  }\n",
       "\n",
       "  /**\n",
       "   * Handle when a new output is added\n",
       "   */\n",
       "  function handleAddOutput(event, handle) {\n",
       "    var output_area = handle.output_area;\n",
       "    var output = handle.output;\n",
       "\n",
       "    // limit handleAddOutput to display_data with EXEC_MIME_TYPE content only\n",
       "    if ((output.output_type != \"display_data\") || (!output.data.hasOwnProperty(EXEC_MIME_TYPE))) {\n",
       "      return\n",
       "    }\n",
       "\n",
       "    var toinsert = output_area.element.find(\".\" + CLASS_NAME.split(' ')[0]);\n",
       "\n",
       "    if (output.metadata[EXEC_MIME_TYPE][\"id\"] !== undefined) {\n",
       "      toinsert[0].firstChild.textContent = output.data[JS_MIME_TYPE];\n",
       "      // store reference to embed id on output_area\n",
       "      output_area._bokeh_element_id = output.metadata[EXEC_MIME_TYPE][\"id\"];\n",
       "    }\n",
       "    if (output.metadata[EXEC_MIME_TYPE][\"server_id\"] !== undefined) {\n",
       "      var bk_div = document.createElement(\"div\");\n",
       "      bk_div.innerHTML = output.data[HTML_MIME_TYPE];\n",
       "      var script_attrs = bk_div.children[0].attributes;\n",
       "      for (var i = 0; i < script_attrs.length; i++) {\n",
       "        toinsert[0].firstChild.setAttribute(script_attrs[i].name, script_attrs[i].value);\n",
       "      }\n",
       "      // store reference to server id on output_area\n",
       "      output_area._bokeh_server_id = output.metadata[EXEC_MIME_TYPE][\"server_id\"];\n",
       "    }\n",
       "  }\n",
       "\n",
       "  function register_renderer(events, OutputArea) {\n",
       "\n",
       "    function append_mime(data, metadata, element) {\n",
       "      // create a DOM node to render to\n",
       "      var toinsert = this.create_output_subarea(\n",
       "        metadata,\n",
       "        CLASS_NAME,\n",
       "        EXEC_MIME_TYPE\n",
       "      );\n",
       "      this.keyboard_manager.register_events(toinsert);\n",
       "      // Render to node\n",
       "      var props = {data: data, metadata: metadata[EXEC_MIME_TYPE]};\n",
       "      render(props, toinsert[0]);\n",
       "      element.append(toinsert);\n",
       "      return toinsert\n",
       "    }\n",
       "\n",
       "    /* Handle when an output is cleared or removed */\n",
       "    events.on('clear_output.CodeCell', handleClearOutput);\n",
       "    events.on('delete.Cell', handleClearOutput);\n",
       "\n",
       "    /* Handle when a new output is added */\n",
       "    events.on('output_added.OutputArea', handleAddOutput);\n",
       "\n",
       "    /**\n",
       "     * Register the mime type and append_mime function with output_area\n",
       "     */\n",
       "    OutputArea.prototype.register_mime_type(EXEC_MIME_TYPE, append_mime, {\n",
       "      /* Is output safe? */\n",
       "      safe: true,\n",
       "      /* Index of renderer in `output_area.display_order` */\n",
       "      index: 0\n",
       "    });\n",
       "  }\n",
       "\n",
       "  // register the mime type if in Jupyter Notebook environment and previously unregistered\n",
       "  if (root.Jupyter !== undefined) {\n",
       "    var events = require('base/js/events');\n",
       "    var OutputArea = require('notebook/js/outputarea').OutputArea;\n",
       "\n",
       "    if (OutputArea.prototype.mime_types().indexOf(EXEC_MIME_TYPE) == -1) {\n",
       "      register_renderer(events, OutputArea);\n",
       "    }\n",
       "  }\n",
       "\n",
       "  \n",
       "  if (typeof (root._bokeh_timeout) === \"undefined\" || force === true) {\n",
       "    root._bokeh_timeout = Date.now() + 5000;\n",
       "    root._bokeh_failed_load = false;\n",
       "  }\n",
       "\n",
       "  var NB_LOAD_WARNING = {'data': {'text/html':\n",
       "     \"<div style='background-color: #fdd'>\\n\"+\n",
       "     \"<p>\\n\"+\n",
       "     \"BokehJS does not appear to have successfully loaded. If loading BokehJS from CDN, this \\n\"+\n",
       "     \"may be due to a slow or bad network connection. Possible fixes:\\n\"+\n",
       "     \"</p>\\n\"+\n",
       "     \"<ul>\\n\"+\n",
       "     \"<li>re-rerun `output_notebook()` to attempt to load from CDN again, or</li>\\n\"+\n",
       "     \"<li>use INLINE resources instead, as so:</li>\\n\"+\n",
       "     \"</ul>\\n\"+\n",
       "     \"<code>\\n\"+\n",
       "     \"from bokeh.resources import INLINE\\n\"+\n",
       "     \"output_notebook(resources=INLINE)\\n\"+\n",
       "     \"</code>\\n\"+\n",
       "     \"</div>\"}};\n",
       "\n",
       "  function display_loaded() {\n",
       "    var el = document.getElementById(\"ace95105-99c8-490f-b2ce-3071ff7f8172\");\n",
       "    if (el != null) {\n",
       "      el.textContent = \"BokehJS is loading...\";\n",
       "    }\n",
       "    if (root.Bokeh !== undefined) {\n",
       "      if (el != null) {\n",
       "        el.textContent = \"BokehJS \" + root.Bokeh.version + \" successfully loaded.\";\n",
       "      }\n",
       "    } else if (Date.now() < root._bokeh_timeout) {\n",
       "      setTimeout(display_loaded, 100)\n",
       "    }\n",
       "  }\n",
       "\n",
       "\n",
       "  function run_callbacks() {\n",
       "    try {\n",
       "      root._bokeh_onload_callbacks.forEach(function(callback) { callback() });\n",
       "    }\n",
       "    finally {\n",
       "      delete root._bokeh_onload_callbacks\n",
       "    }\n",
       "    console.info(\"Bokeh: all callbacks have finished\");\n",
       "  }\n",
       "\n",
       "  function load_libs(js_urls, callback) {\n",
       "    root._bokeh_onload_callbacks.push(callback);\n",
       "    if (root._bokeh_is_loading > 0) {\n",
       "      console.log(\"Bokeh: BokehJS is being loaded, scheduling callback at\", now());\n",
       "      return null;\n",
       "    }\n",
       "    if (js_urls == null || js_urls.length === 0) {\n",
       "      run_callbacks();\n",
       "      return null;\n",
       "    }\n",
       "    console.log(\"Bokeh: BokehJS not loaded, scheduling load and callback at\", now());\n",
       "    root._bokeh_is_loading = js_urls.length;\n",
       "    for (var i = 0; i < js_urls.length; i++) {\n",
       "      var url = js_urls[i];\n",
       "      var s = document.createElement('script');\n",
       "      s.src = url;\n",
       "      s.async = false;\n",
       "      s.onreadystatechange = s.onload = function() {\n",
       "        root._bokeh_is_loading--;\n",
       "        if (root._bokeh_is_loading === 0) {\n",
       "          console.log(\"Bokeh: all BokehJS libraries loaded\");\n",
       "          run_callbacks()\n",
       "        }\n",
       "      };\n",
       "      s.onerror = function() {\n",
       "        console.warn(\"failed to load library \" + url);\n",
       "      };\n",
       "      console.log(\"Bokeh: injecting script tag for BokehJS library: \", url);\n",
       "      document.getElementsByTagName(\"head\")[0].appendChild(s);\n",
       "    }\n",
       "  };var element = document.getElementById(\"ace95105-99c8-490f-b2ce-3071ff7f8172\");\n",
       "  if (element == null) {\n",
       "    console.log(\"Bokeh: ERROR: autoload.js configured with elementid 'ace95105-99c8-490f-b2ce-3071ff7f8172' but no matching script tag was found. \")\n",
       "    return false;\n",
       "  }\n",
       "\n",
       "  var js_urls = [\"https://cdn.pydata.org/bokeh/release/bokeh-0.12.13.min.js\", \"https://cdn.pydata.org/bokeh/release/bokeh-widgets-0.12.13.min.js\", \"https://cdn.pydata.org/bokeh/release/bokeh-tables-0.12.13.min.js\", \"https://cdn.pydata.org/bokeh/release/bokeh-gl-0.12.13.min.js\"];\n",
       "\n",
       "  var inline_js = [\n",
       "    function(Bokeh) {\n",
       "      Bokeh.set_log_level(\"info\");\n",
       "    },\n",
       "    \n",
       "    function(Bokeh) {\n",
       "      \n",
       "    },\n",
       "    function(Bokeh) {\n",
       "      console.log(\"Bokeh: injecting CSS: https://cdn.pydata.org/bokeh/release/bokeh-0.12.13.min.css\");\n",
       "      Bokeh.embed.inject_css(\"https://cdn.pydata.org/bokeh/release/bokeh-0.12.13.min.css\");\n",
       "      console.log(\"Bokeh: injecting CSS: https://cdn.pydata.org/bokeh/release/bokeh-widgets-0.12.13.min.css\");\n",
       "      Bokeh.embed.inject_css(\"https://cdn.pydata.org/bokeh/release/bokeh-widgets-0.12.13.min.css\");\n",
       "      console.log(\"Bokeh: injecting CSS: https://cdn.pydata.org/bokeh/release/bokeh-tables-0.12.13.min.css\");\n",
       "      Bokeh.embed.inject_css(\"https://cdn.pydata.org/bokeh/release/bokeh-tables-0.12.13.min.css\");\n",
       "    }\n",
       "  ];\n",
       "\n",
       "  function run_inline_js() {\n",
       "    \n",
       "    if ((root.Bokeh !== undefined) || (force === true)) {\n",
       "      for (var i = 0; i < inline_js.length; i++) {\n",
       "        inline_js[i].call(root, root.Bokeh);\n",
       "      }if (force === true) {\n",
       "        display_loaded();\n",
       "      }} else if (Date.now() < root._bokeh_timeout) {\n",
       "      setTimeout(run_inline_js, 100);\n",
       "    } else if (!root._bokeh_failed_load) {\n",
       "      console.log(\"Bokeh: BokehJS failed to load within specified timeout.\");\n",
       "      root._bokeh_failed_load = true;\n",
       "    } else if (force !== true) {\n",
       "      var cell = $(document.getElementById(\"ace95105-99c8-490f-b2ce-3071ff7f8172\")).parents('.cell').data().cell;\n",
       "      cell.output_area.append_execute_result(NB_LOAD_WARNING)\n",
       "    }\n",
       "\n",
       "  }\n",
       "\n",
       "  if (root._bokeh_is_loading === 0) {\n",
       "    console.log(\"Bokeh: BokehJS loaded, going straight to plotting\");\n",
       "    run_inline_js();\n",
       "  } else {\n",
       "    load_libs(js_urls, function() {\n",
       "      console.log(\"Bokeh: BokehJS plotting callback run at\", now());\n",
       "      run_inline_js();\n",
       "    });\n",
       "  }\n",
       "}(window));"
      ],
      "application/vnd.bokehjs_load.v0+json": "\n(function(root) {\n  function now() {\n    return new Date();\n  }\n\n  var force = true;\n\n  if (typeof (root._bokeh_onload_callbacks) === \"undefined\" || force === true) {\n    root._bokeh_onload_callbacks = [];\n    root._bokeh_is_loading = undefined;\n  }\n\n  \n\n  \n  if (typeof (root._bokeh_timeout) === \"undefined\" || force === true) {\n    root._bokeh_timeout = Date.now() + 5000;\n    root._bokeh_failed_load = false;\n  }\n\n  var NB_LOAD_WARNING = {'data': {'text/html':\n     \"<div style='background-color: #fdd'>\\n\"+\n     \"<p>\\n\"+\n     \"BokehJS does not appear to have successfully loaded. If loading BokehJS from CDN, this \\n\"+\n     \"may be due to a slow or bad network connection. Possible fixes:\\n\"+\n     \"</p>\\n\"+\n     \"<ul>\\n\"+\n     \"<li>re-rerun `output_notebook()` to attempt to load from CDN again, or</li>\\n\"+\n     \"<li>use INLINE resources instead, as so:</li>\\n\"+\n     \"</ul>\\n\"+\n     \"<code>\\n\"+\n     \"from bokeh.resources import INLINE\\n\"+\n     \"output_notebook(resources=INLINE)\\n\"+\n     \"</code>\\n\"+\n     \"</div>\"}};\n\n  function display_loaded() {\n    var el = document.getElementById(\"ace95105-99c8-490f-b2ce-3071ff7f8172\");\n    if (el != null) {\n      el.textContent = \"BokehJS is loading...\";\n    }\n    if (root.Bokeh !== undefined) {\n      if (el != null) {\n        el.textContent = \"BokehJS \" + root.Bokeh.version + \" successfully loaded.\";\n      }\n    } else if (Date.now() < root._bokeh_timeout) {\n      setTimeout(display_loaded, 100)\n    }\n  }\n\n\n  function run_callbacks() {\n    try {\n      root._bokeh_onload_callbacks.forEach(function(callback) { callback() });\n    }\n    finally {\n      delete root._bokeh_onload_callbacks\n    }\n    console.info(\"Bokeh: all callbacks have finished\");\n  }\n\n  function load_libs(js_urls, callback) {\n    root._bokeh_onload_callbacks.push(callback);\n    if (root._bokeh_is_loading > 0) {\n      console.log(\"Bokeh: BokehJS is being loaded, scheduling callback at\", now());\n      return null;\n    }\n    if (js_urls == null || js_urls.length === 0) {\n      run_callbacks();\n      return null;\n    }\n    console.log(\"Bokeh: BokehJS not loaded, scheduling load and callback at\", now());\n    root._bokeh_is_loading = js_urls.length;\n    for (var i = 0; i < js_urls.length; i++) {\n      var url = js_urls[i];\n      var s = document.createElement('script');\n      s.src = url;\n      s.async = false;\n      s.onreadystatechange = s.onload = function() {\n        root._bokeh_is_loading--;\n        if (root._bokeh_is_loading === 0) {\n          console.log(\"Bokeh: all BokehJS libraries loaded\");\n          run_callbacks()\n        }\n      };\n      s.onerror = function() {\n        console.warn(\"failed to load library \" + url);\n      };\n      console.log(\"Bokeh: injecting script tag for BokehJS library: \", url);\n      document.getElementsByTagName(\"head\")[0].appendChild(s);\n    }\n  };var element = document.getElementById(\"ace95105-99c8-490f-b2ce-3071ff7f8172\");\n  if (element == null) {\n    console.log(\"Bokeh: ERROR: autoload.js configured with elementid 'ace95105-99c8-490f-b2ce-3071ff7f8172' but no matching script tag was found. \")\n    return false;\n  }\n\n  var js_urls = [\"https://cdn.pydata.org/bokeh/release/bokeh-0.12.13.min.js\", \"https://cdn.pydata.org/bokeh/release/bokeh-widgets-0.12.13.min.js\", \"https://cdn.pydata.org/bokeh/release/bokeh-tables-0.12.13.min.js\", \"https://cdn.pydata.org/bokeh/release/bokeh-gl-0.12.13.min.js\"];\n\n  var inline_js = [\n    function(Bokeh) {\n      Bokeh.set_log_level(\"info\");\n    },\n    \n    function(Bokeh) {\n      \n    },\n    function(Bokeh) {\n      console.log(\"Bokeh: injecting CSS: https://cdn.pydata.org/bokeh/release/bokeh-0.12.13.min.css\");\n      Bokeh.embed.inject_css(\"https://cdn.pydata.org/bokeh/release/bokeh-0.12.13.min.css\");\n      console.log(\"Bokeh: injecting CSS: https://cdn.pydata.org/bokeh/release/bokeh-widgets-0.12.13.min.css\");\n      Bokeh.embed.inject_css(\"https://cdn.pydata.org/bokeh/release/bokeh-widgets-0.12.13.min.css\");\n      console.log(\"Bokeh: injecting CSS: https://cdn.pydata.org/bokeh/release/bokeh-tables-0.12.13.min.css\");\n      Bokeh.embed.inject_css(\"https://cdn.pydata.org/bokeh/release/bokeh-tables-0.12.13.min.css\");\n    }\n  ];\n\n  function run_inline_js() {\n    \n    if ((root.Bokeh !== undefined) || (force === true)) {\n      for (var i = 0; i < inline_js.length; i++) {\n        inline_js[i].call(root, root.Bokeh);\n      }if (force === true) {\n        display_loaded();\n      }} else if (Date.now() < root._bokeh_timeout) {\n      setTimeout(run_inline_js, 100);\n    } else if (!root._bokeh_failed_load) {\n      console.log(\"Bokeh: BokehJS failed to load within specified timeout.\");\n      root._bokeh_failed_load = true;\n    } else if (force !== true) {\n      var cell = $(document.getElementById(\"ace95105-99c8-490f-b2ce-3071ff7f8172\")).parents('.cell').data().cell;\n      cell.output_area.append_execute_result(NB_LOAD_WARNING)\n    }\n\n  }\n\n  if (root._bokeh_is_loading === 0) {\n    console.log(\"Bokeh: BokehJS loaded, going straight to plotting\");\n    run_inline_js();\n  } else {\n    load_libs(js_urls, function() {\n      console.log(\"Bokeh: BokehJS plotting callback run at\", now());\n      run_inline_js();\n    });\n  }\n}(window));"
     },
     "metadata": {},
     "output_type": "display_data"
    }
   ],
   "source": [
    "import pandas as pd\n",
    "from pandas_datareader import data as web\n",
    "\n",
    "import numpy as np\n",
    "\n",
    "import fix_yahoo_finance as yf\n",
    "\n",
    "import matplotlib.pyplot as plt\n",
    "import matplotlib.finance as mpf\n",
    "from matplotlib.finance import candlestick_ohlc\n",
    "from bokeh.plotting import figure, show, output_file, output_notebook\n",
    "output_notebook()"
   ]
  },
  {
   "cell_type": "code",
   "execution_count": 195,
   "metadata": {
    "scrolled": true
   },
   "outputs": [
    {
     "data": {
      "text/html": [
       "<div>\n",
       "<style scoped>\n",
       "    .dataframe tbody tr th:only-of-type {\n",
       "        vertical-align: middle;\n",
       "    }\n",
       "\n",
       "    .dataframe tbody tr th {\n",
       "        vertical-align: top;\n",
       "    }\n",
       "\n",
       "    .dataframe thead th {\n",
       "        text-align: right;\n",
       "    }\n",
       "</style>\n",
       "<table border=\"1\" class=\"dataframe\">\n",
       "  <thead>\n",
       "    <tr style=\"text-align: right;\">\n",
       "      <th></th>\n",
       "      <th>Open</th>\n",
       "      <th>High</th>\n",
       "      <th>Low</th>\n",
       "      <th>Close</th>\n",
       "      <th>Adj Close</th>\n",
       "      <th>Volume</th>\n",
       "      <th>Diff</th>\n",
       "    </tr>\n",
       "    <tr>\n",
       "      <th>Date</th>\n",
       "      <th></th>\n",
       "      <th></th>\n",
       "      <th></th>\n",
       "      <th></th>\n",
       "      <th></th>\n",
       "      <th></th>\n",
       "      <th></th>\n",
       "    </tr>\n",
       "  </thead>\n",
       "  <tbody>\n",
       "    <tr>\n",
       "      <th>2017-01-03</th>\n",
       "      <td>24.700001</td>\n",
       "      <td>25.240000</td>\n",
       "      <td>24.700001</td>\n",
       "      <td>25.059999</td>\n",
       "      <td>23.928623</td>\n",
       "      <td>58392946</td>\n",
       "      <td>0.359998</td>\n",
       "    </tr>\n",
       "    <tr>\n",
       "      <th>2017-01-04</th>\n",
       "      <td>25.090000</td>\n",
       "      <td>25.230000</td>\n",
       "      <td>24.879999</td>\n",
       "      <td>25.139999</td>\n",
       "      <td>24.005011</td>\n",
       "      <td>71662463</td>\n",
       "      <td>0.049999</td>\n",
       "    </tr>\n",
       "    <tr>\n",
       "      <th>2017-01-05</th>\n",
       "      <td>25.190001</td>\n",
       "      <td>25.379999</td>\n",
       "      <td>25.090000</td>\n",
       "      <td>25.260000</td>\n",
       "      <td>24.119595</td>\n",
       "      <td>63084316</td>\n",
       "      <td>0.069999</td>\n",
       "    </tr>\n",
       "    <tr>\n",
       "      <th>2017-01-06</th>\n",
       "      <td>25.200001</td>\n",
       "      <td>25.209999</td>\n",
       "      <td>24.850000</td>\n",
       "      <td>25.000000</td>\n",
       "      <td>23.871332</td>\n",
       "      <td>54112990</td>\n",
       "      <td>-0.200001</td>\n",
       "    </tr>\n",
       "    <tr>\n",
       "      <th>2017-01-09</th>\n",
       "      <td>25.000000</td>\n",
       "      <td>25.000000</td>\n",
       "      <td>24.500000</td>\n",
       "      <td>24.740000</td>\n",
       "      <td>23.623070</td>\n",
       "      <td>56230720</td>\n",
       "      <td>-0.260000</td>\n",
       "    </tr>\n",
       "  </tbody>\n",
       "</table>\n",
       "</div>"
      ],
      "text/plain": [
       "                 Open       High        Low      Close  Adj Close    Volume  \\\n",
       "Date                                                                          \n",
       "2017-01-03  24.700001  25.240000  24.700001  25.059999  23.928623  58392946   \n",
       "2017-01-04  25.090000  25.230000  24.879999  25.139999  24.005011  71662463   \n",
       "2017-01-05  25.190001  25.379999  25.090000  25.260000  24.119595  63084316   \n",
       "2017-01-06  25.200001  25.209999  24.850000  25.000000  23.871332  54112990   \n",
       "2017-01-09  25.000000  25.000000  24.500000  24.740000  23.623070  56230720   \n",
       "\n",
       "                Diff  \n",
       "Date                  \n",
       "2017-01-03  0.359998  \n",
       "2017-01-04  0.049999  \n",
       "2017-01-05  0.069999  \n",
       "2017-01-06 -0.200001  \n",
       "2017-01-09 -0.260000  "
      ]
     },
     "execution_count": 195,
     "metadata": {},
     "output_type": "execute_result"
    }
   ],
   "source": [
    "df = web.get_data_yahoo('000651.sz', start = '2017-01-01', end = '2017-12-18')\n",
    "\n",
    "#add difference between close and open at the end\n",
    "diff = df.Close - df.Open\n",
    "df['Diff'] = diff\n",
    "\n",
    "df.head()"
   ]
  },
  {
   "cell_type": "code",
   "execution_count": 196,
   "metadata": {},
   "outputs": [],
   "source": [
    "def candlestick(df, name = ''):\n",
    "    inc = df.Close > df.Open\n",
    "    dec = df.Open > df.Close\n",
    "\n",
    "    w = 12*60*60*1000 #days in ms\n",
    "\n",
    "    TOOLS = 'pan, wheel_zoom, box_zoom, reset, save'\n",
    "\n",
    "    p = figure(x_axis_type='datetime', tools = TOOLS, plot_width = 800, title = name)\n",
    "\n",
    "    #control major tick labels orientation with major_label_orientation property\n",
    "    # this property accepts vals 'horizontal' or 'vertical' or a floating point number that gives angles in radiens to rotate from horizontal\n",
    "    p.xaxis.major_label_orientation = np.pi/4\n",
    "\n",
    "    p.grid.grid_line_alpha = 0.3\n",
    "\n",
    "    #configure, add segment glyphs to the fig\n",
    "    p.segment(df.index, df.High, df.index, df.Low, color = 'red')\n",
    "\n",
    "    #add vbar glyphs to the fig\n",
    "    p.vbar(df.index[inc], w, df.Open[inc], df.Close[inc], fill_color='#1ED837', line_color='black')\n",
    "    p.vbar(df.index[dec], w, df.Open[dec], df.Close[dec], fill_color='#F2583E', line_color='black')\n",
    "\n",
    "    #generate HTML\n",
    "    #output_file('candlestick.html', title='candlestick bokeh example')\n",
    "\n",
    "    show(p)"
   ]
  },
  {
   "cell_type": "code",
   "execution_count": 197,
   "metadata": {},
   "outputs": [
    {
     "data": {
      "text/html": [
       "\n",
       "<div class=\"bk-root\">\n",
       "    <div class=\"bk-plotdiv\" id=\"eaa596da-ddd7-4fd3-97c1-19fb3aa5fd46\"></div>\n",
       "</div>"
      ]
     },
     "metadata": {},
     "output_type": "display_data"
    },
    {
     "data": {
      "application/javascript": [
       "(function(root) {\n",
       "  function embed_document(root) {\n",
       "    \n",
       "  var docs_json = {\"bf8145e6-dd5d-46dd-8c79-45ae5a3e3e69\":{\"roots\":{\"references\":[{\"attributes\":{},\"id\":\"8b4e3779-8a23-4bf0-b51a-541bc24ee6d1\",\"type\":\"DatetimeTickFormatter\"},{\"attributes\":{\"formatter\":{\"id\":\"8b4e3779-8a23-4bf0-b51a-541bc24ee6d1\",\"type\":\"DatetimeTickFormatter\"},\"major_label_orientation\":0.7853981633974483,\"plot\":{\"id\":\"2e70a41c-de6a-4a60-a040-a61923c47aa7\",\"subtype\":\"Figure\",\"type\":\"Plot\"},\"ticker\":{\"id\":\"bc805f21-6cd7-471c-9f97-8920ac777130\",\"type\":\"DatetimeTicker\"}},\"id\":\"d20b492d-2828-425a-9556-c6778bfed43f\",\"type\":\"DatetimeAxis\"},{\"attributes\":{\"plot\":null,\"text\":\"\\u683c\\u529b\"},\"id\":\"2c22505f-4a7c-42df-bbcf-94de0f309f33\",\"type\":\"Title\"},{\"attributes\":{\"below\":[{\"id\":\"d20b492d-2828-425a-9556-c6778bfed43f\",\"type\":\"DatetimeAxis\"}],\"left\":[{\"id\":\"7ad717f0-e95d-41e9-91a5-6d96710b2013\",\"type\":\"LinearAxis\"}],\"plot_width\":800,\"renderers\":[{\"id\":\"d20b492d-2828-425a-9556-c6778bfed43f\",\"type\":\"DatetimeAxis\"},{\"id\":\"17a87f47-a195-4e70-9dd5-5d1fe012ec27\",\"type\":\"Grid\"},{\"id\":\"7ad717f0-e95d-41e9-91a5-6d96710b2013\",\"type\":\"LinearAxis\"},{\"id\":\"4b62bd27-2304-46fc-b04f-be7a0fb4a8bc\",\"type\":\"Grid\"},{\"id\":\"6106dfd9-b964-412f-8298-e0f4d8a40d46\",\"type\":\"BoxAnnotation\"},{\"id\":\"5197893d-aa83-455e-8257-8fb114ad1105\",\"type\":\"GlyphRenderer\"},{\"id\":\"b4ef0513-2901-47c8-8242-5693f5396e09\",\"type\":\"GlyphRenderer\"},{\"id\":\"aca90b00-d495-4db6-875e-aa4b97beba59\",\"type\":\"GlyphRenderer\"}],\"title\":{\"id\":\"2c22505f-4a7c-42df-bbcf-94de0f309f33\",\"type\":\"Title\"},\"toolbar\":{\"id\":\"51f2ee6a-0a7c-4d5c-b358-741ba2eca50f\",\"type\":\"Toolbar\"},\"x_range\":{\"id\":\"6f3ece4e-a055-4666-a4f2-6a0b6fefcca5\",\"type\":\"DataRange1d\"},\"x_scale\":{\"id\":\"98be6389-7fc8-481e-9f65-1dfe0cc1c50f\",\"type\":\"LinearScale\"},\"y_range\":{\"id\":\"bd96e72e-b169-4397-ab5c-1107537bc5ef\",\"type\":\"DataRange1d\"},\"y_scale\":{\"id\":\"d338a894-acd0-4c25-adfd-e427dde99e62\",\"type\":\"LinearScale\"}},\"id\":\"2e70a41c-de6a-4a60-a040-a61923c47aa7\",\"subtype\":\"Figure\",\"type\":\"Plot\"},{\"attributes\":{\"callback\":null},\"id\":\"bd96e72e-b169-4397-ab5c-1107537bc5ef\",\"type\":\"DataRange1d\"},{\"attributes\":{\"source\":{\"id\":\"ebf58959-5292-44b3-9528-b164486a1ee4\",\"type\":\"ColumnDataSource\"}},\"id\":\"cb8a4f9e-bb90-4cba-8a9d-e5b9e9193b73\",\"type\":\"CDSView\"},{\"attributes\":{},\"id\":\"71313a18-0e0f-46e7-87e6-d0eb2ba37d9f\",\"type\":\"WheelZoomTool\"},{\"attributes\":{\"bottom\":{\"field\":\"bottom\"},\"fill_alpha\":{\"value\":0.1},\"fill_color\":{\"value\":\"#1f77b4\"},\"line_alpha\":{\"value\":0.1},\"line_color\":{\"value\":\"#1f77b4\"},\"top\":{\"field\":\"top\"},\"width\":{\"value\":43200000},\"x\":{\"field\":\"x\"}},\"id\":\"70612af7-efbf-4703-a364-070fe68aae60\",\"type\":\"VBar\"},{\"attributes\":{\"days\":[1,4,7,10,13,16,19,22,25,28]},\"id\":\"72b61fdb-a576-45c8-a72a-912231026d30\",\"type\":\"DaysTicker\"},{\"attributes\":{\"base\":24,\"mantissas\":[1,2,4,6,8,12],\"max_interval\":43200000.0,\"min_interval\":3600000.0,\"num_minor_ticks\":0},\"id\":\"2e63212e-d2ec-4af5-8a11-2d9db65b57dd\",\"type\":\"AdaptiveTicker\"},{\"attributes\":{},\"id\":\"d338a894-acd0-4c25-adfd-e427dde99e62\",\"type\":\"LinearScale\"},{\"attributes\":{\"callback\":null,\"column_names\":[\"x\",\"top\",\"bottom\"],\"data\":{\"bottom\":{\"__ndarray__\":\"7souGFwPOUADeXb51iM5QMP1KFyPQjlArkfhehTuOEDsUbgehSs4QFUxlX7C9ThAwHyyYrheOUBSuB6F61E5QAAAAAAAgDlA6dhBJa7HOUCamZmZmVk5QMB8smK4njlAFye+2lH4OUCamZmZmRk7QD0K16Nw/TpA16NwPQqXO0As1QW8zIw8QFK4HoXrUTxAEjXR56NwO0As1QW8zEw7QGZmZmZmJjxAexSuR+E6PEBmZmZmZmY8QFUxlX7C9TxALNUFvMxMPUDD9Shcj0I9QNejcD0KVz5AAAAAAACAPkDUKvpDMzM/QKvOaoE9ij9ALNUFvMzMPkDUKvpDMzM/QNQq+kMzsz9AAAAAAAAAQEDuyi4YXM8+QAAAAAAAQD9AAAAAAADAP0A9CtejcB1AQKqYSj/hmkBAFK5H4Xp0QEDsUbgehetAQMP1KFyPYkBAexSuR+F6P0BBuW3fo3BAQClcj8L1iEBAq85qgT3KQEAs1QW8zIxAQClcj8L16EBAwHyyYrj+QEAAAAAAAOBAQOxRuB6Fy0BAKVyPwvUIQUCrzmqBPQpBQC0LJv4o/EBAQINNnUchQUAs1QW8zExBQAAAAAAAIEJAKVyPwvXIQkAs1QW8zKxCQFZntcAeRUJAGF3eHK6nQkBWZ7XAHkVDQL9GkiBcT0NAQINNnUcBRECBPLt861FEQNejcD0Kt0RAVTGVfsKVREBAg02dR6FDQBhd3hyuh0NA0/TZAdfDREBAg02dR4FEQKvOaoE9ikRAVme1wB6FRECW6gJeZqZEQClcj8L1yENAQINNnUehQ0DXo3A9CjdDQMB8smK4PkNA16NwPQqXQ0CrzmqBPWpDQKvOaoE9CkNAw/UoXI8iQ0DUKvpDM3NDQGoV/aGZmUNA16NwPQq3Q0DUKvpDM9NDQKvOaoE9ykNAQblt36MQQ0DooiHjURhDQH/DRIMUjkJAq85qgT2qQkAAAAAAAMBCQOiiIeNR+EJAq85qgT3qQkDAfLJiuP5CQAAAAAAAoENAluoCXmZGQ0As1QW8zIxDQGoV/aGZ+UNAVTGVfsI1REDXo3A9CldEQOiiIeNRmERAGF3eHK6HREBBuW3fo1BEQMP1KFyPokRAGF3eHK7nREBBuW3fo3BFQMP1KFyP4kVAQINNnUchRUDT9NkB18NFQOiiIeNRGEZAwHyyYrjeRUBVMZV+wtVGQKqYSj/hukZAf8NEgxTuRkBqFf2hmflGQClcj8L16EZAluoCXmbmR0BAg02dR8FGQAAAAAAAAEZAFK5H4XoURUAAAAAAAEBFQOiiIeNR2ERA6KIh41G4RUBqFf2hmflFQGoV/aGZ+UVA\",\"dtype\":\"float64\",\"shape\":[126]},\"top\":{\"__ndarray__\":\"1Cr6QzOzOEDXo3A9Chc5QBI10eejMDlAPQrXo3C9OECrzmqBPco3QMP1KFyPQjhAA3l2+dbjOECF61G4HkU5QAAAAAAAQDlAAAAAAACAOUDsUbgehSs5QGZmZmZmZjlA1Cr6QzOzOUAXJ77aUfg5QGZmZmZm5jpAKVyPwvXoOkBVMZV+wnU7QJqZmZmZGTxA16NwPQoXO0Dp2EElrkc7QO7KLhhcTztA1Cr6QzMzPEB7FK5H4To8QMP1KFyPgjxAPQrXo3C9PEAUrkfhehQ9QGZmZmZmZj1AQINNnUchPkBAg02dR2E+QP2GiQYpXD9AAAAAAADAPkCrzmqBPco+QAN5dvnWoz5AA3l2+dZjP0AAAAAAAIA+QKvOaoE9yj5ALNUFvMzMPkAs1QW8zMw/QGoV/aGZGUBALNUFvMxsQEB/w0SDFE5AQMB8smK4PkBA1Cr6QzNzP0As1QW8zEw/QC0LJv4ofEBAluoCXmZmQEA9CtejcF1AQNQq+kMzk0BAluoCXmbmQEDAfLJiuN5AQAAAAAAAwEBA16NwPQrXQEApXI/C9QhBQFUxlX7C9UBAw/UoXI+iQEAs1QW8zCxBQGoV/aGZWUFAAAAAAAAAQkDUKvpDM5NCQMB8smK4PkJAf8NEgxQOQkAs1QW8zMxCQFZntcAeRUNAluoCXmZGQ0BAg02dRwFEQMP1KFyPYkRAqphKP+E6REB/w0SDFA5DQAAAAAAAQENAluoCXmamQ0DD9Shcj2JEQClcj8L1aERAwHyyYrj+Q0BqFf2hmVlEQKvOaoE9qkNA16NwPQqXQ0BWZ7XAHuVCQCzVBbzMLENAwHyyYrg+Q0BqFf2hmRlDQECDTZ1HAUNAgTy7fOvxQkApXI/C9ShDQCzVBbzMjENAqphKP+GaQ0C/RpIgXM9DQMB8smK4vkNAq85qgT0KQ0BBuW3foxBDQMP1KFyPgkJAahX9oZlZQkCrzmqBPapCQMB8smK4vkJA1Cr6QzOzQkCqmEo/4fpCQNQq+kMz80JAPQrXo3A9Q0DUKvpDM/NCQOiiIeNRWENAPQrXo3D9Q0BAg02dR+FDQGoV/aGZWURAwHyyYrh+REAAAAAAAEBEQKvOaoE9KkRAahX9oZmZREBAg02dRwFFQGoV/aGZWUVAKVyPwvXoREB/w0SDFO5EQCzVBbzMzEVAluoCXmbGRUAtCyb+KNxFQNejcD0KV0ZALNUFvMyMRkDooiHjUdhGQAAAAAAAgEZAGF3eHK7nRkAs1QW8zExGQGoV/aGZ2UVAAAAAAADAREAYXd4crudEQIE8u3zrcURAluoCXmYmRUDXo3A9CpdFQJbqAl5mhkVA\",\"dtype\":\"float64\",\"shape\":[126]},\"x\":{\"__ndarray__\":\"AADAARqWdUIAAIBnbJZ1QgAAQM2+lnVCAAAAylqYdUIAAECSm5p1QgAAAPjtmnVCAACAw5KbdUIAAIBa3Jx1QgAAQMAunXVCAAAAJoGddUIAAMBQsKF1QgAAgLYConVCAABAHFWidUIAAIBNTKN1QgAAABnxo3VCAADAfkOkdUIAAMAVjaV1QgAAQOExpnVCAADAQyCodUIAAAB1F6l1QgAAQKYOqnVCAAAADGGqdUIAAIDXBat1QgAAQD1Yq3VCAAAAOvSsdUIAAMA2kK51QgAAgJzirnVCAABAAjWvdUIAAABoh691QgAAwM3Zr3VCAADAZCOxdUIAAIDKdbF1QgAAAJYasnVCAACA+Ai0dUIAAABb97V1QgAAwMBJtnVCAADAV5O3dUIAAIC95bd1QgAAQCM4uHVCAADA7ty4dUIAAMCFJrp1QgAAQH9evXVCAAAAfPq+dUIAAMDhTL91QgAAgEefv3VCAACA3ujAdUIAAMAP4MF1QgAAAEHXwnVCAADApinDdUIAAIAMfMN1QgAAQHLOw3VCAAAA2CDEdUIAAMDUvMV1QgAAgDoPxnVCAABAN6vHdUIAAACd/cd1QgAAwAJQyHVCAADAmZnJdUIAAID/68l1QgAAAMuQynVCAAAAYtrLdUIAAIAtf8x1QgAAQJPRzHVCAAAA+SPNdUIAAEAqG851QgAAAJBtznVCAABAwWTPdUIAAAC+ANF1QgAAwLqc0nVCAACAIO/SdUIAAADsk9N1QgAAwFHm03VCAABAtNTVdUIAAEBLHtd1QgAAQOJn2HVCAABAebHZdUIAAMDbn9t1QgAAgEHy23VCAABAp0TcdUIAAACk4N11QgAAQNXX3nVCAAAAOyrfdUIAAEBsIeB1QgAAwDfG4HVCAACAnRjhdUIAAEADa+F1QgAAAAAH43VCAACAYvXkdUIAAEDIR+V1QgAAAMXj5nVCAACAkIjndUIAAED22ud1QgAAAFwt6HVCAADAWMnpdUIAAIC+G+p1QgAAQCRu6nVCAAAAIQrsdUIAAADm5u91QgAAgLGL8HVCAABAF97wdUIAAAAUevJ1QgAAwHnM8nVCAACA3x7zdUIAAIB2aPR1QgAAQNy69HVCAAAAQg31dUIAAMCnX/V1QgAAgA2y9XVCAAAAcKD3dUIAAAAH6vh1QgAAwGw8+XVCAABAOOH5dUIAAACeM/p1QgAAwJrP+3VCAACAACL8dUIAAEBmdPx1QgAAgJdr/XVCAABA/b39dUIAAIAutf51QgAAgMX+/3VCAAAAKO0BdkIAAMCNPwJ2QgAAAL82A3ZCAABA8C0EdkIAAMC70gR2QgAAgLhuBnZC\",\"dtype\":\"float64\",\"shape\":[126]}}},\"id\":\"ebf58959-5292-44b3-9528-b164486a1ee4\",\"type\":\"ColumnDataSource\"},{\"attributes\":{\"data_source\":{\"id\":\"e91d5ae8-c21d-41fb-8fa4-4e721a443aa4\",\"type\":\"ColumnDataSource\"},\"glyph\":{\"id\":\"ccf16949-ea01-4e2f-8242-4b2c48304391\",\"type\":\"VBar\"},\"hover_glyph\":null,\"muted_glyph\":null,\"nonselection_glyph\":{\"id\":\"70612af7-efbf-4703-a364-070fe68aae60\",\"type\":\"VBar\"},\"selection_glyph\":null,\"view\":{\"id\":\"cb1711df-9a58-4e70-8771-51e34e6d48a6\",\"type\":\"CDSView\"}},\"id\":\"aca90b00-d495-4db6-875e-aa4b97beba59\",\"type\":\"GlyphRenderer\"},{\"attributes\":{},\"id\":\"b86337ea-6342-44f0-8d37-0fddd8587503\",\"type\":\"BasicTickFormatter\"},{\"attributes\":{\"grid_line_alpha\":{\"value\":0.3},\"plot\":{\"id\":\"2e70a41c-de6a-4a60-a040-a61923c47aa7\",\"subtype\":\"Figure\",\"type\":\"Plot\"},\"ticker\":{\"id\":\"bc805f21-6cd7-471c-9f97-8920ac777130\",\"type\":\"DatetimeTicker\"}},\"id\":\"17a87f47-a195-4e70-9dd5-5d1fe012ec27\",\"type\":\"Grid\"},{\"attributes\":{\"days\":[1,2,3,4,5,6,7,8,9,10,11,12,13,14,15,16,17,18,19,20,21,22,23,24,25,26,27,28,29,30,31]},\"id\":\"049e8d6e-dd6c-4364-881b-cbb2b4287aae\",\"type\":\"DaysTicker\"},{\"attributes\":{\"num_minor_ticks\":5,\"tickers\":[{\"id\":\"b33c686a-56ef-43f5-a701-b8db07c1425b\",\"type\":\"AdaptiveTicker\"},{\"id\":\"3b5e3ded-424a-4b5d-92d4-7e8b111a1a5f\",\"type\":\"AdaptiveTicker\"},{\"id\":\"2e63212e-d2ec-4af5-8a11-2d9db65b57dd\",\"type\":\"AdaptiveTicker\"},{\"id\":\"049e8d6e-dd6c-4364-881b-cbb2b4287aae\",\"type\":\"DaysTicker\"},{\"id\":\"72b61fdb-a576-45c8-a72a-912231026d30\",\"type\":\"DaysTicker\"},{\"id\":\"9875e6e4-67b5-40ef-9c23-c3204559ef85\",\"type\":\"DaysTicker\"},{\"id\":\"94f3041d-e65e-4744-a9f2-246e91527b9d\",\"type\":\"DaysTicker\"},{\"id\":\"744f9d2e-5380-4d0c-b02c-45426543ef73\",\"type\":\"MonthsTicker\"},{\"id\":\"12db862d-b342-4848-bb07-521ebf9902e1\",\"type\":\"MonthsTicker\"},{\"id\":\"f6bafb8a-dde7-41b5-92e5-bc6e789bb504\",\"type\":\"MonthsTicker\"},{\"id\":\"20a0403c-7004-481d-84a5-40b17aaf0e21\",\"type\":\"MonthsTicker\"},{\"id\":\"cbdbeeb6-f6aa-4357-9641-a882aff07d39\",\"type\":\"YearsTicker\"}]},\"id\":\"bc805f21-6cd7-471c-9f97-8920ac777130\",\"type\":\"DatetimeTicker\"},{\"attributes\":{\"formatter\":{\"id\":\"b86337ea-6342-44f0-8d37-0fddd8587503\",\"type\":\"BasicTickFormatter\"},\"plot\":{\"id\":\"2e70a41c-de6a-4a60-a040-a61923c47aa7\",\"subtype\":\"Figure\",\"type\":\"Plot\"},\"ticker\":{\"id\":\"0eba61a5-ce37-4835-8cbc-ffcd2ae4becf\",\"type\":\"BasicTicker\"}},\"id\":\"7ad717f0-e95d-41e9-91a5-6d96710b2013\",\"type\":\"LinearAxis\"},{\"attributes\":{\"bottom\":{\"field\":\"bottom\"},\"fill_color\":{\"value\":\"#1ED837\"},\"top\":{\"field\":\"top\"},\"width\":{\"value\":43200000},\"x\":{\"field\":\"x\"}},\"id\":\"6d9571de-df9e-4dd8-9eba-56f5042b8fab\",\"type\":\"VBar\"},{\"attributes\":{\"base\":60,\"mantissas\":[1,2,5,10,15,20,30],\"max_interval\":1800000.0,\"min_interval\":1000.0,\"num_minor_ticks\":0},\"id\":\"3b5e3ded-424a-4b5d-92d4-7e8b111a1a5f\",\"type\":\"AdaptiveTicker\"},{\"attributes\":{\"months\":[0,6]},\"id\":\"20a0403c-7004-481d-84a5-40b17aaf0e21\",\"type\":\"MonthsTicker\"},{\"attributes\":{\"source\":{\"id\":\"e91d5ae8-c21d-41fb-8fa4-4e721a443aa4\",\"type\":\"ColumnDataSource\"}},\"id\":\"cb1711df-9a58-4e70-8771-51e34e6d48a6\",\"type\":\"CDSView\"},{\"attributes\":{\"days\":[1,8,15,22]},\"id\":\"9875e6e4-67b5-40ef-9c23-c3204559ef85\",\"type\":\"DaysTicker\"},{\"attributes\":{},\"id\":\"98be6389-7fc8-481e-9f65-1dfe0cc1c50f\",\"type\":\"LinearScale\"},{\"attributes\":{\"callback\":null},\"id\":\"6f3ece4e-a055-4666-a4f2-6a0b6fefcca5\",\"type\":\"DataRange1d\"},{\"attributes\":{\"callback\":null,\"column_names\":[\"x\",\"top\",\"bottom\"],\"data\":{\"bottom\":{\"__ndarray__\":\"AAAAAAAAOUA9CtejcL04QK5H4XoUrjhA7souGFxPOEApXI/C9Sg4QKvOaoE9yjdAQINNnUfhOEDp2EElrkc5QAN5dvnWYzlAw/UoXI9COUBAg02dRyE5QGZmZmZm5jpAKVyPwvVoO0A9CtejcD08QClcj8L16DtAmpmZmZnZO0BAg02dRyE7QFUxlX7CdTtA7souGFxPO0DXo3A9Chc8QMB8smK43jxAVTGVfsK1PEB7FK5H4To9QO7KLhhczzxAVTGVfsK1PkAXJ77aUbg+QFUxlX7CdT9A7souGFzPP0CF61G4HoU/QBSuR+F61D5ArkfhehSuPkDD9Shcj4JAQECDTZ1HQUBA16NwPQq3QECrzmqBPcpAQAAAAAAAgEBALQsm/ih8QEDUKvpDM1NAQK5H4XoUrj9AKVyPwvUoP0DT9NkB14NAQFUxlX7CdUBAgTy7fOtRQEAAAAAAAMBAQMP1KFyPokBAVme1wB4FQkDXo3A9CjdCQMB8smK4/kFAGF3eHK6nQkB/w0SDFC5EQAAAAAAAQERAwHyyYrg+REC/RpIgXO9DQGoV/aGZmUNAFK5H4Xo0Q0BWZ7XAHmVEQBhd3hyuh0RAPQrXo3AdREDAfLJiuP5DQKqYSj/hWkRAw/UoXI+CREAAAAAAAABEQNQq+kMzc0NAwHyyYrieQ0DD9Shcj4JDQKvOaoE9KkNAVme1wB7lQkApXI/C9WhDQBSuR+F6FENAq85qgT1KQ0BVMZV+wvVCQBhd3hyuh0NAKVyPwvXoQ0BBuW3fo7BDQNQq+kMzU0NAf8NEgxQOQ0CW6gJeZuZCQOxRuB6Fi0JAahX9oZlZQkBWZ7XAHqVCQNejcD0Kd0NA1Cr6QzMzQ0DUKvpDM/NCQNQq+kMz80JAVme1wB5lQ0DD9ShcjyJEQAAAAAAAwENAAAAAAABAREAAAAAAAOBFQJbqAl5mRkVAluoCXmbmRECrzmqBPepEQNP02QHXw0VAgTy7fOvRRkB/w0SDFG5GQH/DRIMUrkdAQINNnUeBRkBWZ7XAHgVGQNQq+kMzM0VAahX9oZk5RUBBuW3fo9BEQGoV/aGZ+URAluoCXmZmREDD9Shcj4JFQC0LJv4o3EVAf8NEgxSORUA=\",\"dtype\":\"float64\",\"shape\":[106]},\"top\":{\"__ndarray__\":\"1Cr6QzMzOUAAAAAAAAA5QP2GiQYp3DhAwHyyYrieOEDAfLJiuF44QClcj8L1KDhAAAAAAAAAOUDD9Shcj4I5QOnYQSWuxzlAQINNnUdhOUB7FK5H4To5QCzVBbzMTDtA1Cr6QzOzO0B7FK5H4Xo8QO7KLhhcTzxAFye+2lH4O0As1QW8zMw7QAAAAAAAgDtAAAAAAACAO0CF61G4HkU8QAAAAAAAAD1AQINNnUfhPEADeXb51mM9QBcnvtpROD1Aw/UoXI+CP0AUrkfhehQ/QNQq+kMzsz9ArkfhehTuP0Duyi4YXM8/QClcj8L1aD9APQrXo3A9P0A9CtejcJ1AQJbqAl5mZkBAAAAAAAAAQUAUrkfhetRAQBSuR+F61EBAAAAAAACAQEA9CtejcH1AQCzVBbzMTEBALNUFvMyMP0ApXI/C9YhAQFUxlX7CtUBAahX9oZlZQEDT9NkB1wNBQL9GkiBcr0BAAAAAAAAgQkC/RpIgXK9CQOiiIeNROEJAahX9oZnZQkBWZ7XAHqVEQBSuR+F6VERAluoCXmamREAAAAAAAEBEQNQq+kMzs0NA1Cr6QzNzQ0DT9NkB18NEQKvOaoE9ikRALNUFvMxMREAAAAAAAABEQAAAAAAAgERAVme1wB6lREBWZ7XAHoVEQNQq+kMz80NAQblt36PQQ0BAg02dR6FDQAAAAAAAgENAq85qgT0qQ0DXo3A9CpdDQCzVBbzMLENAf8NEgxRuQ0A9CtejcD1DQH/DRIMUjkNAVme1wB4FREAUrkfhevRDQL9GkiBcD0RAVTGVfsJVQ0CW6gJeZgZDQGoV/aGZ2UJALNUFvMyMQkAAAAAAAABDQGoV/aGZmUNAFK5H4Xp0Q0CW6gJeZkZDQOiiIeNR+EJA0/TZAdejQ0BqFf2hmTlEQMP1KFyPIkRAVTGVfsJ1REDUKvpDM/NFQJbqAl5m5kVALNUFvMxMRUDD9ShcjyJFQFUxlX7CFUZAqphKP+H6RkAtCyb+KLxGQH/DRIMU7kdAQINNnUeBR0BqFf2hmXlGQNQq+kMzE0ZAAAAAAABARUDD9Shcj0JFQNQq+kMzM0VA0/TZAdfjREAs1QW8zMxFQAAAAAAAAEZAqphKP+HaRUA=\",\"dtype\":\"float64\",\"shape\":[106]},\"x\":{\"__ndarray__\":\"AAAAMxGXdUIAAEBkCJh1QgAAwC+tmHVCAACAlf+YdUIAAED7UZl1QgAAgCxJmnVCAADAXUCbdUIAAMD0iZx1QgAAAFQUoHVCAABAhQuhdUIAAADrXaF1QgAAQLOeo3VCAACA5JWkdUIAAIB736V1QgAAAEeEpnVCAADArNamdUIAAADezad1QgAAgKlyqHVCAABAD8WodUIAAMBxs6p1QgAAgG5PrHVCAABA1KGsdUIAAMCfRq11QgAAgAWZrXVCAAAA/9CwdUIAAEAwyLF1QgAAwJK2s3VCAABAXlu0dUIAAICPUrV1QgAAQPWktXVCAACAJpy2dUIAAACJirh1QgAAACDUuXVCAACA63i6dUIAAEBRy7p1QgAAALcdu3VCAAAATme8dUIAAMCzubx1QgAAgLBVvnVCAABAFqi+dUIAAMB4lsB1QgAAQEQ7wXVCAAAAqo3BdUIAAECgYcZ1QgAAgNFYx3VCAACAaKLIdUIAAEBlPsp1QgAAwDDjynVCAADAxyzMdUIAAMD1v851QgAAgFsSz3VCAACA8lvQdUIAAEBYrtB1QgAAwCNT0XVCAACAiaXRdUIAAECGQdN1QgAAAIPd1HVCAADA6C/VdUIAAIBOgtV1QgAAABon1nVCAAAAsXDXdUIAAMAWw9d1QgAAgHwV2HVCAACAE1/ZdUIAAADfA9p1QgAAwERW2nVCAACAqqjadUIAAAANl9x1QgAAwHLp3HVCAADACTPedUIAAIBvhd51QgAAANJz4HVCAACANGLidUIAAECatOJ1QgAAwGVZ43VCAACAy6vjdUIAAAAumuV1QgAAwJPs5XVCAADAKjbndUIAAADzdul1QgAAgFVl63VCAABAu7frdUIAAMCGXOx1QgAAgOyu7HVCAADASznwdUIAAAB9MPF1QgAAQK4n8nVCAABARXHzdUIAAMA+qfZ1QgAAgKT79nVCAABACk73dUIAAMDV8vd1QgAAgNKO+XVCAABAzyr7dUIAAAA1fft1QgAAAGMQ/nVCAADAyGL+dUIAAMBfrP91QgAAQCtRAHZCAAAAkaMAdkIAAMD29QB2QgAAgPORAnZCAABAWeQCdkIAAABWgAR2QgAAgCElBXZCAABAh3cFdkI=\",\"dtype\":\"float64\",\"shape\":[106]}}},\"id\":\"e91d5ae8-c21d-41fb-8fa4-4e721a443aa4\",\"type\":\"ColumnDataSource\"},{\"attributes\":{\"bottom_units\":\"screen\",\"fill_alpha\":{\"value\":0.5},\"fill_color\":{\"value\":\"lightgrey\"},\"left_units\":\"screen\",\"level\":\"overlay\",\"line_alpha\":{\"value\":1.0},\"line_color\":{\"value\":\"black\"},\"line_dash\":[4,4],\"line_width\":{\"value\":2},\"plot\":null,\"render_mode\":\"css\",\"right_units\":\"screen\",\"top_units\":\"screen\"},\"id\":\"6106dfd9-b964-412f-8298-e0f4d8a40d46\",\"type\":\"BoxAnnotation\"},{\"attributes\":{},\"id\":\"bb3237bd-dac6-43aa-8aa4-70386f80ddec\",\"type\":\"PanTool\"},{\"attributes\":{\"data_source\":{\"id\":\"b1639c45-1bcb-4989-ab14-4f3c8742837b\",\"type\":\"ColumnDataSource\"},\"glyph\":{\"id\":\"81b4e478-54fb-49b0-8752-2b7f1bb30299\",\"type\":\"Segment\"},\"hover_glyph\":null,\"muted_glyph\":null,\"nonselection_glyph\":{\"id\":\"af1487bb-0833-4844-bd18-fe2adfcba63d\",\"type\":\"Segment\"},\"selection_glyph\":null,\"view\":{\"id\":\"c656f2fe-5cc9-48dd-907c-4a0a9004de1c\",\"type\":\"CDSView\"}},\"id\":\"5197893d-aa83-455e-8257-8fb114ad1105\",\"type\":\"GlyphRenderer\"},{\"attributes\":{\"line_alpha\":{\"value\":0.1},\"line_color\":{\"value\":\"#1f77b4\"},\"x0\":{\"field\":\"x0\"},\"x1\":{\"field\":\"x1\"},\"y0\":{\"field\":\"y0\"},\"y1\":{\"field\":\"y1\"}},\"id\":\"af1487bb-0833-4844-bd18-fe2adfcba63d\",\"type\":\"Segment\"},{\"attributes\":{\"active_drag\":\"auto\",\"active_inspect\":\"auto\",\"active_scroll\":\"auto\",\"active_tap\":\"auto\",\"tools\":[{\"id\":\"bb3237bd-dac6-43aa-8aa4-70386f80ddec\",\"type\":\"PanTool\"},{\"id\":\"71313a18-0e0f-46e7-87e6-d0eb2ba37d9f\",\"type\":\"WheelZoomTool\"},{\"id\":\"9889a251-83de-4d6c-842c-b350baf90bc1\",\"type\":\"BoxZoomTool\"},{\"id\":\"727ffa56-0143-4471-a25e-50680293ecb5\",\"type\":\"ResetTool\"},{\"id\":\"2bb9598b-1936-4df5-8d77-d71ccca5bd29\",\"type\":\"SaveTool\"}]},\"id\":\"51f2ee6a-0a7c-4d5c-b358-741ba2eca50f\",\"type\":\"Toolbar\"},{\"attributes\":{\"data_source\":{\"id\":\"ebf58959-5292-44b3-9528-b164486a1ee4\",\"type\":\"ColumnDataSource\"},\"glyph\":{\"id\":\"6d9571de-df9e-4dd8-9eba-56f5042b8fab\",\"type\":\"VBar\"},\"hover_glyph\":null,\"muted_glyph\":null,\"nonselection_glyph\":{\"id\":\"b015aa15-c073-4e8b-9a1a-3ff41ebe48ae\",\"type\":\"VBar\"},\"selection_glyph\":null,\"view\":{\"id\":\"cb8a4f9e-bb90-4cba-8a9d-e5b9e9193b73\",\"type\":\"CDSView\"}},\"id\":\"b4ef0513-2901-47c8-8242-5693f5396e09\",\"type\":\"GlyphRenderer\"},{\"attributes\":{\"bottom\":{\"field\":\"bottom\"},\"fill_color\":{\"value\":\"#F2583E\"},\"top\":{\"field\":\"top\"},\"width\":{\"value\":43200000},\"x\":{\"field\":\"x\"}},\"id\":\"ccf16949-ea01-4e2f-8242-4b2c48304391\",\"type\":\"VBar\"},{\"attributes\":{},\"id\":\"727ffa56-0143-4471-a25e-50680293ecb5\",\"type\":\"ResetTool\"},{\"attributes\":{\"months\":[0,4,8]},\"id\":\"f6bafb8a-dde7-41b5-92e5-bc6e789bb504\",\"type\":\"MonthsTicker\"},{\"attributes\":{\"bottom\":{\"field\":\"bottom\"},\"fill_alpha\":{\"value\":0.1},\"fill_color\":{\"value\":\"#1f77b4\"},\"line_alpha\":{\"value\":0.1},\"line_color\":{\"value\":\"#1f77b4\"},\"top\":{\"field\":\"top\"},\"width\":{\"value\":43200000},\"x\":{\"field\":\"x\"}},\"id\":\"b015aa15-c073-4e8b-9a1a-3ff41ebe48ae\",\"type\":\"VBar\"},{\"attributes\":{\"dimension\":1,\"grid_line_alpha\":{\"value\":0.3},\"plot\":{\"id\":\"2e70a41c-de6a-4a60-a040-a61923c47aa7\",\"subtype\":\"Figure\",\"type\":\"Plot\"},\"ticker\":{\"id\":\"0eba61a5-ce37-4835-8cbc-ffcd2ae4becf\",\"type\":\"BasicTicker\"}},\"id\":\"4b62bd27-2304-46fc-b04f-be7a0fb4a8bc\",\"type\":\"Grid\"},{\"attributes\":{\"source\":{\"id\":\"b1639c45-1bcb-4989-ab14-4f3c8742837b\",\"type\":\"ColumnDataSource\"}},\"id\":\"c656f2fe-5cc9-48dd-907c-4a0a9004de1c\",\"type\":\"CDSView\"},{\"attributes\":{},\"id\":\"cbdbeeb6-f6aa-4357-9641-a882aff07d39\",\"type\":\"YearsTicker\"},{\"attributes\":{\"mantissas\":[1,2,5],\"max_interval\":500.0,\"num_minor_ticks\":0},\"id\":\"b33c686a-56ef-43f5-a701-b8db07c1425b\",\"type\":\"AdaptiveTicker\"},{\"attributes\":{\"months\":[0,1,2,3,4,5,6,7,8,9,10,11]},\"id\":\"744f9d2e-5380-4d0c-b02c-45426543ef73\",\"type\":\"MonthsTicker\"},{\"attributes\":{},\"id\":\"0eba61a5-ce37-4835-8cbc-ffcd2ae4becf\",\"type\":\"BasicTicker\"},{\"attributes\":{\"days\":[1,15]},\"id\":\"94f3041d-e65e-4744-a9f2-246e91527b9d\",\"type\":\"DaysTicker\"},{\"attributes\":{\"callback\":null,\"column_names\":[\"x0\",\"y0\",\"x1\",\"y1\"],\"data\":{\"x0\":{\"__ndarray__\":\"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\",\"dtype\":\"float64\",\"shape\":[235]},\"x1\":{\"__ndarray__\":\"AADAARqWdUIAAIBnbJZ1QgAAQM2+lnVCAAAAMxGXdUIAAEBkCJh1QgAAAMpamHVCAADAL62YdUIAAICV/5h1QgAAQPtRmXVCAACALEmadUIAAECSm5p1QgAAAPjtmnVCAADAXUCbdUIAAIDDkpt1QgAAwPSJnHVCAACAWtycdUIAAEDALp11QgAAACaBnXVCAAAAVBSgdUIAAECFC6F1QgAAAOtdoXVCAADAULChdUIAAIC2AqJ1QgAAQBxVonVCAACATUyjdUIAAECznqN1QgAAABnxo3VCAADAfkOkdUIAAIDklaR1QgAAwBWNpXVCAACAe9+ldUIAAEDhMaZ1QgAAAEeEpnVCAADArNamdUIAAADezad1QgAAwEMgqHVCAACAqXKodUIAAEAPxah1QgAAAHUXqXVCAABApg6qdUIAAAAMYap1QgAAwHGzqnVCAACA1wWrdUIAAEA9WKt1QgAAgG5PrHVCAABA1KGsdUIAAAA69Kx1QgAAwJ9GrXVCAACABZmtdUIAAMA2kK51QgAAgJzirnVCAABAAjWvdUIAAABoh691QgAAwM3Zr3VCAAAA/9CwdUIAAMBkI7F1QgAAgMp1sXVCAABAMMixdUIAAACWGrJ1QgAAwJK2s3VCAACA+Ai0dUIAAEBeW7R1QgAAgI9StXVCAABA9aS1dUIAAABb97V1QgAAwMBJtnVCAACAJpy2dUIAAMBXk7d1QgAAgL3lt3VCAABAIzi4dUIAAACJirh1QgAAwO7cuHVCAAAAINS5dUIAAMCFJrp1QgAAgOt4unVCAABAUcu6dUIAAAC3Hbt1QgAAAE5nvHVCAADAs7m8dUIAAIAZDL11QgAAQH9evXVCAACAsFW+dUIAAEAWqL51QgAAAHz6vnVCAADA4Uy/dUIAAIBHn791QgAAwHiWwHVCAACA3ujAdUIAAEBEO8F1QgAAAKqNwXVCAADAD+DBdUIAAABB18J1QgAAwKYpw3VCAACADHzDdUIAAEByzsN1QgAAANggxHVCAADA1LzFdUIAAIA6D8Z1QgAAQKBhxnVCAACA0VjHdUIAAEA3q8d1QgAAAJ39x3VCAADAAlDIdUIAAIBoosh1QgAAwJmZyXVCAACA/+vJdUIAAEBlPsp1QgAAAMuQynVCAADAMOPKdUIAAABi2st1QgAAwMcszHVCAACALX/MdUIAAECT0cx1QgAAAPkjzXVCAABAKhvOdUIAAACQbc51QgAAwPW/znVCAACAWxLPdUIAAEDBZM91QgAAgPJb0HVCAABAWK7QdUIAAAC+ANF1QgAAwCNT0XVCAACAiaXRdUIAAMC6nNJ1QgAAgCDv0nVCAABAhkHTdUIAAADsk9N1QgAAwFHm03VCAAAAg93UdUIAAMDoL9V1QgAAgE6C1XVCAABAtNTVdUIAAAAaJ9Z1QgAAQEse13VCAAAAsXDXdUIAAMAWw9d1QgAAgHwV2HVCAABA4mfYdUIAAIATX9l1QgAAQHmx2XVCAAAA3wPadUIAAMBEVtp1QgAAgKqo2nVCAADA25/bdUIAAIBB8tt1QgAAQKdE3HVCAAAADZfcdUIAAMBy6dx1QgAAAKTg3XVCAADACTPedUIAAIBvhd51QgAAQNXX3nVCAAAAOyrfdUIAAEBsIeB1QgAAANJz4HVCAADAN8bgdUIAAICdGOF1QgAAQANr4XVCAACANGLidUIAAECatOJ1QgAAAAAH43VCAADAZVnjdUIAAIDLq+N1QgAAwPyi5HVCAACAYvXkdUIAAEDIR+V1QgAAAC6a5XVCAADAk+zldUIAAADF4+Z1QgAAwCo253VCAACAkIjndUIAAED22ud1QgAAAFwt6HVCAABAjSTpdUIAAADzdul1QgAAwFjJ6XVCAACAvhvqdUIAAEAkbup1QgAAgFVl63VCAABAu7frdUIAAAAhCux1QgAAwIZc7HVCAACA7K7sdUIAAADm5u91QgAAwEs58HVCAACAsYvwdUIAAEAX3vB1QgAAAH0w8XVCAABArifydUIAAAAUevJ1QgAAwHnM8nVCAACA3x7zdUIAAEBFcfN1QgAAgHZo9HVCAABA3Lr0dUIAAABCDfV1QgAAwKdf9XVCAACADbL1dUIAAMA+qfZ1QgAAgKT79nVCAABACk73dUIAAABwoPd1QgAAwNXy93VCAAAAB+r4dUIAAMBsPPl1QgAAgNKO+XVCAABAOOH5dUIAAACeM/p1QgAAQM8q+3VCAAAANX37dUIAAMCaz/t1QgAAgAAi/HVCAABAZnT8dUIAAICXa/11QgAAQP29/XVCAAAAYxD+dUIAAMDIYv51QgAAgC61/nVCAADAX6z/dUIAAIDF/v91QgAAQCtRAHZCAAAAkaMAdkIAAMD29QB2QgAAACjtAXZCAADAjT8CdkIAAIDzkQJ2QgAAQFnkAnZCAAAAvzYDdkIAAEDwLQR2QgAAAFaABHZCAADAu9IEdkIAAIAhJQV2QgAAQId3BXZCAACAuG4GdkI=\",\"dtype\":\"float64\",\"shape\":[235]},\"y0\":{\"__ndarray__\":\"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\",\"dtype\":\"float64\",\"shape\":[235]},\"y1\":{\"__ndarray__\":\"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\",\"dtype\":\"float64\",\"shape\":[235]}}},\"id\":\"b1639c45-1bcb-4989-ab14-4f3c8742837b\",\"type\":\"ColumnDataSource\"},{\"attributes\":{\"overlay\":{\"id\":\"6106dfd9-b964-412f-8298-e0f4d8a40d46\",\"type\":\"BoxAnnotation\"}},\"id\":\"9889a251-83de-4d6c-842c-b350baf90bc1\",\"type\":\"BoxZoomTool\"},{\"attributes\":{},\"id\":\"2bb9598b-1936-4df5-8d77-d71ccca5bd29\",\"type\":\"SaveTool\"},{\"attributes\":{\"months\":[0,2,4,6,8,10]},\"id\":\"12db862d-b342-4848-bb07-521ebf9902e1\",\"type\":\"MonthsTicker\"},{\"attributes\":{\"line_color\":{\"value\":\"red\"},\"x0\":{\"field\":\"x0\"},\"x1\":{\"field\":\"x1\"},\"y0\":{\"field\":\"y0\"},\"y1\":{\"field\":\"y1\"}},\"id\":\"81b4e478-54fb-49b0-8752-2b7f1bb30299\",\"type\":\"Segment\"}],\"root_ids\":[\"2e70a41c-de6a-4a60-a040-a61923c47aa7\"]},\"title\":\"Bokeh Application\",\"version\":\"0.12.13\"}};\n",
       "  var render_items = [{\"docid\":\"bf8145e6-dd5d-46dd-8c79-45ae5a3e3e69\",\"elementid\":\"eaa596da-ddd7-4fd3-97c1-19fb3aa5fd46\",\"modelid\":\"2e70a41c-de6a-4a60-a040-a61923c47aa7\"}];\n",
       "  root.Bokeh.embed.embed_items_notebook(docs_json, render_items);\n",
       "\n",
       "  }\n",
       "  if (root.Bokeh !== undefined) {\n",
       "    embed_document(root);\n",
       "  } else {\n",
       "    var attempts = 0;\n",
       "    var timer = setInterval(function(root) {\n",
       "      if (root.Bokeh !== undefined) {\n",
       "        embed_document(root);\n",
       "        clearInterval(timer);\n",
       "      }\n",
       "      attempts++;\n",
       "      if (attempts > 100) {\n",
       "        console.log(\"Bokeh: ERROR: Unable to run BokehJS code because BokehJS library is missing\")\n",
       "        clearInterval(timer);\n",
       "      }\n",
       "    }, 10, root)\n",
       "  }\n",
       "})(window);"
      ],
      "application/vnd.bokehjs_exec.v0+json": ""
     },
     "metadata": {
      "application/vnd.bokehjs_exec.v0+json": {
       "id": "2e70a41c-de6a-4a60-a040-a61923c47aa7"
      }
     },
     "output_type": "display_data"
    }
   ],
   "source": [
    "candlestick(df, '格力')"
   ]
  },
  {
   "cell_type": "markdown",
   "metadata": {},
   "source": [
    "# Candlestick trading strategy\n",
    "## Rules for 'Long' or buying on the fourth day\n",
    "1. The body of the most recent candle must be greater than the body of the previous two candles irrespective of the color of the candle.\n",
    "2. The second daily candle must be 'red'\n",
    "3. The 'close' of the most recent candle must be more than the close of the second daily candle.\n",
    "4. You will __buy__ on the morning of the fourth day when the trading starts and __sell__ before the market closes."
   ]
  },
  {
   "cell_type": "markdown",
   "metadata": {},
   "source": [
    "## Rules for 'Short' or selling on the fourth day\n",
    "1. The body of the most recent candle must be greater than the body of the previous two candles irrespective of the color of the candle.\n",
    "2. The second daily candle must be 'green'.\n",
    "3. The 'close' of the most recent candle must be less than the close of the second daily candle.\n",
    "4. You will __sell__ on the morning of the fourth day when the trading starts and __buy__ before the market closes."
   ]
  },
  {
   "cell_type": "code",
   "execution_count": 156,
   "metadata": {},
   "outputs": [],
   "source": [
    "def candlestickStrat(Stock, noOfStocks, Start, End):\n",
    "    df = web.get_data_yahoo(Stock, start = Start, end = End)\n",
    "\n",
    "    #add difference between close and open at the end\n",
    "    diff = df.Close - df.Open\n",
    "    df['Diff'] = diff\n",
    "\n",
    "    originalFund = 0\n",
    "    noOfStocks = 100\n",
    "    earnings = 0\n",
    "\n",
    "    print('number of stocks: ' + str(noOfStocks))\n",
    "    for i in range(2,len(df)-1):\n",
    "        if df.iloc[i].Diff > df.iloc[i-1].Diff and df.iloc[i].Diff > df.iloc[i-2].Diff:# 1st condition\n",
    "            #print(str(df.iloc[i].Diff) + ' > ' + str(df.iloc[i-1].Diff) + \" and \" + str(df.iloc[i-2].Diff))\n",
    "            if df.iloc[i-1].Diff < 0: # 2nd condition\n",
    "                #print(str(df.iloc[i-1].Diff))\n",
    "                if df.iloc[i].Close < df.iloc[i-1].Close: # 3rd condition\n",
    "                    #print(str(df.iloc[i].Close) + \" < \" + str(df.iloc[i-1].Close))\n",
    "                    print('\\n' + str(df.iloc[i].name.date()))\n",
    "                    if originalFund == 0:\n",
    "                        originalFund = noOfStocks * df.iloc[i+1].Open\n",
    "                        print('Next day open price: ' + str(df.iloc[i+1].Open))\n",
    "                        print('investment: ' + str(originalFund))\n",
    "                    print(\"difference:\" + str(df.iloc[i+1].Close - df.iloc[i+1].Open))\n",
    "                    print('Daily earning: ' + str((df.iloc[i+1].Close - df.iloc[i+1].Open)*noOfStocks))\n",
    "                    earnings += noOfStocks * (df.iloc[i+1].Close - df.iloc[i+1].Open)\n",
    "                    print('accumulative earning: ' + str(earnings))\n",
    "    print('earning percentage: ' + str(earnings/originalFund*100) + '%')\n",
    "    #    print(df.loc[i,:])\n",
    "    return(df)"
   ]
  },
  {
   "cell_type": "code",
   "execution_count": 157,
   "metadata": {},
   "outputs": [
    {
     "name": "stdout",
     "output_type": "stream",
     "text": [
      "number of stocks: 100\n",
      "\n",
      "2017-04-12\n",
      "Next day open price: 30.790001\n",
      "investment: 3079.0001\n",
      "difference:0.459999\n",
      "Daily earning: 45.9999\n",
      "accumulative earning: 45.9999\n",
      "\n",
      "2017-05-02\n",
      "difference:-0.329998\n",
      "Daily earning: -32.9998\n",
      "accumulative earning: 13.0001\n",
      "\n",
      "2017-07-05\n",
      "difference:-0.200001\n",
      "Daily earning: -20.0001\n",
      "accumulative earning: -7.0\n",
      "\n",
      "2017-07-19\n",
      "difference:1.049999\n",
      "Daily earning: 104.9999\n",
      "accumulative earning: 97.9999\n",
      "\n",
      "2017-09-04\n",
      "difference:0.049999\n",
      "Daily earning: 4.9999\n",
      "accumulative earning: 102.9998\n",
      "earning percentage: 3.34523535741%\n"
     ]
    }
   ],
   "source": [
    "gree = candlestickStrat('000651.sz', 100, '2017-03-08', '2018-01-28')"
   ]
  },
  {
   "cell_type": "markdown",
   "metadata": {},
   "source": [
    "100 stocks  \n",
    "2017-03-08 price:28.35  \n",
    "2018-01-26 price: 57.40  "
   ]
  },
  {
   "cell_type": "code",
   "execution_count": 153,
   "metadata": {},
   "outputs": [
    {
     "name": "stdout",
     "output_type": "stream",
     "text": [
      "earning: 102.46913580246913%\n"
     ]
    }
   ],
   "source": [
    "print(\"earning: \" + str((57.40-28.35)*100/(28.35*100) * 100) + '%')"
   ]
  },
  {
   "cell_type": "code",
   "execution_count": 199,
   "metadata": {},
   "outputs": [
    {
     "name": "stdout",
     "output_type": "stream",
     "text": [
      "number of stocks: 100\n",
      "\n",
      "2017-03-30\n",
      "Next day open price: 34.75\n",
      "investment: 3475.0\n",
      "difference:0.349998\n",
      "Daily earning: 34.9998\n",
      "accumulative earning: 34.9998\n",
      "\n",
      "2017-05-08\n",
      "difference:-0.9\n",
      "Daily earning: -90.0\n",
      "accumulative earning: -55.0002\n",
      "\n",
      "2017-05-11\n",
      "difference:0.429998\n",
      "Daily earning: 42.9998\n",
      "accumulative earning: -12.0004\n",
      "\n",
      "2017-10-18\n",
      "difference:-0.360001\n",
      "Daily earning: -36.0001\n",
      "accumulative earning: -48.0005\n",
      "\n",
      "2017-11-27\n",
      "difference:5.0\n",
      "Daily earning: 500.0\n",
      "accumulative earning: 451.9995\n",
      "\n",
      "2017-12-28\n",
      "difference:-0.459999\n",
      "Daily earning: -45.9999\n",
      "accumulative earning: 405.9996\n",
      "earning percentage: 11.6834417266%\n"
     ]
    },
    {
     "data": {
      "text/html": [
       "\n",
       "<div class=\"bk-root\">\n",
       "    <div class=\"bk-plotdiv\" id=\"1af370e3-c953-4e3d-ae7a-39118f2ba198\"></div>\n",
       "</div>"
      ]
     },
     "metadata": {},
     "output_type": "display_data"
    },
    {
     "data": {
      "application/javascript": [
       "(function(root) {\n",
       "  function embed_document(root) {\n",
       "    \n",
       "  var docs_json = {\"f9f49e30-6b1b-48fb-9b14-3b9e8065da3e\":{\"roots\":{\"references\":[{\"attributes\":{\"months\":[0,4,8]},\"id\":\"a7968924-a23c-45f8-be42-6bfacddcf50c\",\"type\":\"MonthsTicker\"},{\"attributes\":{\"source\":{\"id\":\"7a4b1af5-a05a-47d1-bbaf-2d909a9864ff\",\"type\":\"ColumnDataSource\"}},\"id\":\"0d622f1a-d38c-4a4a-860a-267afd1872fe\",\"type\":\"CDSView\"},{\"attributes\":{\"bottom\":{\"field\":\"bottom\"},\"fill_color\":{\"value\":\"#1ED837\"},\"top\":{\"field\":\"top\"},\"width\":{\"value\":43200000},\"x\":{\"field\":\"x\"}},\"id\":\"0ca6f30e-5cca-4e08-b10f-6d28dc467d6a\",\"type\":\"VBar\"},{\"attributes\":{\"callback\":null,\"column_names\":[\"x\",\"top\",\"bottom\"],\"data\":{\"bottom\":{\"__ndarray__\":\"LQsm/igcQUAAAAAAAEBBQFZntcAehUFA16NwPQr3QUDT9NkB1yNCQCzVBbzMjEFAGF3eHK7nQUBVMZV+wpVBQOiiIeNRmEBA7FG4HoVrQECqmEo/4VpAQO7KLhhczz5A7souGFwPP0DAfLJiuN4+QP2GiQYp3D5Aw/UoXI/CP0D9hokGKZw/QNQq+kMzsz9AmpmZmZmZP0As1QW8zEw8QOxRuB6FKz1AexSuR+H6PUAs1QW8zMw9QGZmZmZmZj1ArkfhehTuPEDXo3A9Ctc9QClcj8L16D1AA3l2+dYjPkCamZmZmdk+QCzVBbzMTD9AmpmZmZlZP0A9CtejcP0+QBSuR+F6FD9AKVyPwvUIQEBVMZV+whVAQNP02QHXI0BA16NwPQqXQEBBuW3fo9BAQIE8u3zrMUJAluoCXmbmQkCW6gJeZgZEQNQq+kMz80NAahX9oZm5RUDUKvpDM9NFQEG5bd+j0EVA1Cr6QzOTRUAtCyb+KJxFQAAAAAAAAERAw/UoXI8CREA9CtejcJ1FQBhd3hyuh0dAPQrXo3AdR0BqFf2hmVlGQIE8u3zrkUhAVTGVfsK1R0AAAAAAAGBIQEG5bd+j0EZAQINNnUdBSEAAAAAAAABIQKqYSj/h+kdAQINNnUdhSkDUKvpDM3NLQOxRuB6FC01AAAAAAADATUAAAAAAAABOQMP1KFyPYk9ALQsm/ij8TkCBPLt861FMQECDTZ1HgUxAAAAAAAAgTUCW6gJeZiZNQOiiIeNRmE1Av0aSIFxvTUA9CtejcF1LQAAAAAAA4EtA6KIh41H4SkCW6gJeZgZMQFZntcAe5UtAKVyPwvWISkAAAAAAAIBKQNQq+kMz00pAVme1wB6lS0BAg02dRyFMQJbqAl5mxktA0/TZAdcDSUA9CtejcH1JQJbqAl5mJkpALNUFvMzMSkCW6gJeZmZMQAAAAAAAgExAv0aSIFyvTEAs1QW8zAxOQClcj8L1qE1Av2GiQQoHUEBWZ7XAHpVQQADl795R2FBAQblt36OQUUDsUbgehctRQAAAAAAAwFBAVme1wB7FUEC/YaJBCndQQL9GkiBcL1FAAAAAAAAAUEBBuW3foxBPQH/DRIMULk9A16NwPQrXTUAAAAAAAMBOQFZntcAe5U5AVTGVfsL1TkApXI/C9UhOQAAAAAAAAE9A6KIh41F4T0DT9NkB18NOQKvOaoE9mlBAAOXv3lGIUEDXo3A9CvdOQJbqAl5mRk9APQrXo3AdTkA=\",\"dtype\":\"float64\",\"shape\":[118]},\"top\":{\"__ndarray__\":\"ahX9oZnZQEBVMZV+wvVAQL9GkiBcz0BAahX9oZlZQUBBuW3fo7BBQAAAAAAAYEFALNUFvMyMQUCBPLt865FBQMB8smK4fkBAVme1wB5FQECqmEo/4TpAQNejcD0Klz5AZmZmZmbmPkAAAAAAAMA+QMP1KFyPwj5AKVyPwvXoPkCamZmZmZk/QECDTZ1HoT9A1Cr6QzMzP0DAfLJiuN47QFUxlX7CtTxAKVyPwvUoPUAAAAAAAIA9QBSuR+F6VD1AZmZmZmZmPECamZmZmdk8QNejcD0K1z1AhetRuB6FPUBVMZV+wjU+QGZmZmZm5j5AAAAAAAAAP0AAAAAAAIA+QD0K16Nw/T5AFK5H4XoUP0Duyi4YXM8/QECDTZ1HIUBAQblt36MwQECW6gJeZoZAQNQq+kMz80BAw/UoXI9iQkDUKvpDM7NCQNP02QHX40NAluoCXmYmREAAAAAAAIBFQMP1KFyPokVAGF3eHK4nRUBAg02dR4FFQECDTZ1HoUNAw/UoXI+CQ0DT9NkB1wNEQBhd3hyup0VAahX9oZkZR0A9CtejcP1FQFZntcAeJUZAahX9oZmZR0CBPLt863FHQNP02QHXo0ZAGF3eHK6nRkDT9NkB1+NHQOxRuB6Fy0dAq85qgT1qSEBqFf2hmRlLQL9GkiBcT0tAAAAAAADATEC/RpIgXM9NQOxRuB6Fq01AQblt36OwTUDAfLJiuD5MQMB8smK4XkxAFK5H4Xp0TEDT9NkB1+NMQFZntcAeJU1A1Cr6QzMzTUAYXd4crkdLQL9GkiBcb0tAgTy7fOuxSkCW6gJeZiZLQL9GkiBcz0tAAAAAAACASkA9CtejcD1KQMB8smK4fkpA1Cr6QzPTSkAAAAAAAMBLQC0LJv4oXEtAluoCXmamSEAs1QW8zAxJQAAAAAAAAElAPQrXo3AdSkAAAAAAAKBKQAAAAAAAQExAf8NEgxSOTEB/w0SDFE5NQBhd3hyup01A6KIh41H4TEAAAAAAAGBQQC0LJv4oTFBAAAAAAABwUUAUkzfAzKxRQAAAAAAAAE9AAAAAAACgUEDT9NkB10NQQNe+gF64flBA16NwPQp3T0BqFf2hmTlOQC0LJv4o/E5AwHyyYrheTUAUrkfhevRNQAAAAAAAgE5AAAAAAADATkCBPLt865FNQH/DRIMUTk5AGF3eHK4nT0BqFf2hmZlOQAAAAAAAQE5AAOXv3lFYUEAtCyb+KNxOQNQq+kMzs05AQINNnUcBTkA=\",\"dtype\":\"float64\",\"shape\":[118]},\"x\":{\"__ndarray__\":\"AABAPVirdUIAAMCfRq11QgAAgJzirnVCAABAAjWvdUIAAMDN2a91QgAAAJYasnVCAADAkrazdUIAAEBeW7R1QgAAQPWktXVCAADAwEm2dUIAAMBXk7d1QgAAQCM4uHVCAAAAiYq4dUIAAAAg1Ll1QgAAwIUmunVCAACA63i6dUIAAEBRy7p1QgAAALcdu3VCAADAs7m8dUIAAIBHn791QgAAwHiWwHVCAACA3ujAdUIAAACqjcF1QgAAAEHXwnVCAACADHzDdUIAAEByzsN1QgAAANggxHVCAABAoGHGdUIAAEA3q8d1QgAAAJ39x3VCAACAaKLIdUIAAID/68l1QgAAQGU+ynVCAAAAy5DKdUIAAABi2st1QgAAgC1/zHVCAABAk9HMdUIAAAD5I811QgAAQCobznVCAADA9b/OdUIAAIBbEs91QgAAQMFkz3VCAACA8lvQdUIAAEBYrtB1QgAAAL4A0XVCAACAiaXRdUIAAMC6nNJ1QgAAAOyT03VCAAAAg93UdUIAAIBOgtV1QgAAQLTU1XVCAABASx7XdUIAAMAWw9d1QgAAgHwV2HVCAACAE1/ZdUIAAEB5sdl1QgAAgKqo2nVCAACAQfLbdUIAAAANl9x1QgAAwHLp3HVCAAAApODddUIAAMAJM951QgAAgG+F3nVCAABA1dfedUIAAAA7Kt91QgAAQGwh4HVCAABAA2vhdUIAAAAAB+N1QgAAwGVZ43VCAACAy6vjdUIAAMD8ouR1QgAAgGL15HVCAAAALprldUIAAADF4+Z1QgAAwCo253VCAABAjSTpdUIAAADzdul1QgAAwFjJ6XVCAABAJG7qdUIAAAAhCux1QgAAgOyu7HVCAAAA5ubvdUIAAMBLOfB1QgAAAH0w8XVCAABARXHzdUIAAABCDfV1QgAAwD6p9nVCAACApPv2dUIAAABwoPd1QgAAwNXy93VCAAAAB+r4dUIAAMBsPPl1QgAAQDjh+XVCAABAzyr7dUIAAAA1fft1QgAAgAAi/HVCAACAl2v9dUIAAABjEP51QgAAgMX+/3VCAABAK1EAdkIAAACRowB2QgAAwPb1AHZCAACA85ECdkIAAEDwLQR2QgAAwLvSBHZCAABAHsEGdkIAAACEEwd2QgAAwOllB3ZCAADAgK8IdkIAAMCuQgt2QgAAgBSVC3ZCAABAeucLdkIAAAB3gw12QgAAgEIoDnZCAABAP8QPdkIAAMChshF2QgAAQG1XEnZCAADAOPwSdkI=\",\"dtype\":\"float64\",\"shape\":[118]}}},\"id\":\"566bcfb8-56cd-482a-b883-dbe7c3b700de\",\"type\":\"ColumnDataSource\"},{\"attributes\":{},\"id\":\"67207739-2544-432c-b764-59bb641530c9\",\"type\":\"YearsTicker\"},{\"attributes\":{\"callback\":null},\"id\":\"2ee8fe70-c48c-4e38-88b5-2781761f2d44\",\"type\":\"DataRange1d\"},{\"attributes\":{\"mantissas\":[1,2,5],\"max_interval\":500.0,\"num_minor_ticks\":0},\"id\":\"d1875f5f-ce6b-4922-b409-bc64a1a06e26\",\"type\":\"AdaptiveTicker\"},{\"attributes\":{\"num_minor_ticks\":5,\"tickers\":[{\"id\":\"d1875f5f-ce6b-4922-b409-bc64a1a06e26\",\"type\":\"AdaptiveTicker\"},{\"id\":\"0d7ba59b-1346-42b3-93b5-dc99eb664c28\",\"type\":\"AdaptiveTicker\"},{\"id\":\"545a4826-2ff6-4cfa-8e5c-b4084a2c2f6b\",\"type\":\"AdaptiveTicker\"},{\"id\":\"cde87780-90be-4f5e-b462-1967411e53b3\",\"type\":\"DaysTicker\"},{\"id\":\"08583af3-eae6-4d4a-81b6-999712420b47\",\"type\":\"DaysTicker\"},{\"id\":\"e021cfbe-3c80-49b6-9b3a-e49cd63afcaf\",\"type\":\"DaysTicker\"},{\"id\":\"c15afce4-8e35-4b96-a78e-572dd0c70155\",\"type\":\"DaysTicker\"},{\"id\":\"63250900-bf18-440a-8d8e-541a8c73b326\",\"type\":\"MonthsTicker\"},{\"id\":\"ad935ccd-cbec-457a-a096-636d193c009b\",\"type\":\"MonthsTicker\"},{\"id\":\"a7968924-a23c-45f8-be42-6bfacddcf50c\",\"type\":\"MonthsTicker\"},{\"id\":\"68f5f66c-b5a0-48f0-b4e6-30edf5197828\",\"type\":\"MonthsTicker\"},{\"id\":\"67207739-2544-432c-b764-59bb641530c9\",\"type\":\"YearsTicker\"}]},\"id\":\"26336c43-4a14-444c-ac75-1e9912a7af50\",\"type\":\"DatetimeTicker\"},{\"attributes\":{},\"id\":\"64992f69-6d1f-4bbe-969a-9920f4b65768\",\"type\":\"SaveTool\"},{\"attributes\":{},\"id\":\"b0cbf168-8bd6-472c-891e-fb1e6a97fef7\",\"type\":\"BasicTicker\"},{\"attributes\":{\"days\":[1,8,15,22]},\"id\":\"e021cfbe-3c80-49b6-9b3a-e49cd63afcaf\",\"type\":\"DaysTicker\"},{\"attributes\":{\"base\":60,\"mantissas\":[1,2,5,10,15,20,30],\"max_interval\":1800000.0,\"min_interval\":1000.0,\"num_minor_ticks\":0},\"id\":\"0d7ba59b-1346-42b3-93b5-dc99eb664c28\",\"type\":\"AdaptiveTicker\"},{\"attributes\":{},\"id\":\"dffefeb9-c983-49f8-99ab-b2881e0f71dd\",\"type\":\"BasicTickFormatter\"},{\"attributes\":{\"callback\":null,\"column_names\":[\"x0\",\"y0\",\"x1\",\"y1\"],\"data\":{\"x0\":{\"__ndarray__\":\"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\",\"dtype\":\"float64\",\"shape\":[223]},\"x1\":{\"__ndarray__\":\"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\",\"dtype\":\"float64\",\"shape\":[223]},\"y0\":{\"__ndarray__\":\"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\",\"dtype\":\"float64\",\"shape\":[223]},\"y1\":{\"__ndarray__\":\"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\",\"dtype\":\"float64\",\"shape\":[223]}}},\"id\":\"7a4b1af5-a05a-47d1-bbaf-2d909a9864ff\",\"type\":\"ColumnDataSource\"},{\"attributes\":{\"source\":{\"id\":\"c0dd9114-908b-47dd-95be-b2e6f83f7cc2\",\"type\":\"ColumnDataSource\"}},\"id\":\"f1ffa69a-1dd3-4103-a1c6-b2d5a503ce0d\",\"type\":\"CDSView\"},{\"attributes\":{\"callback\":null},\"id\":\"acb904f8-0811-4055-b141-a43f6cba5292\",\"type\":\"DataRange1d\"},{\"attributes\":{\"grid_line_alpha\":{\"value\":0.3},\"plot\":{\"id\":\"00100325-96ca-4759-b422-128bed769a34\",\"subtype\":\"Figure\",\"type\":\"Plot\"},\"ticker\":{\"id\":\"26336c43-4a14-444c-ac75-1e9912a7af50\",\"type\":\"DatetimeTicker\"}},\"id\":\"23c9fc78-e0b1-4986-8da2-e9f74c187eef\",\"type\":\"Grid\"},{\"attributes\":{\"data_source\":{\"id\":\"c0dd9114-908b-47dd-95be-b2e6f83f7cc2\",\"type\":\"ColumnDataSource\"},\"glyph\":{\"id\":\"e27b3851-317d-4c53-b40b-b0cca3c78719\",\"type\":\"VBar\"},\"hover_glyph\":null,\"muted_glyph\":null,\"nonselection_glyph\":{\"id\":\"ca625a51-4b4b-40f2-95cf-bf0218e37b5d\",\"type\":\"VBar\"},\"selection_glyph\":null,\"view\":{\"id\":\"f1ffa69a-1dd3-4103-a1c6-b2d5a503ce0d\",\"type\":\"CDSView\"}},\"id\":\"7cb7b7eb-04d0-496b-9f46-9566edd14657\",\"type\":\"GlyphRenderer\"},{\"attributes\":{\"below\":[{\"id\":\"770f3e0f-7e4a-4353-a373-cffc9e6e2822\",\"type\":\"DatetimeAxis\"}],\"left\":[{\"id\":\"0869d431-0b2d-4096-9637-68e5471f7338\",\"type\":\"LinearAxis\"}],\"plot_width\":800,\"renderers\":[{\"id\":\"770f3e0f-7e4a-4353-a373-cffc9e6e2822\",\"type\":\"DatetimeAxis\"},{\"id\":\"23c9fc78-e0b1-4986-8da2-e9f74c187eef\",\"type\":\"Grid\"},{\"id\":\"0869d431-0b2d-4096-9637-68e5471f7338\",\"type\":\"LinearAxis\"},{\"id\":\"e98729c4-0a95-46ca-8fc3-010a2932d963\",\"type\":\"Grid\"},{\"id\":\"26588081-0df8-4c2c-8096-e6efbfff049f\",\"type\":\"BoxAnnotation\"},{\"id\":\"49916ee6-c630-4171-a71e-0b0aeef1831c\",\"type\":\"GlyphRenderer\"},{\"id\":\"e717276e-7986-43c0-b7ae-6bd7a3f63e7e\",\"type\":\"GlyphRenderer\"},{\"id\":\"7cb7b7eb-04d0-496b-9f46-9566edd14657\",\"type\":\"GlyphRenderer\"}],\"title\":{\"id\":\"ae2a90c7-8ba7-4af3-8a61-b530f39b2ae3\",\"type\":\"Title\"},\"toolbar\":{\"id\":\"f15d4407-35a6-472a-a8a3-a4abf749a284\",\"type\":\"Toolbar\"},\"x_range\":{\"id\":\"2ee8fe70-c48c-4e38-88b5-2781761f2d44\",\"type\":\"DataRange1d\"},\"x_scale\":{\"id\":\"b4b32eb9-efb6-4807-9c34-96c008c2c909\",\"type\":\"LinearScale\"},\"y_range\":{\"id\":\"acb904f8-0811-4055-b141-a43f6cba5292\",\"type\":\"DataRange1d\"},\"y_scale\":{\"id\":\"593738cd-41a4-4277-942e-0c4f1324422c\",\"type\":\"LinearScale\"}},\"id\":\"00100325-96ca-4759-b422-128bed769a34\",\"subtype\":\"Figure\",\"type\":\"Plot\"},{\"attributes\":{\"line_alpha\":{\"value\":0.1},\"line_color\":{\"value\":\"#1f77b4\"},\"x0\":{\"field\":\"x0\"},\"x1\":{\"field\":\"x1\"},\"y0\":{\"field\":\"y0\"},\"y1\":{\"field\":\"y1\"}},\"id\":\"3fd832e5-4167-46fe-bf84-bf1ad8759ca8\",\"type\":\"Segment\"},{\"attributes\":{},\"id\":\"593738cd-41a4-4277-942e-0c4f1324422c\",\"type\":\"LinearScale\"},{\"attributes\":{\"bottom\":{\"field\":\"bottom\"},\"fill_alpha\":{\"value\":0.1},\"fill_color\":{\"value\":\"#1f77b4\"},\"line_alpha\":{\"value\":0.1},\"line_color\":{\"value\":\"#1f77b4\"},\"top\":{\"field\":\"top\"},\"width\":{\"value\":43200000},\"x\":{\"field\":\"x\"}},\"id\":\"ca625a51-4b4b-40f2-95cf-bf0218e37b5d\",\"type\":\"VBar\"},{\"attributes\":{},\"id\":\"9ffd8fb8-395c-4909-a53b-3d63771c7cdb\",\"type\":\"ResetTool\"},{\"attributes\":{\"source\":{\"id\":\"566bcfb8-56cd-482a-b883-dbe7c3b700de\",\"type\":\"ColumnDataSource\"}},\"id\":\"093f163b-818d-43a9-bbd0-9d714688f829\",\"type\":\"CDSView\"},{\"attributes\":{\"overlay\":{\"id\":\"26588081-0df8-4c2c-8096-e6efbfff049f\",\"type\":\"BoxAnnotation\"}},\"id\":\"cace38a0-ef8e-4ca4-a965-6212e68ed4a2\",\"type\":\"BoxZoomTool\"},{\"attributes\":{\"bottom\":{\"field\":\"bottom\"},\"fill_color\":{\"value\":\"#F2583E\"},\"top\":{\"field\":\"top\"},\"width\":{\"value\":43200000},\"x\":{\"field\":\"x\"}},\"id\":\"e27b3851-317d-4c53-b40b-b0cca3c78719\",\"type\":\"VBar\"},{\"attributes\":{\"days\":[1,15]},\"id\":\"c15afce4-8e35-4b96-a78e-572dd0c70155\",\"type\":\"DaysTicker\"},{\"attributes\":{},\"id\":\"b4b32eb9-efb6-4807-9c34-96c008c2c909\",\"type\":\"LinearScale\"},{\"attributes\":{\"data_source\":{\"id\":\"7a4b1af5-a05a-47d1-bbaf-2d909a9864ff\",\"type\":\"ColumnDataSource\"},\"glyph\":{\"id\":\"61337654-b50f-40dc-8121-5e2358e842ad\",\"type\":\"Segment\"},\"hover_glyph\":null,\"muted_glyph\":null,\"nonselection_glyph\":{\"id\":\"3fd832e5-4167-46fe-bf84-bf1ad8759ca8\",\"type\":\"Segment\"},\"selection_glyph\":null,\"view\":{\"id\":\"0d622f1a-d38c-4a4a-860a-267afd1872fe\",\"type\":\"CDSView\"}},\"id\":\"49916ee6-c630-4171-a71e-0b0aeef1831c\",\"type\":\"GlyphRenderer\"},{\"attributes\":{\"bottom\":{\"field\":\"bottom\"},\"fill_alpha\":{\"value\":0.1},\"fill_color\":{\"value\":\"#1f77b4\"},\"line_alpha\":{\"value\":0.1},\"line_color\":{\"value\":\"#1f77b4\"},\"top\":{\"field\":\"top\"},\"width\":{\"value\":43200000},\"x\":{\"field\":\"x\"}},\"id\":\"d40b6c75-8008-4ec0-9c72-f5bd2d946bdd\",\"type\":\"VBar\"},{\"attributes\":{\"formatter\":{\"id\":\"dffefeb9-c983-49f8-99ab-b2881e0f71dd\",\"type\":\"BasicTickFormatter\"},\"plot\":{\"id\":\"00100325-96ca-4759-b422-128bed769a34\",\"subtype\":\"Figure\",\"type\":\"Plot\"},\"ticker\":{\"id\":\"b0cbf168-8bd6-472c-891e-fb1e6a97fef7\",\"type\":\"BasicTicker\"}},\"id\":\"0869d431-0b2d-4096-9637-68e5471f7338\",\"type\":\"LinearAxis\"},{\"attributes\":{\"months\":[0,1,2,3,4,5,6,7,8,9,10,11]},\"id\":\"63250900-bf18-440a-8d8e-541a8c73b326\",\"type\":\"MonthsTicker\"},{\"attributes\":{\"active_drag\":\"auto\",\"active_inspect\":\"auto\",\"active_scroll\":\"auto\",\"active_tap\":\"auto\",\"tools\":[{\"id\":\"12cead7e-e92c-4fb2-8c7f-0f4952c14727\",\"type\":\"PanTool\"},{\"id\":\"cbe46bfe-d970-45e9-b779-2ed5c6859124\",\"type\":\"WheelZoomTool\"},{\"id\":\"cace38a0-ef8e-4ca4-a965-6212e68ed4a2\",\"type\":\"BoxZoomTool\"},{\"id\":\"9ffd8fb8-395c-4909-a53b-3d63771c7cdb\",\"type\":\"ResetTool\"},{\"id\":\"64992f69-6d1f-4bbe-969a-9920f4b65768\",\"type\":\"SaveTool\"}]},\"id\":\"f15d4407-35a6-472a-a8a3-a4abf749a284\",\"type\":\"Toolbar\"},{\"attributes\":{\"data_source\":{\"id\":\"566bcfb8-56cd-482a-b883-dbe7c3b700de\",\"type\":\"ColumnDataSource\"},\"glyph\":{\"id\":\"0ca6f30e-5cca-4e08-b10f-6d28dc467d6a\",\"type\":\"VBar\"},\"hover_glyph\":null,\"muted_glyph\":null,\"nonselection_glyph\":{\"id\":\"d40b6c75-8008-4ec0-9c72-f5bd2d946bdd\",\"type\":\"VBar\"},\"selection_glyph\":null,\"view\":{\"id\":\"093f163b-818d-43a9-bbd0-9d714688f829\",\"type\":\"CDSView\"}},\"id\":\"e717276e-7986-43c0-b7ae-6bd7a3f63e7e\",\"type\":\"GlyphRenderer\"},{\"attributes\":{\"days\":[1,2,3,4,5,6,7,8,9,10,11,12,13,14,15,16,17,18,19,20,21,22,23,24,25,26,27,28,29,30,31]},\"id\":\"cde87780-90be-4f5e-b462-1967411e53b3\",\"type\":\"DaysTicker\"},{\"attributes\":{},\"id\":\"cbe46bfe-d970-45e9-b779-2ed5c6859124\",\"type\":\"WheelZoomTool\"},{\"attributes\":{\"bottom_units\":\"screen\",\"fill_alpha\":{\"value\":0.5},\"fill_color\":{\"value\":\"lightgrey\"},\"left_units\":\"screen\",\"level\":\"overlay\",\"line_alpha\":{\"value\":1.0},\"line_color\":{\"value\":\"black\"},\"line_dash\":[4,4],\"line_width\":{\"value\":2},\"plot\":null,\"render_mode\":\"css\",\"right_units\":\"screen\",\"top_units\":\"screen\"},\"id\":\"26588081-0df8-4c2c-8096-e6efbfff049f\",\"type\":\"BoxAnnotation\"},{\"attributes\":{\"months\":[0,2,4,6,8,10]},\"id\":\"ad935ccd-cbec-457a-a096-636d193c009b\",\"type\":\"MonthsTicker\"},{\"attributes\":{\"formatter\":{\"id\":\"ab5689f2-5d43-40fd-9c31-c0e5915eadd8\",\"type\":\"DatetimeTickFormatter\"},\"major_label_orientation\":0.7853981633974483,\"plot\":{\"id\":\"00100325-96ca-4759-b422-128bed769a34\",\"subtype\":\"Figure\",\"type\":\"Plot\"},\"ticker\":{\"id\":\"26336c43-4a14-444c-ac75-1e9912a7af50\",\"type\":\"DatetimeTicker\"}},\"id\":\"770f3e0f-7e4a-4353-a373-cffc9e6e2822\",\"type\":\"DatetimeAxis\"},{\"attributes\":{},\"id\":\"12cead7e-e92c-4fb2-8c7f-0f4952c14727\",\"type\":\"PanTool\"},{\"attributes\":{\"months\":[0,6]},\"id\":\"68f5f66c-b5a0-48f0-b4e6-30edf5197828\",\"type\":\"MonthsTicker\"},{\"attributes\":{\"base\":24,\"mantissas\":[1,2,4,6,8,12],\"max_interval\":43200000.0,\"min_interval\":3600000.0,\"num_minor_ticks\":0},\"id\":\"545a4826-2ff6-4cfa-8e5c-b4084a2c2f6b\",\"type\":\"AdaptiveTicker\"},{\"attributes\":{\"line_color\":{\"value\":\"red\"},\"x0\":{\"field\":\"x0\"},\"x1\":{\"field\":\"x1\"},\"y0\":{\"field\":\"y0\"},\"y1\":{\"field\":\"y1\"}},\"id\":\"61337654-b50f-40dc-8121-5e2358e842ad\",\"type\":\"Segment\"},{\"attributes\":{\"plot\":null,\"text\":\"\\u79d1\\u5927\\u8baf\\u98de\"},\"id\":\"ae2a90c7-8ba7-4af3-8a61-b530f39b2ae3\",\"type\":\"Title\"},{\"attributes\":{\"days\":[1,4,7,10,13,16,19,22,25,28]},\"id\":\"08583af3-eae6-4d4a-81b6-999712420b47\",\"type\":\"DaysTicker\"},{\"attributes\":{\"dimension\":1,\"grid_line_alpha\":{\"value\":0.3},\"plot\":{\"id\":\"00100325-96ca-4759-b422-128bed769a34\",\"subtype\":\"Figure\",\"type\":\"Plot\"},\"ticker\":{\"id\":\"b0cbf168-8bd6-472c-891e-fb1e6a97fef7\",\"type\":\"BasicTicker\"}},\"id\":\"e98729c4-0a95-46ca-8fc3-010a2932d963\",\"type\":\"Grid\"},{\"attributes\":{\"callback\":null,\"column_names\":[\"x\",\"top\",\"bottom\"],\"data\":{\"bottom\":{\"__ndarray__\":\"6KIh41HYQEAs1QW8zMxAQOxRuB6FS0FAAAAAAADgQEB/w0SDFM5AQD0K16NwvUBALNUFvMzMQUBWZ7XAHgVCQMP1KFyPokFA16NwPQp3QUCBPLt861FBQCzVBbzMrEFAAAAAAACAQEB/w0SDFC5AQClcj8L1SEBAEjXR56NwPkBSuB6F65E+QCzVBbzMTD9A1Cr6QzPzPkAXJ77aUXg+QAAAAAAAAD5AAAAAAAAAPUDD9Shcj4I8QClcj8L16DtA/YaJBincPUCamZmZmVk9QCzVBbzMTDxAUrgehevRPUDUKvpDMzM+QHsUrkfh+j5AFK5H4XqUPkAAAAAAAMA/QNQq+kMz8z9AgTy7fOsRQkCW6gJeZkZFQL9GkiBc70NA1Cr6QzOzQ0DUKvpDM5NDQCzVBbzMDERAq85qgT3qRkAs1QW8zAxGQGoV/aGZuUdA6KIh41EYSEAtCyb+KLxGQNP02QHXw0ZALQsm/igcSEAtCyb+KDxOQNejcD0Kd01AqphKP+GaTUDUKvpDM/NMQCzVBbzMDExA0/TZAdcjTUBqFf2hmZlLQKqYSj/h2ktAGF3eHK4HS0AAAAAAAIBKQOiiIeNReEpAluoCXmamSkDAfLJiuB5KQCzVBbzMbEpAQblt36OwS0AtCyb+KFxLQD0K16NwnUpAKVyPwvUoSUCqmEo/4TpIQC0LJv4onEhAv0aSIFwPSUDAfLJiuP5IQFZntcAeRUlAahX9oZnZSEC/RpIgXI9KQKvOaoE9ik1A0/TZAdcjTUAAAAAAAIBPQGoV/aGZyVBALQsm/iiMUUAUrkfherRQQMB8smK4nk9AluoCXmbGTkBq+uyA6/FQQBhd3hyuZ09AFK5H4XqUTkAAAAAAAEBOQIE8u3zr8U5AVme1wB5lTkBqFf2hmZlOQD0K16NwXU1AQINNnUfhTkBBuW3fo7BOQIE8u3zr0U1AKVyPwvVoTUCBPLt865FNQGoV/aGZ+U5AQINNnUehTkC/RpIgXC9OQBSuR+F6NFBAQblt36NAUECW6gJeZsZOQL9GkiBcr05AFK5H4XrUTkDD9Shcj8JOQGoV/aGZeU5A\",\"dtype\":\"float64\",\"shape\":[102]},\"top\":{\"__ndarray__\":\"luoCXmbmQEAYXd4crudAQD0K16NwfUFA16NwPQoXQUAUrkfhenRBQH/DRIMUzkBAQINNnUfhQUDXo3A9ChdCQAAAAAAAAEJALQsm/ii8QUBqFf2hmVlBQJbqAl5m5kFAQblt36OQQUBVMZV+wnVAQKvOaoE9akBAAAAAAACAP0As1QW8zAw/QNQq+kMzsz9AwHyyYrheP0DUKvpDM/M+QECDTZ1HYT5AZmZmZmbmPUDXo3A9Chc9QJqZmZmZWTxAAAAAAAAAPkD9hokGKdw9QHsUrkfhej1AKVyPwvXoPUB7FK5H4To+QFK4HoXrUT9A1Cr6QzMzP0ApXI/C9QhAQJbqAl5mJkBAluoCXmYmQkDT9NkB14NFQJbqAl5mpkVAFK5H4Xr0Q0BqFf2hmdlDQAAAAAAAIERAAAAAAADAR0BqFf2hmflGQECDTZ1HQUhAluoCXmamSEDAfLJiuN5HQFZntcAe5UZAluoCXmZGSEAtCyb+KDxPQGoV/aGZOU5AKVyPwvWoTUAAAAAAAEBPQC0LJv4oHExAahX9oZlZTUBBuW3fo1BNQGoV/aGZ+UtAAAAAAADAS0AYXd4crgdLQGoV/aGZ2UtA1Cr6QzOzSkCW6gJeZqZKQNQq+kMzk0pAKVyPwvUoTEAAAAAAAMBLQNQq+kMzM0xA1Cr6QzNzSkBAg02dRwFJQKvOaoE9ykhAluoCXmYmSUC/RpIgXA9JQAAAAAAAgElAVTGVfsI1SUAs1QW8zMxKQNQq+kMzE05AahX9oZn5TUAAAAAAAIBQQL9hokEK11BAAAAAAACQUUCW6gJeZmZRQOxsyD8zs1BAQINNnUfBT0AUkzfAzDxRQAAAAAAAwFBALNUFvMxsT0DooiHjUdhOQNQq+kMzM09AAAAAAAAAT0AtCyb+KPxOQMP1KFyPQk9A0/TZAdfjTkBVMZV+wvVOQJbqAl5mpk5AwHyyYrh+TUAs1QW8zMxNQBhd3hyuh09Aw/UoXI8CT0DT9NkB1+NOQGoV/aGZuVBAluoCXmZGUEAUkzfAzGxQQOiiIeNR+E5AluoCXmbmTkDXo3A9CvdOQGoV/aGZWU9A\",\"dtype\":\"float64\",\"shape\":[102]},\"x\":{\"__ndarray__\":\"AADAcbOqdUIAAIDXBat1QgAAgG5PrHVCAAAAOvSsdUIAAIAFma11QgAAwDaQrnVCAAAAaIevdUIAAAD/0LB1QgAAwGQjsXVCAACAynWxdUIAAEAwyLF1QgAAgPgItHVCAACAj1K1dUIAAABb97V1QgAAgCactnVCAACAveW3dUIAAMDu3Lh1QgAAAE5nvHVCAACAGQy9dUIAAEB/Xr11QgAAgLBVvnVCAABAFqi+dUIAAAB8+r51QgAAwOFMv3VCAABARDvBdUIAAMAP4MF1QgAAwKYpw3VCAADA1LzFdUIAAIDRWMd1QgAAwAJQyHVCAADAmZnJdUIAAMAw48p1QgAAwMcszHVCAAAAkG3OdUIAAMAjU9F1QgAAgCDv0nVCAABAhkHTdUIAAMBR5tN1QgAAwOgv1XVCAAAAGifWdUIAAACxcNd1QgAAQOJn2HVCAAAA3wPadUIAAMBEVtp1QgAAwNuf23VCAABAp0TcdUIAAADSc+B1QgAAwDfG4HVCAACAnRjhdUIAAIA0YuJ1QgAAQJq04nVCAABAyEfldUIAAMCT7OV1QgAAgJCI53VCAABA9trndUIAAABcLeh1QgAAgL4b6nVCAACAVWXrdUIAAEC7t+t1QgAAwIZc7HVCAACAsYvwdUIAAEAX3vB1QgAAQK4n8nVCAAAAFHrydUIAAMB5zPJ1QgAAgN8e83VCAACAdmj0dUIAAEDcuvR1QgAAwKdf9XVCAACADbL1dUIAAEAKTvd1QgAAgNKO+XVCAAAAnjP6dUIAAMCaz/t1QgAAQGZ0/HVCAABA/b39dUIAAMDIYv51QgAAgC61/nVCAADAX6z/dUIAAAAo7QF2QgAAwI0/AnZCAABAWeQCdkIAAAC/NgN2QgAAAFaABHZCAACAISUFdkIAAECHdwV2QgAAgLhuBnZCAACAT7gHdkIAAIDmAQl2QgAAQExUCXZCAAAAsqYJdkIAAMAX+Ql2QgAAAOA5DHZCAABAETENdkIAAMDc1Q12QgAAQKh6DnZCAACA2XEPdkIAAAClFhB2QgAAwAppEHZCAACAcLsQdkIAAIAHBRJ2QgAAANOpEnZC\",\"dtype\":\"float64\",\"shape\":[102]}}},\"id\":\"c0dd9114-908b-47dd-95be-b2e6f83f7cc2\",\"type\":\"ColumnDataSource\"},{\"attributes\":{},\"id\":\"ab5689f2-5d43-40fd-9c31-c0e5915eadd8\",\"type\":\"DatetimeTickFormatter\"}],\"root_ids\":[\"00100325-96ca-4759-b422-128bed769a34\"]},\"title\":\"Bokeh Application\",\"version\":\"0.12.13\"}};\n",
       "  var render_items = [{\"docid\":\"f9f49e30-6b1b-48fb-9b14-3b9e8065da3e\",\"elementid\":\"1af370e3-c953-4e3d-ae7a-39118f2ba198\",\"modelid\":\"00100325-96ca-4759-b422-128bed769a34\"}];\n",
       "  root.Bokeh.embed.embed_items_notebook(docs_json, render_items);\n",
       "\n",
       "  }\n",
       "  if (root.Bokeh !== undefined) {\n",
       "    embed_document(root);\n",
       "  } else {\n",
       "    var attempts = 0;\n",
       "    var timer = setInterval(function(root) {\n",
       "      if (root.Bokeh !== undefined) {\n",
       "        embed_document(root);\n",
       "        clearInterval(timer);\n",
       "      }\n",
       "      attempts++;\n",
       "      if (attempts > 100) {\n",
       "        console.log(\"Bokeh: ERROR: Unable to run BokehJS code because BokehJS library is missing\")\n",
       "        clearInterval(timer);\n",
       "      }\n",
       "    }, 10, root)\n",
       "  }\n",
       "})(window);"
      ],
      "application/vnd.bokehjs_exec.v0+json": ""
     },
     "metadata": {
      "application/vnd.bokehjs_exec.v0+json": {
       "id": "00100325-96ca-4759-b422-128bed769a34"
      }
     },
     "output_type": "display_data"
    }
   ],
   "source": [
    "iflytek = candlestickStrat('002230.sz', 100, '2017-03-08', '2018-01-28')\n",
    "candlestick(iflytek, '科大讯飞')"
   ]
  },
  {
   "cell_type": "code",
   "execution_count": 201,
   "metadata": {},
   "outputs": [
    {
     "name": "stdout",
     "output_type": "stream",
     "text": [
      "number of stocks: 100\n",
      "\n",
      "2017-07-18\n",
      "Next day open price: 21.92\n",
      "investment: 2192.0\n",
      "difference:0.280001\n",
      "Daily earning: 28.0001\n",
      "accumulative earning: 28.0001\n",
      "\n",
      "2017-07-24\n",
      "difference:0.49\n",
      "Daily earning: 49.0\n",
      "accumulative earning: 77.0001\n",
      "\n",
      "2017-08-03\n",
      "difference:-0.100001\n",
      "Daily earning: -10.0001\n",
      "accumulative earning: 67.0\n",
      "\n",
      "2017-10-20\n",
      "difference:0.25\n",
      "Daily earning: 25.0\n",
      "accumulative earning: 92.0\n",
      "\n",
      "2017-11-03\n",
      "difference:0.369999\n",
      "Daily earning: 36.9999\n",
      "accumulative earning: 128.9999\n",
      "\n",
      "2017-11-15\n",
      "difference:0.199999\n",
      "Daily earning: 19.9999\n",
      "accumulative earning: 148.9998\n",
      "earning percentage: 6.79743613139%\n"
     ]
    },
    {
     "data": {
      "text/html": [
       "\n",
       "<div class=\"bk-root\">\n",
       "    <div class=\"bk-plotdiv\" id=\"c158faa2-9f23-4413-86b2-253acaef4166\"></div>\n",
       "</div>"
      ]
     },
     "metadata": {},
     "output_type": "display_data"
    },
    {
     "data": {
      "application/javascript": [
       "(function(root) {\n",
       "  function embed_document(root) {\n",
       "    \n",
       "  var docs_json = {\"2044944c-0299-45d4-b973-68aab533c00e\":{\"roots\":{\"references\":[{\"attributes\":{\"plot\":null,\"text\":\"\\u4e2d\\u6f5c\\u80a1\\u4efd\"},\"id\":\"e7cd1be2-fcdf-4326-bdcb-a2a5159f664f\",\"type\":\"Title\"},{\"attributes\":{\"formatter\":{\"id\":\"e0d407bb-7459-4696-a326-99718a428441\",\"type\":\"BasicTickFormatter\"},\"plot\":{\"id\":\"7203aacd-8532-4aed-a952-2eaa7605c398\",\"subtype\":\"Figure\",\"type\":\"Plot\"},\"ticker\":{\"id\":\"25e232a3-6b62-4a0e-8668-4246d669f899\",\"type\":\"BasicTicker\"}},\"id\":\"5841ccd2-5ab7-4450-88b2-a216ef31e95d\",\"type\":\"LinearAxis\"},{\"attributes\":{},\"id\":\"2b5d290c-ac73-431f-b439-26871a08b403\",\"type\":\"DatetimeTickFormatter\"},{\"attributes\":{\"months\":[0,2,4,6,8,10]},\"id\":\"838b25cc-f75f-4c9f-bd81-f4bb42242040\",\"type\":\"MonthsTicker\"},{\"attributes\":{},\"id\":\"e0d407bb-7459-4696-a326-99718a428441\",\"type\":\"BasicTickFormatter\"},{\"attributes\":{\"data_source\":{\"id\":\"400f1e61-eefe-437d-b71b-64e4814e97d0\",\"type\":\"ColumnDataSource\"},\"glyph\":{\"id\":\"1c02434c-6d52-4993-a6fe-c17f0c183acb\",\"type\":\"Segment\"},\"hover_glyph\":null,\"muted_glyph\":null,\"nonselection_glyph\":{\"id\":\"96eeab50-71f8-482e-a26a-92a4bb232df0\",\"type\":\"Segment\"},\"selection_glyph\":null,\"view\":{\"id\":\"21327629-799d-42de-aaa0-eaa4ecb2b4e3\",\"type\":\"CDSView\"}},\"id\":\"49e4a94b-2921-4050-b147-e79dce06b038\",\"type\":\"GlyphRenderer\"},{\"attributes\":{\"base\":24,\"mantissas\":[1,2,4,6,8,12],\"max_interval\":43200000.0,\"min_interval\":3600000.0,\"num_minor_ticks\":0},\"id\":\"3aaf9d6d-2ffd-40f6-a4b1-562a3121d367\",\"type\":\"AdaptiveTicker\"},{\"attributes\":{\"dimension\":1,\"grid_line_alpha\":{\"value\":0.3},\"plot\":{\"id\":\"7203aacd-8532-4aed-a952-2eaa7605c398\",\"subtype\":\"Figure\",\"type\":\"Plot\"},\"ticker\":{\"id\":\"25e232a3-6b62-4a0e-8668-4246d669f899\",\"type\":\"BasicTicker\"}},\"id\":\"f1b9accc-1896-4efb-8327-52bfc1aa911e\",\"type\":\"Grid\"},{\"attributes\":{},\"id\":\"df5d0a20-c535-4d8f-b8aa-8ea4c108a523\",\"type\":\"PanTool\"},{\"attributes\":{\"callback\":null},\"id\":\"0f6f9879-3c94-4e7d-a0f9-458a3de0ffaa\",\"type\":\"DataRange1d\"},{\"attributes\":{\"source\":{\"id\":\"d59bfec3-de29-4e15-bf63-63e5c290e5dc\",\"type\":\"ColumnDataSource\"}},\"id\":\"518816c6-1066-4524-8b98-e500ab020b95\",\"type\":\"CDSView\"},{\"attributes\":{\"months\":[0,6]},\"id\":\"14509f5b-27fd-4c53-8af2-fdc9339d8ab9\",\"type\":\"MonthsTicker\"},{\"attributes\":{\"bottom\":{\"field\":\"bottom\"},\"fill_alpha\":{\"value\":0.1},\"fill_color\":{\"value\":\"#1f77b4\"},\"line_alpha\":{\"value\":0.1},\"line_color\":{\"value\":\"#1f77b4\"},\"top\":{\"field\":\"top\"},\"width\":{\"value\":43200000},\"x\":{\"field\":\"x\"}},\"id\":\"7cade24a-be14-4ffa-ba09-daf74acbc6cc\",\"type\":\"VBar\"},{\"attributes\":{},\"id\":\"47d54061-c6ac-499f-8bfa-69e672630f06\",\"type\":\"LinearScale\"},{\"attributes\":{},\"id\":\"537c04c5-0466-4d93-9305-9704880d1d66\",\"type\":\"YearsTicker\"},{\"attributes\":{\"data_source\":{\"id\":\"d59bfec3-de29-4e15-bf63-63e5c290e5dc\",\"type\":\"ColumnDataSource\"},\"glyph\":{\"id\":\"42d7be2e-3082-4020-947f-daf92744cc28\",\"type\":\"VBar\"},\"hover_glyph\":null,\"muted_glyph\":null,\"nonselection_glyph\":{\"id\":\"7cade24a-be14-4ffa-ba09-daf74acbc6cc\",\"type\":\"VBar\"},\"selection_glyph\":null,\"view\":{\"id\":\"518816c6-1066-4524-8b98-e500ab020b95\",\"type\":\"CDSView\"}},\"id\":\"3fd6d7ea-a185-431d-88f5-340c75389f56\",\"type\":\"GlyphRenderer\"},{\"attributes\":{},\"id\":\"73c69976-5905-43ed-9b01-a9467b988b48\",\"type\":\"LinearScale\"},{\"attributes\":{\"days\":[1,2,3,4,5,6,7,8,9,10,11,12,13,14,15,16,17,18,19,20,21,22,23,24,25,26,27,28,29,30,31]},\"id\":\"428b30d5-5b03-4172-9f34-858353b1d807\",\"type\":\"DaysTicker\"},{\"attributes\":{\"formatter\":{\"id\":\"2b5d290c-ac73-431f-b439-26871a08b403\",\"type\":\"DatetimeTickFormatter\"},\"major_label_orientation\":0.7853981633974483,\"plot\":{\"id\":\"7203aacd-8532-4aed-a952-2eaa7605c398\",\"subtype\":\"Figure\",\"type\":\"Plot\"},\"ticker\":{\"id\":\"f4ab844d-e624-4d87-8b6c-de4fe595ca4f\",\"type\":\"DatetimeTicker\"}},\"id\":\"c77e55b1-111b-4e16-adf6-b7b2e6b7b258\",\"type\":\"DatetimeAxis\"},{\"attributes\":{\"bottom\":{\"field\":\"bottom\"},\"fill_alpha\":{\"value\":0.1},\"fill_color\":{\"value\":\"#1f77b4\"},\"line_alpha\":{\"value\":0.1},\"line_color\":{\"value\":\"#1f77b4\"},\"top\":{\"field\":\"top\"},\"width\":{\"value\":43200000},\"x\":{\"field\":\"x\"}},\"id\":\"9ea3dcee-1ae8-4c52-be30-a036c19c2abf\",\"type\":\"VBar\"},{\"attributes\":{\"bottom_units\":\"screen\",\"fill_alpha\":{\"value\":0.5},\"fill_color\":{\"value\":\"lightgrey\"},\"left_units\":\"screen\",\"level\":\"overlay\",\"line_alpha\":{\"value\":1.0},\"line_color\":{\"value\":\"black\"},\"line_dash\":[4,4],\"line_width\":{\"value\":2},\"plot\":null,\"render_mode\":\"css\",\"right_units\":\"screen\",\"top_units\":\"screen\"},\"id\":\"d0c784e5-0e8e-4405-a9b5-73783241ec72\",\"type\":\"BoxAnnotation\"},{\"attributes\":{\"mantissas\":[1,2,5],\"max_interval\":500.0,\"num_minor_ticks\":0},\"id\":\"41511a89-c641-4ffa-b484-5ec04b946449\",\"type\":\"AdaptiveTicker\"},{\"attributes\":{\"callback\":null,\"column_names\":[\"x0\",\"y0\",\"x1\",\"y1\"],\"data\":{\"x0\":{\"__ndarray__\":\"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\",\"dtype\":\"float64\",\"shape\":[223]},\"x1\":{\"__ndarray__\":\"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\",\"dtype\":\"float64\",\"shape\":[223]},\"y0\":{\"__ndarray__\":\"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\",\"dtype\":\"float64\",\"shape\":[223]},\"y1\":{\"__ndarray__\":\"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\",\"dtype\":\"float64\",\"shape\":[223]}}},\"id\":\"400f1e61-eefe-437d-b71b-64e4814e97d0\",\"type\":\"ColumnDataSource\"},{\"attributes\":{\"active_drag\":\"auto\",\"active_inspect\":\"auto\",\"active_scroll\":\"auto\",\"active_tap\":\"auto\",\"tools\":[{\"id\":\"df5d0a20-c535-4d8f-b8aa-8ea4c108a523\",\"type\":\"PanTool\"},{\"id\":\"fe898a2f-d4e8-4df3-bd96-8b2d35cb53d3\",\"type\":\"WheelZoomTool\"},{\"id\":\"47d3d738-be41-4f48-b267-03e0f4637e05\",\"type\":\"BoxZoomTool\"},{\"id\":\"2995c3b8-aba5-4686-a615-201f526dfa7d\",\"type\":\"ResetTool\"},{\"id\":\"09e79081-a987-4528-842f-6c5f7eb8b32c\",\"type\":\"SaveTool\"}]},\"id\":\"00b5aea8-4a14-402e-ae19-18c8147a6424\",\"type\":\"Toolbar\"},{\"attributes\":{\"days\":[1,15]},\"id\":\"840f01cb-4e34-441f-a400-f3b23d62dd9d\",\"type\":\"DaysTicker\"},{\"attributes\":{\"overlay\":{\"id\":\"d0c784e5-0e8e-4405-a9b5-73783241ec72\",\"type\":\"BoxAnnotation\"}},\"id\":\"47d3d738-be41-4f48-b267-03e0f4637e05\",\"type\":\"BoxZoomTool\"},{\"attributes\":{\"source\":{\"id\":\"8473acb4-ac01-4402-be25-4fada2ba570c\",\"type\":\"ColumnDataSource\"}},\"id\":\"7a1915a7-3fdf-4de3-b62a-aa4a1c1354b4\",\"type\":\"CDSView\"},{\"attributes\":{},\"id\":\"fe898a2f-d4e8-4df3-bd96-8b2d35cb53d3\",\"type\":\"WheelZoomTool\"},{\"attributes\":{},\"id\":\"2995c3b8-aba5-4686-a615-201f526dfa7d\",\"type\":\"ResetTool\"},{\"attributes\":{\"days\":[1,4,7,10,13,16,19,22,25,28]},\"id\":\"aeb75105-41f0-43fe-b585-519448c7cbfd\",\"type\":\"DaysTicker\"},{\"attributes\":{},\"id\":\"25e232a3-6b62-4a0e-8668-4246d669f899\",\"type\":\"BasicTicker\"},{\"attributes\":{\"months\":[0,4,8]},\"id\":\"896a0fd7-9bc9-4a7c-a03a-dcb33c24c9b0\",\"type\":\"MonthsTicker\"},{\"attributes\":{\"data_source\":{\"id\":\"8473acb4-ac01-4402-be25-4fada2ba570c\",\"type\":\"ColumnDataSource\"},\"glyph\":{\"id\":\"fce45a2c-8e7e-400a-b7ac-f97966b9c102\",\"type\":\"VBar\"},\"hover_glyph\":null,\"muted_glyph\":null,\"nonselection_glyph\":{\"id\":\"9ea3dcee-1ae8-4c52-be30-a036c19c2abf\",\"type\":\"VBar\"},\"selection_glyph\":null,\"view\":{\"id\":\"7a1915a7-3fdf-4de3-b62a-aa4a1c1354b4\",\"type\":\"CDSView\"}},\"id\":\"455d0277-ba21-4c6a-b639-fba715dee9a9\",\"type\":\"GlyphRenderer\"},{\"attributes\":{\"line_alpha\":{\"value\":0.1},\"line_color\":{\"value\":\"#1f77b4\"},\"x0\":{\"field\":\"x0\"},\"x1\":{\"field\":\"x1\"},\"y0\":{\"field\":\"y0\"},\"y1\":{\"field\":\"y1\"}},\"id\":\"96eeab50-71f8-482e-a26a-92a4bb232df0\",\"type\":\"Segment\"},{\"attributes\":{\"grid_line_alpha\":{\"value\":0.3},\"plot\":{\"id\":\"7203aacd-8532-4aed-a952-2eaa7605c398\",\"subtype\":\"Figure\",\"type\":\"Plot\"},\"ticker\":{\"id\":\"f4ab844d-e624-4d87-8b6c-de4fe595ca4f\",\"type\":\"DatetimeTicker\"}},\"id\":\"c511879c-4319-413d-9276-e9152e40f150\",\"type\":\"Grid\"},{\"attributes\":{\"callback\":null,\"column_names\":[\"x\",\"top\",\"bottom\"],\"data\":{\"bottom\":{\"__ndarray__\":\"KVyPwvXoP0AAAAAAAIA/QNQq+kMzU0FAAAAAAADAQkAs1QW8zIxBQEG5bd+j8EBAv0aSIFwPQEDAfLJiuF4+QNejcD0KV0BAQINNnUcBQEBVMZV+wjU/QBSuR+F61D5ArkfhehRuPkBSuB6F61E6QNejcD0KFzZA1Cr6QzMzNkAs1QW8zEw2QNQq+kMzMzVAAAAAAACANUAXJ77aUfg2QGZmZmZmJjdAKVyPwvVoNUAXJ77aUbg1QNejcD0KlzVAmpmZmZkZNkCuR+F6FC41QOxRuB6F6zVA/YaJBikcOEADeXb51uM4QGZmZmZmZjdAPQrXo3D9NkDUKvpDM/M3QAN5dvnW4zdAw/UoXI9COEDuyi4YXA84QBI10eejsDhAUrgehetROUCamZmZmdk7QKvOaoE9yj1AVTGVfsJ1O0DAfLJiuJ47QD0K16Nw/TtArkfhehSuOUApXI/C9Wg5QBSuR+F6FDpAA3l2+dbjO0As1QW8zEw8QHsUrkfhujtAZmZmZmamPEBSuB6F6xE6QBSuR+F6lDpAA3l2+dajOkBmZmZmZmY7QD0K16NwPTlALNUFvMwMOEDUKvpDMzM4QIXrUbgeBThAFye+2lH4N0B7FK5H4bo2QAN5dvnWIzVA1Cr6QzPzNEAXJ77aUbgzQBSuR+F6FDRA1Cr6QzOzM0AXJ77aUfgzQGZmZmZmZjJA1Cr6QzOzMkDAfLJiuN4yQCzVBbzMDDNA1Cr6QzPzMkAs1QW8zMwyQD0K16NwvTJAwHyyYrheMkAAAAAAAIAyQNQq+kMzMzJAwHyyYrgeMkDXo3A9ClcyQBcnvtpReDJA/YaJBimcMkCamZmZmRkzQOxRuB6F6zJAAAAAAACAMkCuR+F6FO4xQMB8smK4HjJArkfhehRuM0CuR+F6FC4zQFUxlX7C9TJA\",\"dtype\":\"float64\",\"shape\":[87]},\"top\":{\"__ndarray__\":\"w/UoXI8CPkAAAAAAAIA+QAAAAAAAQEBAahX9oZm5QkA9CtejcP1AQOxRuB6F60BA7souGFwPP0AUrkfhelQ+QOnYQSWuhz5AZmZmZmbmP0BSuB6F65E+QMB8smK4nj5AmpmZmZkZPkAAAAAAAAA6QBSuR+F6FDZA7FG4HoXrNUDD9ShcjwI2QAN5dvnWYzRAw/UoXI8CNUBSuB6F6xE1QP2GiQYpHDdALNUFvMxMNUDD9Shcj0I1QIXrUbgehTVArkfhehSuNUB7FK5H4bo0QMB8smK4HjVA16NwPQoXNkBVMZV+wjU4QHsUrkfhOjdAw/UoXI+CNkAAAAAAAEA3QClcj8L1qDdA16NwPQqXN0ASNdHno7A3QNQq+kMzMzdA1Cr6QzOzOEADeXb51uM4QFUxlX7C9TpAw/UoXI9CO0BmZmZmZmY7QJqZmZmZWTtAPQrXo3B9OUBmZmZmZuY4QClcj8L1aDlA/YaJBincOUB7FK5H4fo6QNQq+kMzsztAQINNnUchO0CF61G4HgU6QBSuR+F6VDpArkfhehQuOkBAg02dR2E6QOxRuB6F6zhArkfhehSuN0ASNdHno/A3QMP1KFyPwjdA1Cr6QzPzN0Dp2EElroc2QCzVBbzMzDRAZmZmZmamNEAAAAAAAIAzQIXrUbgexTNAA3l2+dZjM0CrzmqBPcozQAAAAAAAADJA6dhBJa5HMkCamZmZmZkyQD0K16NwvTJAPQrXo3B9MkD9hokGKZwyQAAAAAAAgDJALNUFvMxMMkAs1QW8zMwxQMP1KFyPAjJA/YaJBikcMkDUKvpDMzMyQNejcD0KVzJAw/UoXI9CMkDXo3A9CpcyQCzVBbzMzDJAw/UoXI8CMkApXI/C9agxQECDTZ1H4TFAKVyPwvWoMUAAAAAAAAAzQGZmZmZm5jJA\",\"dtype\":\"float64\",\"shape\":[87]},\"x\":{\"__ndarray__\":\"AACA0VjHdUIAAEA3q8d1QgAAAJ39x3VCAACAaKLIdUIAAID/68l1QgAAAMuQynVCAACALX/MdUIAAAD5I811QgAAQCobznVCAAAAkG3OdUIAAEDBZM91QgAAAL4A0XVCAACAiaXRdUIAAECGQdN1QgAAwOgv1XVCAACAToLVdUIAAEC01NV1QgAAQEse13VCAAAAsXDXdUIAAIB8Fdh1QgAAQOJn2HVCAADARFbadUIAAMDbn9t1QgAAgEHy23VCAABAp0TcdUIAAACk4N11QgAAwAkz3nVCAACAb4XedUIAAEDV1951QgAAwDfG4HVCAABAA2vhdUIAAIA0YuJ1QgAAQJq04nVCAADAZVnjdUIAAMD8ouR1QgAAQMhH5XVCAAAALprldUIAAMCT7OV1QgAAgJCI53VCAADAWMnpdUIAAIC+G+p1QgAAQCRu6nVCAAAAIQrsdUIAAIDsrux1QgAAAObm73VCAADASznwdUIAAEAX3vB1QgAAQK4n8nVCAAAAFHrydUIAAEBFcfN1QgAAgHZo9HVCAAAAQg31dUIAAIANsvV1QgAAgKT79nVCAAAAB+r4dUIAAMBsPPl1QgAAQDjh+XVCAAAAnjP6dUIAAIAAIvx1QgAAgJdr/XVCAAAAYxD+dUIAAIAutf51QgAAgMX+/3VCAAAAkaMAdkIAAMD29QB2QgAAgPORAnZCAABAWeQCdkIAAAC/NgN2QgAAQPAtBHZCAADAu9IEdkIAAECHdwV2QgAAQB7BBnZCAADA6WUHdkIAAIDmAQl2QgAAQExUCXZCAAAAsqYJdkIAAMAX+Ql2QgAAwK5CC3ZCAACAFJULdkIAAEB65wt2QgAAAOA5DHZCAACAQigOdkIAAAClFhB2QgAAwAppEHZCAACABwUSdkIAAEBtVxJ2QgAAANOpEnZC\",\"dtype\":\"float64\",\"shape\":[87]}}},\"id\":\"8473acb4-ac01-4402-be25-4fada2ba570c\",\"type\":\"ColumnDataSource\"},{\"attributes\":{\"source\":{\"id\":\"400f1e61-eefe-437d-b71b-64e4814e97d0\",\"type\":\"ColumnDataSource\"}},\"id\":\"21327629-799d-42de-aaa0-eaa4ecb2b4e3\",\"type\":\"CDSView\"},{\"attributes\":{\"line_color\":{\"value\":\"red\"},\"x0\":{\"field\":\"x0\"},\"x1\":{\"field\":\"x1\"},\"y0\":{\"field\":\"y0\"},\"y1\":{\"field\":\"y1\"}},\"id\":\"1c02434c-6d52-4993-a6fe-c17f0c183acb\",\"type\":\"Segment\"},{\"attributes\":{\"callback\":null,\"column_names\":[\"x\",\"top\",\"bottom\"],\"data\":{\"bottom\":{\"__ndarray__\":\"ahX9oZl5Q0As1QW8zCxCQOiiIeNR2EBA6KIh41HYQECW6gJeZiZAQOxRuB6Faz9A1Cr6QzNzP0AAAAAAAAA/QD0K16NwvT5A7FG4HoXrPkBVMZV+wrU+QClcj8L1aD5AA3l2+dZjO0CamZmZmdk5QNejcD0KVzlAFye+2lE4OUDUKvpDM7M2QFUxlX7CdTVAQINNnUfhNEDUKvpDM7M2QOxRuB6FKzZAw/UoXI+CNUAXJ77aUXg1QBSuR+F6FDVAhetRuB7FNED9hokGKRw4QFUxlX7C9TdAFK5H4XpUN0DD9Shcj4I2QAN5dvnWYzdAZmZmZmbmN0D9hokGKRw3QOnYQSWuhzxAFK5H4XoUO0DAfLJiuB49QOnYQSWuxztAZmZmZmbmO0DsUbgehWs7QAAAAAAAADtAhetRuB5FOUADeXb51uM4QK5H4XoU7jpAQINNnUchPEAUrkfhetQ7QAAAAAAAQDpA/YaJBikcOkAXJ77aUXg6QAAAAAAAADlAw/UoXI9COUBVMZV+wvU3QIXrUbgehTdA7FG4HoXrN0CF61G4HoU3QCzVBbzMDDdAhetRuB6FNkAs1QW8zAw1QNQq+kMzszRAexSuR+G6M0BSuB6F65EzQECDTZ1HoTNAA3l2+dbjMkBVMZV+wvUxQNQq+kMzczJALNUFvMzMMkASNdHno3AyQCzVBbzMTDJAmpmZmZkZMkCamZmZmdkxQOnYQSWuxzJAmpmZmZmZMkDUKvpDMzMyQMP1KFyPQjJAmpmZmZmZMUDUKvpDM7MxQAAAAAAAADJAKVyPwvWoMUDXo3A9CtcyQA==\",\"dtype\":\"float64\",\"shape\":[77]},\"top\":{\"__ndarray__\":\"LNUFvMysRUC/RpIgXA9DQECDTZ1HIUFAAAAAAAAAQUAAAAAAAMBAQH/DRIMULkBA1Cr6QzMzQEDAfLJiuJ4/QGZmZmZmJj9AFye+2lE4P0DsUbgehes+QBI10eej8D5AKVyPwvUoPkCamZmZmdk6QO7KLhhcTzpAVTGVfsJ1OUAAAAAAAAA5QBSuR+F6VDZAAAAAAACANUDuyi4YXM82QAN5dvnW4zZAQINNnUdhNkBSuB6F65E1QClcj8L16DVAmpmZmZnZNEApXI/C9Wg4QECDTZ1HIThAAAAAAABAOEApXI/C9Wg3QGZmZmZmpjdAw/UoXI9COEBmZmZmZmY3QJqZmZmZmTxAFye+2lH4O0A9CtejcD0+QAAAAAAAADxAmpmZmZkZPEDuyi4YXM87QKvOaoE9CjxAw/UoXI+COkCuR+F6FK45QJqZmZmZ2TtA/YaJBilcPEBSuB6F61E8QD0K16NwfTtAQINNnUdhOkCamZmZmZk6QFK4HoXrkTpAZmZmZmbmOUAAAAAAAIA5QP2GiQYpnDdAAAAAAAAAOEDp2EElrgc4QOnYQSWuhzdA7souGFzPNkA9CtejcH02QClcj8L1KDVAAAAAAADANEAXJ77aUbgzQOnYQSWuBzRAmpmZmZnZM0BSuB6F6xEzQAN5dvnW4zJA/YaJBincMkDUKvpDM/MyQCzVBbzMzDJAVTGVfsI1MkD9hokGKRwyQNejcD0K1zJAw/UoXI/CMkB7FK5H4boyQNQq+kMzczJAVTGVfsI1MkAAAAAAAMAxQMB8smK4HjJALNUFvMzMMUASNdHno/AyQA==\",\"dtype\":\"float64\",\"shape\":[77]},\"x\":{\"__ndarray__\":\"AADA1LzFdUIAAMACUMh1QgAAQGU+ynVCAADAMOPKdUIAAABi2st1QgAAwMcszHVCAABAk9HMdUIAAMD1v851QgAAgFsSz3VCAACA8lvQdUIAAEBYrtB1QgAAwCNT0XVCAADAupzSdUIAAIAg79J1QgAAAOyT03VCAADAUebTdUIAAACD3dR1QgAAABon1nVCAADAFsPXdUIAAIATX9l1QgAAQHmx2XVCAAAA3wPadUIAAICqqNp1QgAAAA2X3HVCAADAcuncdUIAAAA7Kt91QgAAQGwh4HVCAAAA0nPgdUIAAICdGOF1QgAAAAAH43VCAACAy6vjdUIAAIBi9eR1QgAAAMXj5nVCAADAKjbndUIAAED22ud1QgAAAFwt6HVCAABAjSTpdUIAAADzdul1QgAAgFVl63VCAABAu7frdUIAAMCGXOx1QgAAgLGL8HVCAAAAfTDxdUIAAMB5zPJ1QgAAgN8e83VCAABA3Lr0dUIAAMCnX/V1QgAAwD6p9nVCAABACk73dUIAAABwoPd1QgAAwNXy93VCAACA0o75dUIAAEDPKvt1QgAAADV9+3VCAADAms/7dUIAAEBmdPx1QgAAQP29/XVCAADAyGL+dUIAAMBfrP91QgAAQCtRAHZCAAAAKO0BdkIAAMCNPwJ2QgAAAFaABHZCAACAISUFdkIAAIC4bgZ2QgAAAIQTB3ZCAACAT7gHdkIAAMCArwh2QgAAQBExDXZCAAAAd4MNdkIAAMDc1Q12QgAAQKh6DnZCAACA2XEPdkIAAEA/xA92QgAAgHC7EHZCAADAobIRdkIAAMA4/BJ2Qg==\",\"dtype\":\"float64\",\"shape\":[77]}}},\"id\":\"d59bfec3-de29-4e15-bf63-63e5c290e5dc\",\"type\":\"ColumnDataSource\"},{\"attributes\":{\"below\":[{\"id\":\"c77e55b1-111b-4e16-adf6-b7b2e6b7b258\",\"type\":\"DatetimeAxis\"}],\"left\":[{\"id\":\"5841ccd2-5ab7-4450-88b2-a216ef31e95d\",\"type\":\"LinearAxis\"}],\"plot_width\":800,\"renderers\":[{\"id\":\"c77e55b1-111b-4e16-adf6-b7b2e6b7b258\",\"type\":\"DatetimeAxis\"},{\"id\":\"c511879c-4319-413d-9276-e9152e40f150\",\"type\":\"Grid\"},{\"id\":\"5841ccd2-5ab7-4450-88b2-a216ef31e95d\",\"type\":\"LinearAxis\"},{\"id\":\"f1b9accc-1896-4efb-8327-52bfc1aa911e\",\"type\":\"Grid\"},{\"id\":\"d0c784e5-0e8e-4405-a9b5-73783241ec72\",\"type\":\"BoxAnnotation\"},{\"id\":\"49e4a94b-2921-4050-b147-e79dce06b038\",\"type\":\"GlyphRenderer\"},{\"id\":\"455d0277-ba21-4c6a-b639-fba715dee9a9\",\"type\":\"GlyphRenderer\"},{\"id\":\"3fd6d7ea-a185-431d-88f5-340c75389f56\",\"type\":\"GlyphRenderer\"}],\"title\":{\"id\":\"e7cd1be2-fcdf-4326-bdcb-a2a5159f664f\",\"type\":\"Title\"},\"toolbar\":{\"id\":\"00b5aea8-4a14-402e-ae19-18c8147a6424\",\"type\":\"Toolbar\"},\"x_range\":{\"id\":\"964b7a51-a311-4858-b02f-54f3de1ef7b2\",\"type\":\"DataRange1d\"},\"x_scale\":{\"id\":\"73c69976-5905-43ed-9b01-a9467b988b48\",\"type\":\"LinearScale\"},\"y_range\":{\"id\":\"0f6f9879-3c94-4e7d-a0f9-458a3de0ffaa\",\"type\":\"DataRange1d\"},\"y_scale\":{\"id\":\"47d54061-c6ac-499f-8bfa-69e672630f06\",\"type\":\"LinearScale\"}},\"id\":\"7203aacd-8532-4aed-a952-2eaa7605c398\",\"subtype\":\"Figure\",\"type\":\"Plot\"},{\"attributes\":{\"bottom\":{\"field\":\"bottom\"},\"fill_color\":{\"value\":\"#1ED837\"},\"top\":{\"field\":\"top\"},\"width\":{\"value\":43200000},\"x\":{\"field\":\"x\"}},\"id\":\"fce45a2c-8e7e-400a-b7ac-f97966b9c102\",\"type\":\"VBar\"},{\"attributes\":{\"months\":[0,1,2,3,4,5,6,7,8,9,10,11]},\"id\":\"5a5316da-a640-4876-9964-552a0d6ee188\",\"type\":\"MonthsTicker\"},{\"attributes\":{\"callback\":null},\"id\":\"964b7a51-a311-4858-b02f-54f3de1ef7b2\",\"type\":\"DataRange1d\"},{\"attributes\":{\"base\":60,\"mantissas\":[1,2,5,10,15,20,30],\"max_interval\":1800000.0,\"min_interval\":1000.0,\"num_minor_ticks\":0},\"id\":\"d6533be6-ea06-495b-9807-e11503efaddc\",\"type\":\"AdaptiveTicker\"},{\"attributes\":{},\"id\":\"09e79081-a987-4528-842f-6c5f7eb8b32c\",\"type\":\"SaveTool\"},{\"attributes\":{\"num_minor_ticks\":5,\"tickers\":[{\"id\":\"41511a89-c641-4ffa-b484-5ec04b946449\",\"type\":\"AdaptiveTicker\"},{\"id\":\"d6533be6-ea06-495b-9807-e11503efaddc\",\"type\":\"AdaptiveTicker\"},{\"id\":\"3aaf9d6d-2ffd-40f6-a4b1-562a3121d367\",\"type\":\"AdaptiveTicker\"},{\"id\":\"428b30d5-5b03-4172-9f34-858353b1d807\",\"type\":\"DaysTicker\"},{\"id\":\"aeb75105-41f0-43fe-b585-519448c7cbfd\",\"type\":\"DaysTicker\"},{\"id\":\"7a0dff8b-f6dc-4e47-bdbf-4a68edd99b56\",\"type\":\"DaysTicker\"},{\"id\":\"840f01cb-4e34-441f-a400-f3b23d62dd9d\",\"type\":\"DaysTicker\"},{\"id\":\"5a5316da-a640-4876-9964-552a0d6ee188\",\"type\":\"MonthsTicker\"},{\"id\":\"838b25cc-f75f-4c9f-bd81-f4bb42242040\",\"type\":\"MonthsTicker\"},{\"id\":\"896a0fd7-9bc9-4a7c-a03a-dcb33c24c9b0\",\"type\":\"MonthsTicker\"},{\"id\":\"14509f5b-27fd-4c53-8af2-fdc9339d8ab9\",\"type\":\"MonthsTicker\"},{\"id\":\"537c04c5-0466-4d93-9305-9704880d1d66\",\"type\":\"YearsTicker\"}]},\"id\":\"f4ab844d-e624-4d87-8b6c-de4fe595ca4f\",\"type\":\"DatetimeTicker\"},{\"attributes\":{\"days\":[1,8,15,22]},\"id\":\"7a0dff8b-f6dc-4e47-bdbf-4a68edd99b56\",\"type\":\"DaysTicker\"},{\"attributes\":{\"bottom\":{\"field\":\"bottom\"},\"fill_color\":{\"value\":\"#F2583E\"},\"top\":{\"field\":\"top\"},\"width\":{\"value\":43200000},\"x\":{\"field\":\"x\"}},\"id\":\"42d7be2e-3082-4020-947f-daf92744cc28\",\"type\":\"VBar\"}],\"root_ids\":[\"7203aacd-8532-4aed-a952-2eaa7605c398\"]},\"title\":\"Bokeh Application\",\"version\":\"0.12.13\"}};\n",
       "  var render_items = [{\"docid\":\"2044944c-0299-45d4-b973-68aab533c00e\",\"elementid\":\"c158faa2-9f23-4413-86b2-253acaef4166\",\"modelid\":\"7203aacd-8532-4aed-a952-2eaa7605c398\"}];\n",
       "  root.Bokeh.embed.embed_items_notebook(docs_json, render_items);\n",
       "\n",
       "  }\n",
       "  if (root.Bokeh !== undefined) {\n",
       "    embed_document(root);\n",
       "  } else {\n",
       "    var attempts = 0;\n",
       "    var timer = setInterval(function(root) {\n",
       "      if (root.Bokeh !== undefined) {\n",
       "        embed_document(root);\n",
       "        clearInterval(timer);\n",
       "      }\n",
       "      attempts++;\n",
       "      if (attempts > 100) {\n",
       "        console.log(\"Bokeh: ERROR: Unable to run BokehJS code because BokehJS library is missing\")\n",
       "        clearInterval(timer);\n",
       "      }\n",
       "    }, 10, root)\n",
       "  }\n",
       "})(window);"
      ],
      "application/vnd.bokehjs_exec.v0+json": ""
     },
     "metadata": {
      "application/vnd.bokehjs_exec.v0+json": {
       "id": "7203aacd-8532-4aed-a952-2eaa7605c398"
      }
     },
     "output_type": "display_data"
    }
   ],
   "source": [
    "zqgf = candlestickStrat('300526.sz', 100, '2017-03-08', '2018-01-28')\n",
    "candlestick(zqgf, '中潜股份')"
   ]
  },
  {
   "cell_type": "code",
   "execution_count": 205,
   "metadata": {},
   "outputs": [
    {
     "data": {
      "text/html": [
       "\n",
       "<div class=\"bk-root\">\n",
       "    <div class=\"bk-plotdiv\" id=\"ec871baa-f8f5-4198-8283-ade29f6da459\"></div>\n",
       "</div>"
      ]
     },
     "metadata": {},
     "output_type": "display_data"
    },
    {
     "data": {
      "application/javascript": [
       "(function(root) {\n",
       "  function embed_document(root) {\n",
       "    \n",
       "  var docs_json = {\"28b44aa5-e1e4-413b-97f5-09f2bb0abaef\":{\"roots\":{\"references\":[{\"attributes\":{\"line_alpha\":{\"value\":0.1},\"line_color\":{\"value\":\"#1f77b4\"},\"x0\":{\"field\":\"x0\"},\"x1\":{\"field\":\"x1\"},\"y0\":{\"field\":\"y0\"},\"y1\":{\"field\":\"y1\"}},\"id\":\"2b310392-15de-4f09-98f0-a904f3c66051\",\"type\":\"Segment\"},{\"attributes\":{\"formatter\":{\"id\":\"6e1057df-2f95-4c6a-adf3-7faa93873741\",\"type\":\"DatetimeTickFormatter\"},\"major_label_orientation\":0.7853981633974483,\"plot\":{\"id\":\"fc024dd4-4fdd-48d6-a1cc-84b30ca07549\",\"subtype\":\"Figure\",\"type\":\"Plot\"},\"ticker\":{\"id\":\"cba861e8-4962-4408-b378-c7930f88c659\",\"type\":\"DatetimeTicker\"}},\"id\":\"dc17076d-320b-420d-bacb-bee3b4d054c6\",\"type\":\"DatetimeAxis\"},{\"attributes\":{},\"id\":\"50f8fa15-bf3a-4039-a147-4048b7edc1ed\",\"type\":\"BasicTickFormatter\"},{\"attributes\":{\"bottom_units\":\"screen\",\"fill_alpha\":{\"value\":0.5},\"fill_color\":{\"value\":\"lightgrey\"},\"left_units\":\"screen\",\"level\":\"overlay\",\"line_alpha\":{\"value\":1.0},\"line_color\":{\"value\":\"black\"},\"line_dash\":[4,4],\"line_width\":{\"value\":2},\"plot\":null,\"render_mode\":\"css\",\"right_units\":\"screen\",\"top_units\":\"screen\"},\"id\":\"2e533a6d-0985-4d72-8d41-6653c9a0d596\",\"type\":\"BoxAnnotation\"},{\"attributes\":{},\"id\":\"2f03d9ff-41b3-4b60-a8c3-176c95c370c0\",\"type\":\"BasicTicker\"},{\"attributes\":{\"dimension\":1,\"grid_line_alpha\":{\"value\":0.3},\"plot\":{\"id\":\"fc024dd4-4fdd-48d6-a1cc-84b30ca07549\",\"subtype\":\"Figure\",\"type\":\"Plot\"},\"ticker\":{\"id\":\"2f03d9ff-41b3-4b60-a8c3-176c95c370c0\",\"type\":\"BasicTicker\"}},\"id\":\"e2a147ed-36fb-4537-a4d5-a8d7864ef8df\",\"type\":\"Grid\"},{\"attributes\":{},\"id\":\"85bd50ee-7867-4eaf-a79c-bcb045584a13\",\"type\":\"LinearScale\"},{\"attributes\":{},\"id\":\"6e1057df-2f95-4c6a-adf3-7faa93873741\",\"type\":\"DatetimeTickFormatter\"},{\"attributes\":{\"overlay\":{\"id\":\"2e533a6d-0985-4d72-8d41-6653c9a0d596\",\"type\":\"BoxAnnotation\"}},\"id\":\"e559384a-ac36-471b-abcd-17a0ca204c5c\",\"type\":\"BoxZoomTool\"},{\"attributes\":{\"days\":[1,2,3,4,5,6,7,8,9,10,11,12,13,14,15,16,17,18,19,20,21,22,23,24,25,26,27,28,29,30,31]},\"id\":\"cc3f988a-df81-482d-b739-de95b0c97c84\",\"type\":\"DaysTicker\"},{\"attributes\":{\"base\":24,\"mantissas\":[1,2,4,6,8,12],\"max_interval\":43200000.0,\"min_interval\":3600000.0,\"num_minor_ticks\":0},\"id\":\"90c19783-1e47-4200-8d59-de5eebe0ce11\",\"type\":\"AdaptiveTicker\"},{\"attributes\":{},\"id\":\"b86b968d-6410-4531-b7ba-8c943854733d\",\"type\":\"SaveTool\"},{\"attributes\":{\"data_source\":{\"id\":\"59eba468-3aa1-473f-834e-fa146be7abcb\",\"type\":\"ColumnDataSource\"},\"glyph\":{\"id\":\"2e4c531c-57be-4254-9f82-d6a44cec8d5a\",\"type\":\"Segment\"},\"hover_glyph\":null,\"muted_glyph\":null,\"nonselection_glyph\":{\"id\":\"2b310392-15de-4f09-98f0-a904f3c66051\",\"type\":\"Segment\"},\"selection_glyph\":null,\"view\":{\"id\":\"fea47dfd-2d76-4d11-a9b8-7ce8402036a8\",\"type\":\"CDSView\"}},\"id\":\"0992eb7e-c23e-4801-a3d8-cf05fbed2170\",\"type\":\"GlyphRenderer\"},{\"attributes\":{\"callback\":null},\"id\":\"d21ff6a5-d96a-4c61-873b-0f9d075a17d6\",\"type\":\"DataRange1d\"},{\"attributes\":{},\"id\":\"46d0e099-00c3-43f4-aee8-1bce46ab1eac\",\"type\":\"PanTool\"},{\"attributes\":{\"grid_line_alpha\":{\"value\":0.3},\"plot\":{\"id\":\"fc024dd4-4fdd-48d6-a1cc-84b30ca07549\",\"subtype\":\"Figure\",\"type\":\"Plot\"},\"ticker\":{\"id\":\"cba861e8-4962-4408-b378-c7930f88c659\",\"type\":\"DatetimeTicker\"}},\"id\":\"3f824d79-03d5-4dd7-a719-7d65616feb9a\",\"type\":\"Grid\"},{\"attributes\":{\"num_minor_ticks\":5,\"tickers\":[{\"id\":\"01cc867a-f96e-4116-9833-96e2a64717b8\",\"type\":\"AdaptiveTicker\"},{\"id\":\"66cbd0d6-358d-4478-9c68-08fd0a647f29\",\"type\":\"AdaptiveTicker\"},{\"id\":\"90c19783-1e47-4200-8d59-de5eebe0ce11\",\"type\":\"AdaptiveTicker\"},{\"id\":\"cc3f988a-df81-482d-b739-de95b0c97c84\",\"type\":\"DaysTicker\"},{\"id\":\"a516c5ee-7ac4-40e8-b59f-b424ae1dc0d6\",\"type\":\"DaysTicker\"},{\"id\":\"081c9e21-094d-417a-80a8-05ba86392cd3\",\"type\":\"DaysTicker\"},{\"id\":\"9e928169-bb22-42fd-bc9c-fa946af963e4\",\"type\":\"DaysTicker\"},{\"id\":\"e9a10df1-6035-4f1e-9e94-6c0a7b7560df\",\"type\":\"MonthsTicker\"},{\"id\":\"77e3e35c-654b-4774-8a84-b9f66d84dee5\",\"type\":\"MonthsTicker\"},{\"id\":\"72ce7890-ff98-40bf-8569-ae11f50d7d9c\",\"type\":\"MonthsTicker\"},{\"id\":\"ab4bdec9-8328-4bcd-a772-d9b27be9862e\",\"type\":\"MonthsTicker\"},{\"id\":\"38df6a6a-71b1-46f4-a4fc-474b7a8ac2e3\",\"type\":\"YearsTicker\"}]},\"id\":\"cba861e8-4962-4408-b378-c7930f88c659\",\"type\":\"DatetimeTicker\"},{\"attributes\":{\"mantissas\":[1,2,5],\"max_interval\":500.0,\"num_minor_ticks\":0},\"id\":\"01cc867a-f96e-4116-9833-96e2a64717b8\",\"type\":\"AdaptiveTicker\"},{\"attributes\":{\"active_drag\":\"auto\",\"active_inspect\":\"auto\",\"active_scroll\":\"auto\",\"active_tap\":\"auto\",\"tools\":[{\"id\":\"46d0e099-00c3-43f4-aee8-1bce46ab1eac\",\"type\":\"PanTool\"},{\"id\":\"da3227a4-1647-429b-a1aa-150d509032e4\",\"type\":\"WheelZoomTool\"},{\"id\":\"e559384a-ac36-471b-abcd-17a0ca204c5c\",\"type\":\"BoxZoomTool\"},{\"id\":\"dd174047-b43a-4e8e-ac4e-da4986ab5c07\",\"type\":\"ResetTool\"},{\"id\":\"b86b968d-6410-4531-b7ba-8c943854733d\",\"type\":\"SaveTool\"}]},\"id\":\"23c345f7-944d-4099-8ded-03e7d20367d2\",\"type\":\"Toolbar\"},{\"attributes\":{\"formatter\":{\"id\":\"50f8fa15-bf3a-4039-a147-4048b7edc1ed\",\"type\":\"BasicTickFormatter\"},\"plot\":{\"id\":\"fc024dd4-4fdd-48d6-a1cc-84b30ca07549\",\"subtype\":\"Figure\",\"type\":\"Plot\"},\"ticker\":{\"id\":\"2f03d9ff-41b3-4b60-a8c3-176c95c370c0\",\"type\":\"BasicTicker\"}},\"id\":\"dbf4284e-9eb9-4878-a6bf-4fc850367139\",\"type\":\"LinearAxis\"},{\"attributes\":{\"callback\":null,\"column_names\":[\"x\",\"top\",\"bottom\"],\"data\":{\"bottom\":{\"__ndarray__\":\"AAAAAAAAEUAfhetRuB4QQHsUrkfhehBAXI/C9ShcEEBcj8L1KFwRQClcj8L1KBNA\",\"dtype\":\"float64\",\"shape\":[6]},\"top\":{\"__ndarray__\":\"zczMzMzMDkB7FK5H4XoOQAAAAAAAABBAUrgehetREEAfhetRuB4RQOxRuB6F6xFA\",\"dtype\":\"float64\",\"shape\":[6]},\"x\":{\"__ndarray__\":\"AADA9vUAdkIAAIDzkQJ2QgAAQFnkAnZCAAAAvzYDdkIAAIAhJQV2QgAAgLhuBnZC\",\"dtype\":\"float64\",\"shape\":[6]}}},\"id\":\"a63f7372-ad7a-4fa9-a4c7-03d51354064b\",\"type\":\"ColumnDataSource\"},{\"attributes\":{\"line_color\":{\"value\":\"red\"},\"x0\":{\"field\":\"x0\"},\"x1\":{\"field\":\"x1\"},\"y0\":{\"field\":\"y0\"},\"y1\":{\"field\":\"y1\"}},\"id\":\"2e4c531c-57be-4254-9f82-d6a44cec8d5a\",\"type\":\"Segment\"},{\"attributes\":{},\"id\":\"6a1e4aba-67c2-4bbe-8c89-598c1f8aef5f\",\"type\":\"LinearScale\"},{\"attributes\":{\"callback\":null},\"id\":\"7b4fc5f8-abb1-4401-a00c-3a974345d657\",\"type\":\"DataRange1d\"},{\"attributes\":{\"callback\":null,\"column_names\":[\"x0\",\"y0\",\"x1\",\"y1\"],\"data\":{\"x0\":{\"__ndarray__\":\"AADA1fL3dUIAAAAH6vh1QgAAwGw8+XVCAACA0o75dUIAAEA44fl1QgAAAJ4z+nVCAABAzyr7dUIAAAA1fft1QgAAwJrP+3VCAACAACL8dUIAAEBmdPx1QgAAgJdr/XVCAABA/b39dUIAAABjEP51QgAAwMhi/nVCAACALrX+dUIAAMBfrP91QgAAgMX+/3VCAABAK1EAdkIAAACRowB2QgAAwPb1AHZCAAAAKO0BdkIAAMCNPwJ2QgAAgPORAnZCAABAWeQCdkIAAAC/NgN2QgAAQPAtBHZCAAAAVoAEdkIAAMC70gR2QgAAgCElBXZCAABAh3cFdkIAAIC4bgZ2Qg==\",\"dtype\":\"float64\",\"shape\":[32]},\"x1\":{\"__ndarray__\":\"AADA1fL3dUIAAAAH6vh1QgAAwGw8+XVCAACA0o75dUIAAEA44fl1QgAAAJ4z+nVCAABAzyr7dUIAAAA1fft1QgAAwJrP+3VCAACAACL8dUIAAEBmdPx1QgAAgJdr/XVCAABA/b39dUIAAABjEP51QgAAwMhi/nVCAACALrX+dUIAAMBfrP91QgAAgMX+/3VCAABAK1EAdkIAAACRowB2QgAAwPb1AHZCAAAAKO0BdkIAAMCNPwJ2QgAAgPORAnZCAABAWeQCdkIAAAC/NgN2QgAAQPAtBHZCAAAAVoAEdkIAAMC70gR2QgAAgCElBXZCAABAh3cFdkIAAIC4bgZ2Qg==\",\"dtype\":\"float64\",\"shape\":[32]},\"y0\":{\"__ndarray__\":\"UrgehetRI0Bcj8L1KFwiQHE9CtejcCFAj8L1KFyPIEB7FK5H4XofQOxRuB6F6x1AcT0K16NwHEAAAAAAAAAbQKRwPQrXoxlApHA9CtejGUCkcD0K16MZQFyPwvUoXBhAKVyPwvUoF0AAAAAAAAAWQOxRuB6F6xRA4XoUrkfhE0DhehSuR+ESQOxRuB6F6xFApHA9CtejEUC4HoXrUbgQQAAAAAAAABFAzczMzMzMEEAzMzMzMzMQQB+F61G4HhBA4XoUrkfhEEC4HoXrUbgQQK5H4XoUrhBAMzMzMzMzEECF61G4HoUQQFyPwvUoXBFAPQrXo3A9EkApXI/C9SgTQA==\",\"dtype\":\"float64\",\"shape\":[32]},\"y1\":{\"__ndarray__\":\"UrgehetRI0Bcj8L1KFwiQHE9CtejcCFAj8L1KFyPIEB7FK5H4XofQOxRuB6F6x1AcT0K16NwHEAAAAAAAAAbQKRwPQrXoxlApHA9CtejGUCkcD0K16MZQFyPwvUoXBhAKVyPwvUoF0AAAAAAAAAWQOxRuB6F6xRA4XoUrkfhE0DhehSuR+ESQOxRuB6F6xFACtejcD0KEUAzMzMzMzMQQM3MzMzMzA5AKVyPwvUoEEC4HoXrUbgOQIXrUbgehQ1AhetRuB6FD0AfhetRuB4QQK5H4XoUrg9A4XoUrkfhDkCF61G4HoUQQOF6FK5H4RBAj8L1KFyPEUDhehSuR+ERQA==\",\"dtype\":\"float64\",\"shape\":[32]}}},\"id\":\"59eba468-3aa1-473f-834e-fa146be7abcb\",\"type\":\"ColumnDataSource\"},{\"attributes\":{\"source\":{\"id\":\"2dd8b894-f458-459c-bca3-de0f48912e2d\",\"type\":\"ColumnDataSource\"}},\"id\":\"7f7fca16-113a-4f6b-bc02-34e22a529647\",\"type\":\"CDSView\"},{\"attributes\":{\"plot\":null,\"text\":\"ST\\u4f17\\u5408\"},\"id\":\"8f9046c9-edae-4db6-93c5-7f66bf336bc3\",\"type\":\"Title\"},{\"attributes\":{\"callback\":null,\"column_names\":[\"x\",\"top\",\"bottom\"],\"data\":{\"bottom\":{\"__ndarray__\":\"KVyPwvUoEEC4HoXrUbgOQBSuR+F6FBBAcT0K16NwD0A=\",\"dtype\":\"float64\",\"shape\":[4]},\"top\":{\"__ndarray__\":\"ZmZmZmZmEECamZmZmZkPQGZmZmZmZhBA7FG4HoXrD0A=\",\"dtype\":\"float64\",\"shape\":[4]},\"x\":{\"__ndarray__\":\"AAAAKO0BdkIAAMCNPwJ2QgAAQPAtBHZCAAAAVoAEdkI=\",\"dtype\":\"float64\",\"shape\":[4]}}},\"id\":\"2dd8b894-f458-459c-bca3-de0f48912e2d\",\"type\":\"ColumnDataSource\"},{\"attributes\":{\"base\":60,\"mantissas\":[1,2,5,10,15,20,30],\"max_interval\":1800000.0,\"min_interval\":1000.0,\"num_minor_ticks\":0},\"id\":\"66cbd0d6-358d-4478-9c68-08fd0a647f29\",\"type\":\"AdaptiveTicker\"},{\"attributes\":{\"bottom\":{\"field\":\"bottom\"},\"fill_color\":{\"value\":\"#1ED837\"},\"top\":{\"field\":\"top\"},\"width\":{\"value\":43200000},\"x\":{\"field\":\"x\"}},\"id\":\"d506a391-07a1-4b6e-904e-92c5c2a560bb\",\"type\":\"VBar\"},{\"attributes\":{\"bottom\":{\"field\":\"bottom\"},\"fill_alpha\":{\"value\":0.1},\"fill_color\":{\"value\":\"#1f77b4\"},\"line_alpha\":{\"value\":0.1},\"line_color\":{\"value\":\"#1f77b4\"},\"top\":{\"field\":\"top\"},\"width\":{\"value\":43200000},\"x\":{\"field\":\"x\"}},\"id\":\"b4ad5555-9536-4d5c-956f-2aacbe882cfd\",\"type\":\"VBar\"},{\"attributes\":{\"days\":[1,4,7,10,13,16,19,22,25,28]},\"id\":\"a516c5ee-7ac4-40e8-b59f-b424ae1dc0d6\",\"type\":\"DaysTicker\"},{\"attributes\":{\"months\":[0,4,8]},\"id\":\"72ce7890-ff98-40bf-8569-ae11f50d7d9c\",\"type\":\"MonthsTicker\"},{\"attributes\":{\"days\":[1,8,15,22]},\"id\":\"081c9e21-094d-417a-80a8-05ba86392cd3\",\"type\":\"DaysTicker\"},{\"attributes\":{\"months\":[0,1,2,3,4,5,6,7,8,9,10,11]},\"id\":\"e9a10df1-6035-4f1e-9e94-6c0a7b7560df\",\"type\":\"MonthsTicker\"},{\"attributes\":{\"days\":[1,15]},\"id\":\"9e928169-bb22-42fd-bc9c-fa946af963e4\",\"type\":\"DaysTicker\"},{\"attributes\":{\"data_source\":{\"id\":\"a63f7372-ad7a-4fa9-a4c7-03d51354064b\",\"type\":\"ColumnDataSource\"},\"glyph\":{\"id\":\"d506a391-07a1-4b6e-904e-92c5c2a560bb\",\"type\":\"VBar\"},\"hover_glyph\":null,\"muted_glyph\":null,\"nonselection_glyph\":{\"id\":\"0668c827-8183-42de-94eb-c1ee71f0cfd3\",\"type\":\"VBar\"},\"selection_glyph\":null,\"view\":{\"id\":\"72f2a4d6-a678-47b8-8638-80de91b4c287\",\"type\":\"CDSView\"}},\"id\":\"aef01224-7733-43b1-9823-b2dfd504b7cd\",\"type\":\"GlyphRenderer\"},{\"attributes\":{\"months\":[0,2,4,6,8,10]},\"id\":\"77e3e35c-654b-4774-8a84-b9f66d84dee5\",\"type\":\"MonthsTicker\"},{\"attributes\":{\"bottom\":{\"field\":\"bottom\"},\"fill_color\":{\"value\":\"#F2583E\"},\"top\":{\"field\":\"top\"},\"width\":{\"value\":43200000},\"x\":{\"field\":\"x\"}},\"id\":\"75cd2af8-f2dd-49db-9901-c97b9105674a\",\"type\":\"VBar\"},{\"attributes\":{},\"id\":\"38df6a6a-71b1-46f4-a4fc-474b7a8ac2e3\",\"type\":\"YearsTicker\"},{\"attributes\":{\"months\":[0,6]},\"id\":\"ab4bdec9-8328-4bcd-a772-d9b27be9862e\",\"type\":\"MonthsTicker\"},{\"attributes\":{\"source\":{\"id\":\"a63f7372-ad7a-4fa9-a4c7-03d51354064b\",\"type\":\"ColumnDataSource\"}},\"id\":\"72f2a4d6-a678-47b8-8638-80de91b4c287\",\"type\":\"CDSView\"},{\"attributes\":{},\"id\":\"da3227a4-1647-429b-a1aa-150d509032e4\",\"type\":\"WheelZoomTool\"},{\"attributes\":{\"bottom\":{\"field\":\"bottom\"},\"fill_alpha\":{\"value\":0.1},\"fill_color\":{\"value\":\"#1f77b4\"},\"line_alpha\":{\"value\":0.1},\"line_color\":{\"value\":\"#1f77b4\"},\"top\":{\"field\":\"top\"},\"width\":{\"value\":43200000},\"x\":{\"field\":\"x\"}},\"id\":\"0668c827-8183-42de-94eb-c1ee71f0cfd3\",\"type\":\"VBar\"},{\"attributes\":{\"source\":{\"id\":\"59eba468-3aa1-473f-834e-fa146be7abcb\",\"type\":\"ColumnDataSource\"}},\"id\":\"fea47dfd-2d76-4d11-a9b8-7ce8402036a8\",\"type\":\"CDSView\"},{\"attributes\":{\"data_source\":{\"id\":\"2dd8b894-f458-459c-bca3-de0f48912e2d\",\"type\":\"ColumnDataSource\"},\"glyph\":{\"id\":\"75cd2af8-f2dd-49db-9901-c97b9105674a\",\"type\":\"VBar\"},\"hover_glyph\":null,\"muted_glyph\":null,\"nonselection_glyph\":{\"id\":\"b4ad5555-9536-4d5c-956f-2aacbe882cfd\",\"type\":\"VBar\"},\"selection_glyph\":null,\"view\":{\"id\":\"7f7fca16-113a-4f6b-bc02-34e22a529647\",\"type\":\"CDSView\"}},\"id\":\"41202211-8afd-477b-ba0a-fe25f496ddec\",\"type\":\"GlyphRenderer\"},{\"attributes\":{},\"id\":\"dd174047-b43a-4e8e-ac4e-da4986ab5c07\",\"type\":\"ResetTool\"},{\"attributes\":{\"below\":[{\"id\":\"dc17076d-320b-420d-bacb-bee3b4d054c6\",\"type\":\"DatetimeAxis\"}],\"left\":[{\"id\":\"dbf4284e-9eb9-4878-a6bf-4fc850367139\",\"type\":\"LinearAxis\"}],\"plot_width\":800,\"renderers\":[{\"id\":\"dc17076d-320b-420d-bacb-bee3b4d054c6\",\"type\":\"DatetimeAxis\"},{\"id\":\"3f824d79-03d5-4dd7-a719-7d65616feb9a\",\"type\":\"Grid\"},{\"id\":\"dbf4284e-9eb9-4878-a6bf-4fc850367139\",\"type\":\"LinearAxis\"},{\"id\":\"e2a147ed-36fb-4537-a4d5-a8d7864ef8df\",\"type\":\"Grid\"},{\"id\":\"2e533a6d-0985-4d72-8d41-6653c9a0d596\",\"type\":\"BoxAnnotation\"},{\"id\":\"0992eb7e-c23e-4801-a3d8-cf05fbed2170\",\"type\":\"GlyphRenderer\"},{\"id\":\"aef01224-7733-43b1-9823-b2dfd504b7cd\",\"type\":\"GlyphRenderer\"},{\"id\":\"41202211-8afd-477b-ba0a-fe25f496ddec\",\"type\":\"GlyphRenderer\"}],\"title\":{\"id\":\"8f9046c9-edae-4db6-93c5-7f66bf336bc3\",\"type\":\"Title\"},\"toolbar\":{\"id\":\"23c345f7-944d-4099-8ded-03e7d20367d2\",\"type\":\"Toolbar\"},\"x_range\":{\"id\":\"d21ff6a5-d96a-4c61-873b-0f9d075a17d6\",\"type\":\"DataRange1d\"},\"x_scale\":{\"id\":\"6a1e4aba-67c2-4bbe-8c89-598c1f8aef5f\",\"type\":\"LinearScale\"},\"y_range\":{\"id\":\"7b4fc5f8-abb1-4401-a00c-3a974345d657\",\"type\":\"DataRange1d\"},\"y_scale\":{\"id\":\"85bd50ee-7867-4eaf-a79c-bcb045584a13\",\"type\":\"LinearScale\"}},\"id\":\"fc024dd4-4fdd-48d6-a1cc-84b30ca07549\",\"subtype\":\"Figure\",\"type\":\"Plot\"}],\"root_ids\":[\"fc024dd4-4fdd-48d6-a1cc-84b30ca07549\"]},\"title\":\"Bokeh Application\",\"version\":\"0.12.13\"}};\n",
       "  var render_items = [{\"docid\":\"28b44aa5-e1e4-413b-97f5-09f2bb0abaef\",\"elementid\":\"ec871baa-f8f5-4198-8283-ade29f6da459\",\"modelid\":\"fc024dd4-4fdd-48d6-a1cc-84b30ca07549\"}];\n",
       "  root.Bokeh.embed.embed_items_notebook(docs_json, render_items);\n",
       "\n",
       "  }\n",
       "  if (root.Bokeh !== undefined) {\n",
       "    embed_document(root);\n",
       "  } else {\n",
       "    var attempts = 0;\n",
       "    var timer = setInterval(function(root) {\n",
       "      if (root.Bokeh !== undefined) {\n",
       "        embed_document(root);\n",
       "        clearInterval(timer);\n",
       "      }\n",
       "      attempts++;\n",
       "      if (attempts > 100) {\n",
       "        console.log(\"Bokeh: ERROR: Unable to run BokehJS code because BokehJS library is missing\")\n",
       "        clearInterval(timer);\n",
       "      }\n",
       "    }, 10, root)\n",
       "  }\n",
       "})(window);"
      ],
      "application/vnd.bokehjs_exec.v0+json": ""
     },
     "metadata": {
      "application/vnd.bokehjs_exec.v0+json": {
       "id": "fc024dd4-4fdd-48d6-a1cc-84b30ca07549"
      }
     },
     "output_type": "display_data"
    }
   ],
   "source": [
    "stzh = web.get_data_yahoo('002070.sz', start = '2016-01-01', end = '2017-12-18')\n",
    "candlestick(stzh, 'ST众合')"
   ]
  },
  {
   "cell_type": "code",
   "execution_count": 206,
   "metadata": {
    "scrolled": false
   },
   "outputs": [
    {
     "name": "stdout",
     "output_type": "stream",
     "text": [
      "number of stocks: 100\n",
      "\n",
      "2017-03-10\n",
      "Next day open price: 3.13\n",
      "investment: 313.0\n",
      "difference:0.07\n",
      "Daily earning: 7.0\n",
      "accumulative earning: 7.0\n",
      "\n",
      "2017-12-27\n",
      "difference:0.07\n",
      "Daily earning: 7.0\n",
      "accumulative earning: 14.0\n",
      "earning percentage: 4.47284345048%\n"
     ]
    },
    {
     "data": {
      "text/html": [
       "\n",
       "<div class=\"bk-root\">\n",
       "    <div class=\"bk-plotdiv\" id=\"a9f4b9cc-ba72-4307-a3a2-72dc6d65c608\"></div>\n",
       "</div>"
      ]
     },
     "metadata": {},
     "output_type": "display_data"
    },
    {
     "data": {
      "application/javascript": [
       "(function(root) {\n",
       "  function embed_document(root) {\n",
       "    \n",
       "  var docs_json = {\"3d460ebf-f659-4bca-97b8-5fcbc61c0ef0\":{\"roots\":{\"references\":[{\"attributes\":{\"months\":[0,4,8]},\"id\":\"a83e05a7-8bfa-4fdb-adaf-581cb5f72aaa\",\"type\":\"MonthsTicker\"},{\"attributes\":{\"line_color\":{\"value\":\"red\"},\"x0\":{\"field\":\"x0\"},\"x1\":{\"field\":\"x1\"},\"y0\":{\"field\":\"y0\"},\"y1\":{\"field\":\"y1\"}},\"id\":\"5235f7f4-45bd-48ea-bb7f-9ff7bccb480f\",\"type\":\"Segment\"},{\"attributes\":{\"formatter\":{\"id\":\"281c1eb6-eb07-4f17-bdc6-365df42a831c\",\"type\":\"DatetimeTickFormatter\"},\"major_label_orientation\":0.7853981633974483,\"plot\":{\"id\":\"b37444af-b102-4386-803d-d1e10edafa1b\",\"subtype\":\"Figure\",\"type\":\"Plot\"},\"ticker\":{\"id\":\"01f64b08-408a-4abe-bfa6-f53c55c829ee\",\"type\":\"DatetimeTicker\"}},\"id\":\"aef57bdb-5e0a-47c1-8253-cc5e797ed623\",\"type\":\"DatetimeAxis\"},{\"attributes\":{},\"id\":\"8be0f7c7-6e87-4b02-bfbd-7652df0eff31\",\"type\":\"PanTool\"},{\"attributes\":{\"num_minor_ticks\":5,\"tickers\":[{\"id\":\"4110a3b5-d5dc-4ee8-9c45-d6aa150b3251\",\"type\":\"AdaptiveTicker\"},{\"id\":\"a06e79b3-4ecc-47dc-9cdc-3524dc611874\",\"type\":\"AdaptiveTicker\"},{\"id\":\"db0693d1-1a3a-4b04-ae66-023f1a523304\",\"type\":\"AdaptiveTicker\"},{\"id\":\"e0e3da19-9bd2-432c-b559-f4bbb909553b\",\"type\":\"DaysTicker\"},{\"id\":\"4654da4f-63e3-4bf0-b37e-232550cafd80\",\"type\":\"DaysTicker\"},{\"id\":\"54807bec-4291-4a3b-9dca-a44cef46ea0a\",\"type\":\"DaysTicker\"},{\"id\":\"64b83c98-f673-48dc-9371-ff5d21e143e3\",\"type\":\"DaysTicker\"},{\"id\":\"8dc9ce5c-d51e-4b51-90cb-791404c05cf8\",\"type\":\"MonthsTicker\"},{\"id\":\"85203580-c9d4-4c6f-8460-5108f97f7f78\",\"type\":\"MonthsTicker\"},{\"id\":\"a83e05a7-8bfa-4fdb-adaf-581cb5f72aaa\",\"type\":\"MonthsTicker\"},{\"id\":\"94b34d18-dca1-4ffc-957c-7a0c32498458\",\"type\":\"MonthsTicker\"},{\"id\":\"806dd70b-1fd3-4ce0-b281-6e0d7806724e\",\"type\":\"YearsTicker\"}]},\"id\":\"01f64b08-408a-4abe-bfa6-f53c55c829ee\",\"type\":\"DatetimeTicker\"},{\"attributes\":{\"days\":[1,2,3,4,5,6,7,8,9,10,11,12,13,14,15,16,17,18,19,20,21,22,23,24,25,26,27,28,29,30,31]},\"id\":\"e0e3da19-9bd2-432c-b559-f4bbb909553b\",\"type\":\"DaysTicker\"},{\"attributes\":{},\"id\":\"d4d3b123-df68-44eb-9cb0-a13ce8484a8b\",\"type\":\"LinearScale\"},{\"attributes\":{\"grid_line_alpha\":{\"value\":0.3},\"plot\":{\"id\":\"b37444af-b102-4386-803d-d1e10edafa1b\",\"subtype\":\"Figure\",\"type\":\"Plot\"},\"ticker\":{\"id\":\"01f64b08-408a-4abe-bfa6-f53c55c829ee\",\"type\":\"DatetimeTicker\"}},\"id\":\"53a749e3-1cb8-4abe-821d-732d3acabfe6\",\"type\":\"Grid\"},{\"attributes\":{},\"id\":\"806dd70b-1fd3-4ce0-b281-6e0d7806724e\",\"type\":\"YearsTicker\"},{\"attributes\":{\"callback\":null},\"id\":\"29890376-0b30-48a7-93a3-8d05c0a83068\",\"type\":\"DataRange1d\"},{\"attributes\":{\"source\":{\"id\":\"cd003fb8-620b-46a5-996f-c93ec872d453\",\"type\":\"ColumnDataSource\"}},\"id\":\"3f2e1ac0-efb7-4525-a6ae-5f010cd7d01d\",\"type\":\"CDSView\"},{\"attributes\":{},\"id\":\"9d306530-8639-411a-847d-d693fa64429c\",\"type\":\"LinearScale\"},{\"attributes\":{\"callback\":null,\"column_names\":[\"x0\",\"y0\",\"x1\",\"y1\"],\"data\":{\"x0\":{\"__ndarray__\":\"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\",\"dtype\":\"float64\",\"shape\":[223]},\"x1\":{\"__ndarray__\":\"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\",\"dtype\":\"float64\",\"shape\":[223]},\"y0\":{\"__ndarray__\":\"AAAAAAAA+H/Xo3A9CtcJQJqZmZmZmQlAcT0K16NwCUCuR+F6FK4JQK5H4XoUrglA7FG4HoXrCUAAAAAAAAAKQAAAAAAAAApA7FG4HoXrCUBmZmZmZmYKQLgehetRuApAzczMzMzMCkCF61G4HoULQNejcD0K1wtA7FG4HoXrC0ApXI/C9SgMQOxRuB6F6wtAmpmZmZmZC0Bcj8L1KFwNQLgehetRuAxAXI/C9ShcDUBmZmZmZmYOQB+F61G4Hg9AUrgehetRDkC4HoXrUbgOQClcj8L1KA5A7FG4HoXrDUB7FK5H4XoOQOF6FK5H4Q5ApHA9CtejDkAzMzMzMzMQQBSuR+F6FBBAmpmZmZmZD0CF61G4HoUQQDMzMzMzMxBAexSuR+F6EEBxPQrXo3AQQM3MzMzMzBBA4XoUrkfhEECuR+F6FK4QQHE9CtejcBBAPQrXo3A9DkAK16NwPQoPQArXo3A9Cg9AuB6F61G4DkBcj8L1KFwPQMP1KFyPwhBA16NwPQrXEEDNzMzMzMwQQOxRuB6F6xBAw/UoXI/CEECF61G4HoUQQFK4HoXrURBAcT0K16NwEEBSuB6F61EQQGZmZmZmZhBAhetRuB6FD0AzMzMzMzMPQHE9CtejcA9AH4XrUbgeD0CamZmZmZkPQEjhehSuRxBAUrgehetREEBSuB6F61EQQClcj8L1KBBAAAAAAAAAEEBcj8L1KFwPQNejcD0K1w9AH4XrUbgeEEBSuB6F61EQQFK4HoXrURBAZmZmZmZmEEAzMzMzMzMQQOF6FK5H4RBA7FG4HoXrEEDNzMzMzMwQQOxRuB6F6xBACtejcD0KEUC4HoXrUbgQQKRwPQrXoxBApHA9CtejEECkcD0K16MQQK5H4XoUrhBAj8L1KFyPEEAzMzMzMzMQQB+F61G4HhBArkfhehSuD0ApXI/C9SgQQBSuR+F6FBBAw/UoXI/CD0ApXI/C9SgQQDMzMzMzMxBAH4XrUbgeEEApXI/C9SgQQB+F61G4HhBArkfhehSuD0CamZmZmZkPQHE9CtejcA9A16NwPQrXD0CuR+F6FK4PQJqZmZmZmQ9AhetRuB6FD0BI4XoUrkcPQDMzMzMzMw9AH4XrUbgeD0B7FK5H4XoOQGZmZmZmZg5A16NwPQrXDUCPwvUoXI8OQI/C9Shcjw5A9ihcj8L1DkDhehSuR+EOQLgehetRuA5AMzMzMzMzD0AzMzMzMzMPQFyPwvUoXA9AH4XrUbgeD0Bcj8L1KFwPQHE9CtejcA9ASOF6FK5HD0D2KFyPwvUOQOF6FK5H4Q5A9ihcj8L1DkBcj8L1KFwPQB+F61G4HhBAKVyPwvUoEEAUrkfhehQQQAAAAAAAABBA7FG4HoXrD0DsUbgehesPQIXrUbgehQ9AXI/C9ShcD0DhehSuR+EOQArXo3A9ChBAKVyPwvUoEEAUrkfhehQQQBSuR+F6FBBAH4XrUbgeEEAzMzMzMzMQQOxRuB6F6xBAMzMzMzMzEUBI4XoUrkcSQJqZmZmZmRJAUrgehetRE0BI4XoUrkcTQGZmZmZmZhNAuB6F61G4E0CF61G4HoUUQI/C9ShcjxVA9ihcj8L1FEBSuB6F61EVQI/C9ShcjxVAj8L1KFyPFEAfhetRuB4VQFK4HoXrURVA4XoUrkfhFkAfhetRuB4XQAAAAAAAABhAcT0K16NwGUAUrkfhehQZQAAAAAAAABlAhetRuB6FGEBI4XoUrkcYQDMzMzMzMxpAXI/C9ShcGkAUrkfhehQbQB+F61G4HhpAexSuR+F6GkCPwvUoXI8aQLgehetRuBlAUrgehetRGUDNzMzMzMwZQFyPwvUoXBpAKVyPwvUoGUAAAAAAAAAbQIXrUbgehRpAzczMzMzMGUCamZmZmZkYQEjhehSuRxZArkfhehSuFUDsUbgehesVQOxRuB6F6xVAzczMzMzMFUDXo3A9CtcWQBSuR+F6FBdA7FG4HoXrFkDD9Shcj8IWQOxRuB6F6xZAPQrXo3A9F0BmZmZmZmYXQFK4HoXrURdAXI/C9ShcF0AfhetRuB4XQHsUrkfhehZApHA9CtejFkDNzMzMzMwWQOF6FK5H4RdA7FG4HoXrF0DhehSuR+EXQJqZmZmZmRdArkfhehSuF0BxPQrXo3AXQGZmZmZmZhdAZmZmZmZmF0Bcj8L1KFwXQBSuR+F6FBdA9ihcj8L1FkB7FK5H4XoWQB+F61G4HhhAhetRuB6FGECF61G4HoUYQJqZmZmZmRhAzczMzMzMGUC4HoXrUbgZQDMzMzMzMxpAw/UoXI/CGUCuR+F6FK4aQK5H4XoUrhpAuB6F61G4GkBI4XoUrkcaQDMzMzMzMxpApHA9CtejGUA=\",\"dtype\":\"float64\",\"shape\":[223]},\"y1\":{\"__ndarray__\":\"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\",\"dtype\":\"float64\",\"shape\":[223]}}},\"id\":\"da1aa847-85d7-4aee-9db1-e3af83e72bc0\",\"type\":\"ColumnDataSource\"},{\"attributes\":{\"below\":[{\"id\":\"aef57bdb-5e0a-47c1-8253-cc5e797ed623\",\"type\":\"DatetimeAxis\"}],\"left\":[{\"id\":\"f2864e3e-300a-41ce-bdb9-bf5cf350a869\",\"type\":\"LinearAxis\"}],\"plot_width\":800,\"renderers\":[{\"id\":\"aef57bdb-5e0a-47c1-8253-cc5e797ed623\",\"type\":\"DatetimeAxis\"},{\"id\":\"53a749e3-1cb8-4abe-821d-732d3acabfe6\",\"type\":\"Grid\"},{\"id\":\"f2864e3e-300a-41ce-bdb9-bf5cf350a869\",\"type\":\"LinearAxis\"},{\"id\":\"1c9cc05a-d8de-4b3d-ac97-50963b518702\",\"type\":\"Grid\"},{\"id\":\"8a9db79d-dbd9-4790-86dd-5bb3a1cc9f6d\",\"type\":\"BoxAnnotation\"},{\"id\":\"0f170ca3-01d0-44c8-854f-89dbd8d79612\",\"type\":\"GlyphRenderer\"},{\"id\":\"6b24f846-358a-4fea-9ca0-180d19c5b88b\",\"type\":\"GlyphRenderer\"},{\"id\":\"62e242c2-91e2-4869-86b6-85f82c421707\",\"type\":\"GlyphRenderer\"}],\"title\":{\"id\":\"5402e863-4228-4d82-91ed-b233ac50f65b\",\"type\":\"Title\"},\"toolbar\":{\"id\":\"9780e349-3393-439d-9588-23727afb4a14\",\"type\":\"Toolbar\"},\"x_range\":{\"id\":\"56ff8faa-f3b4-498c-a1c4-3253e1c800f5\",\"type\":\"DataRange1d\"},\"x_scale\":{\"id\":\"d4d3b123-df68-44eb-9cb0-a13ce8484a8b\",\"type\":\"LinearScale\"},\"y_range\":{\"id\":\"29890376-0b30-48a7-93a3-8d05c0a83068\",\"type\":\"DataRange1d\"},\"y_scale\":{\"id\":\"9d306530-8639-411a-847d-d693fa64429c\",\"type\":\"LinearScale\"}},\"id\":\"b37444af-b102-4386-803d-d1e10edafa1b\",\"subtype\":\"Figure\",\"type\":\"Plot\"},{\"attributes\":{\"base\":24,\"mantissas\":[1,2,4,6,8,12],\"max_interval\":43200000.0,\"min_interval\":3600000.0,\"num_minor_ticks\":0},\"id\":\"db0693d1-1a3a-4b04-ae66-023f1a523304\",\"type\":\"AdaptiveTicker\"},{\"attributes\":{\"data_source\":{\"id\":\"da1aa847-85d7-4aee-9db1-e3af83e72bc0\",\"type\":\"ColumnDataSource\"},\"glyph\":{\"id\":\"5235f7f4-45bd-48ea-bb7f-9ff7bccb480f\",\"type\":\"Segment\"},\"hover_glyph\":null,\"muted_glyph\":null,\"nonselection_glyph\":{\"id\":\"f98b7a7e-836d-40ab-ac14-02930dbd5c78\",\"type\":\"Segment\"},\"selection_glyph\":null,\"view\":{\"id\":\"5e37127c-44c6-4345-b5c9-9200191296a3\",\"type\":\"CDSView\"}},\"id\":\"0f170ca3-01d0-44c8-854f-89dbd8d79612\",\"type\":\"GlyphRenderer\"},{\"attributes\":{\"active_drag\":\"auto\",\"active_inspect\":\"auto\",\"active_scroll\":\"auto\",\"active_tap\":\"auto\",\"tools\":[{\"id\":\"8be0f7c7-6e87-4b02-bfbd-7652df0eff31\",\"type\":\"PanTool\"},{\"id\":\"a94bcc0f-433b-403e-acdc-ba917b795d61\",\"type\":\"WheelZoomTool\"},{\"id\":\"fcd825ff-507b-4372-9b82-5a5a554b7cd2\",\"type\":\"BoxZoomTool\"},{\"id\":\"ea883ada-d869-4500-a954-de44d009785b\",\"type\":\"ResetTool\"},{\"id\":\"d7d21e4e-a0d0-443d-a7d2-96c2e601fee3\",\"type\":\"SaveTool\"}]},\"id\":\"9780e349-3393-439d-9588-23727afb4a14\",\"type\":\"Toolbar\"},{\"attributes\":{\"source\":{\"id\":\"da1aa847-85d7-4aee-9db1-e3af83e72bc0\",\"type\":\"ColumnDataSource\"}},\"id\":\"5e37127c-44c6-4345-b5c9-9200191296a3\",\"type\":\"CDSView\"},{\"attributes\":{\"callback\":null},\"id\":\"56ff8faa-f3b4-498c-a1c4-3253e1c800f5\",\"type\":\"DataRange1d\"},{\"attributes\":{},\"id\":\"d7d21e4e-a0d0-443d-a7d2-96c2e601fee3\",\"type\":\"SaveTool\"},{\"attributes\":{\"plot\":null,\"text\":\"\\u4eac\\u4e1c\\u65b9\"},\"id\":\"5402e863-4228-4d82-91ed-b233ac50f65b\",\"type\":\"Title\"},{\"attributes\":{},\"id\":\"281c1eb6-eb07-4f17-bdc6-365df42a831c\",\"type\":\"DatetimeTickFormatter\"},{\"attributes\":{},\"id\":\"18ef8f37-0fed-463f-b595-bc2b65a5f53b\",\"type\":\"BasicTickFormatter\"},{\"attributes\":{\"formatter\":{\"id\":\"18ef8f37-0fed-463f-b595-bc2b65a5f53b\",\"type\":\"BasicTickFormatter\"},\"plot\":{\"id\":\"b37444af-b102-4386-803d-d1e10edafa1b\",\"subtype\":\"Figure\",\"type\":\"Plot\"},\"ticker\":{\"id\":\"9fb961cf-b2fb-485c-ae07-396b0b4e3ad8\",\"type\":\"BasicTicker\"}},\"id\":\"f2864e3e-300a-41ce-bdb9-bf5cf350a869\",\"type\":\"LinearAxis\"},{\"attributes\":{},\"id\":\"9fb961cf-b2fb-485c-ae07-396b0b4e3ad8\",\"type\":\"BasicTicker\"},{\"attributes\":{},\"id\":\"ea883ada-d869-4500-a954-de44d009785b\",\"type\":\"ResetTool\"},{\"attributes\":{\"data_source\":{\"id\":\"cd003fb8-620b-46a5-996f-c93ec872d453\",\"type\":\"ColumnDataSource\"},\"glyph\":{\"id\":\"c89595ca-5fae-4cd5-9001-4575db9f876f\",\"type\":\"VBar\"},\"hover_glyph\":null,\"muted_glyph\":null,\"nonselection_glyph\":{\"id\":\"ebbd29c2-a2bc-4ec1-b209-3bdaf301fd66\",\"type\":\"VBar\"},\"selection_glyph\":null,\"view\":{\"id\":\"3f2e1ac0-efb7-4525-a6ae-5f010cd7d01d\",\"type\":\"CDSView\"}},\"id\":\"62e242c2-91e2-4869-86b6-85f82c421707\",\"type\":\"GlyphRenderer\"},{\"attributes\":{\"days\":[1,8,15,22]},\"id\":\"54807bec-4291-4a3b-9dca-a44cef46ea0a\",\"type\":\"DaysTicker\"},{\"attributes\":{\"callback\":null,\"column_names\":[\"x\",\"top\",\"bottom\"],\"data\":{\"bottom\":{\"__ndarray__\":\"mpmZmZmZCUBI4XoUrkcJQB+F61G4HglAcT0K16NwCUCF61G4HoUJQI/C9ShcjwpA16NwPQrXC0BI4XoUrkcLQFK4HoXrUQ5Aw/UoXI/CDUCuR+F6FK4NQNejcD0K1w1AXI/C9ShcD0DhehSuR+EOQB+F61G4HhBAmpmZmZmZEEBxPQrXo3AQQK5H4XoUrg1AUrgehetRDkBxPQrXo3AQQHsUrkfhehBA16NwPQrXD0AUrkfhehQQQOF6FK5H4Q5AzczMzMzMDkAAAAAAAAAQQDMzMzMzMw9A16NwPQrXD0DsUbgehesPQJqZmZmZmRBAj8L1KFyPEECkcD0K16MQQHsUrkfhehBAj8L1KFyPEEAUrkfhehQQQIXrUbgehQ9AMzMzMzMzD0DD9Shcj8IPQK5H4XoUrg9AXI/C9ShcD0BI4XoUrkcPQHE9CtejcA9AMzMzMzMzD0DhehSuR+EOQI/C9Shcjw5AUrgehetRDkCF61G4HoUNQKRwPQrXow5A4XoUrkfhDkD2KFyPwvUOQKRwPQrXow5ApHA9CtejDkCuR+F6FK4PQFyPwvUoXA9ASOF6FK5HD0C4HoXrUbgOQAAAAAAAABBArkfhehSuD0DsUbgehesPQJqZmZmZmRFA7FG4HoXrEkBxPQrXo3AUQB+F61G4HhRA4XoUrkfhFEDD9Shcj8IYQEjhehSuRxdAw/UoXI/CGUCkcD0K16MZQIXrUbgehRhAuB6F61G4GEDsUbgehesZQD0K16NwPRhAH4XrUbgeF0DhehSuR+EUQFK4HoXrURZA7FG4HoXrFkAUrkfhehQWQK5H4XoUrhdAcT0K16NwF0A9CtejcD0XQAAAAAAAABdA7FG4HoXrFkDhehSuR+EWQFK4HoXrURZASOF6FK5HGEBxPQrXo3AZQPYoXI/C9RlAUrgehetRGUA=\",\"dtype\":\"float64\",\"shape\":[88]},\"top\":{\"__ndarray__\":\"16NwPQrXCUCamZmZmZkJQEjhehSuRwlAmpmZmZmZCUDXo3A9CtcJQKRwPQrXowpA7FG4HoXrC0DXo3A9CtcLQLgehetRuA5AKVyPwvUoDkApXI/C9SgOQFK4HoXrUQ5Aw/UoXI/CD0Bcj8L1KFwPQHsUrkfhehBApHA9CtejEEB7FK5H4XoQQFK4HoXrURBAZmZmZmZmDkCkcD0K16MQQKRwPQrXoxBAcT0K16NwEEBI4XoUrkcQQBSuR+F6FBBACtejcD0KD0AzMzMzMzMQQOxRuB6F6w9A7FG4HoXrD0BSuB6F61EQQK5H4XoUrhBAmpmZmZmZEEDsUbgehesQQKRwPQrXoxBAmpmZmZmZEECF61G4HoUQQBSuR+F6FBBACtejcD0KEEAUrkfhehQQQArXo3A9ChBAhetRuB6FD0Bcj8L1KFwPQIXrUbgehQ9AXI/C9ShcD0AfhetRuB4PQArXo3A9Cg9AexSuR+F6DkA9CtejcD0OQM3MzMzMzA5ACtejcD0KD0AK16NwPQoPQEjhehSuRw9AzczMzMzMDkAUrkfhehQQQNejcD0K1w9AXI/C9ShcD0BI4XoUrkcPQBSuR+F6FBBAAAAAAAAAEEAUrkfhehQQQAAAAAAAABJAKVyPwvUoE0CF61G4HoUUQIXrUbgehRVA7FG4HoXrFEDhehSuR+EYQHsUrkfhehhA4XoUrkfhGUAK16NwPQoaQGZmZmZmZhlAmpmZmZmZGUAAAAAAAAAaQHsUrkfhehlACtejcD0KGEAzMzMzMzMWQLgehetRuBZAKVyPwvUoF0AfhetRuB4XQM3MzMzMzBdAuB6F61G4F0CPwvUoXI8XQClcj8L1KBdAKVyPwvUoF0DsUbgehesWQPYoXI/C9RZAcT0K16NwGEAK16NwPQoaQKRwPQrXoxpACtejcD0KGkA=\",\"dtype\":\"float64\",\"shape\":[88]},\"x\":{\"__ndarray__\":\"AADAcbOqdUIAAIDXBat1QgAAQD1Yq3VCAABA1KGsdUIAAIAFma11QgAAAGiHr3VCAACAynWxdUIAAEAwyLF1QgAAQPWktXVCAAAAW/e1dUIAAIAmnLZ1QgAAQCM4uHVCAAAAINS5dUIAAMCFJrp1QgAAALcdu3VCAACAGQy9dUIAAEB/Xr11QgAAgLBVvnVCAADA4Uy/dUIAAEBEO8F1QgAAAEHXwnVCAADApinDdUIAAADYIMR1QgAAwNS8xXVCAABAN6vHdUIAAMCZmcl1QgAAQGU+ynVCAAAAYtrLdUIAAECT0cx1QgAAAJBtznVCAADA9b/OdUIAAEDBZM91QgAAgPJb0HVCAADAI1PRdUIAAMC6nNJ1QgAAQIZB03VCAAAAg93UdUIAAAAaJ9Z1QgAAALFw13VCAADAFsPXdUIAAEDiZ9h1QgAAQHmx2XVCAADARFbadUIAAICqqNp1QgAAgEHy23VCAABAp0TcdUIAAAANl9x1QgAAQNXX3nVCAAAA0nPgdUIAAICdGOF1QgAAQJq04nVCAADAZVnjdUIAAAAumuV1QgAAwCo253VCAACAkIjndUIAAED22ud1QgAAwFjJ6XVCAACAvhvqdUIAAIBVZet1QgAAgOyu7HVCAACAsYvwdUIAAECuJ/J1QgAAgN8e83VCAABA3Lr0dUIAAEAKTvd1QgAAAHCg93VCAACA0o75dUIAAEDPKvt1QgAAADV9+3VCAABAZnT8dUIAAABjEP51QgAAwMhi/nVCAACALrX+dUIAAMBfrP91QgAAQFnkAnZCAAAAVoAEdkIAAECHdwV2QgAAgE+4B3ZCAADAgK8IdkIAAIDmAQl2QgAAQExUCXZCAADArkILdkIAAEB65wt2QgAAAOA5DHZCAABAqHoOdkIAAAClFhB2QgAAgAcFEnZCAAAA06kSdkI=\",\"dtype\":\"float64\",\"shape\":[88]}}},\"id\":\"cd003fb8-620b-46a5-996f-c93ec872d453\",\"type\":\"ColumnDataSource\"},{\"attributes\":{\"dimension\":1,\"grid_line_alpha\":{\"value\":0.3},\"plot\":{\"id\":\"b37444af-b102-4386-803d-d1e10edafa1b\",\"subtype\":\"Figure\",\"type\":\"Plot\"},\"ticker\":{\"id\":\"9fb961cf-b2fb-485c-ae07-396b0b4e3ad8\",\"type\":\"BasicTicker\"}},\"id\":\"1c9cc05a-d8de-4b3d-ac97-50963b518702\",\"type\":\"Grid\"},{\"attributes\":{\"data_source\":{\"id\":\"d4f3a1a5-c6b2-43a3-b568-8ee2105d2566\",\"type\":\"ColumnDataSource\"},\"glyph\":{\"id\":\"d276d001-b52f-4d9f-a50e-5f8752f24e75\",\"type\":\"VBar\"},\"hover_glyph\":null,\"muted_glyph\":null,\"nonselection_glyph\":{\"id\":\"90039a10-5cdd-49a0-a363-467f4f957bad\",\"type\":\"VBar\"},\"selection_glyph\":null,\"view\":{\"id\":\"54d906e4-9288-441a-a6e8-a8186fec24df\",\"type\":\"CDSView\"}},\"id\":\"6b24f846-358a-4fea-9ca0-180d19c5b88b\",\"type\":\"GlyphRenderer\"},{\"attributes\":{\"bottom\":{\"field\":\"bottom\"},\"fill_color\":{\"value\":\"#1ED837\"},\"top\":{\"field\":\"top\"},\"width\":{\"value\":43200000},\"x\":{\"field\":\"x\"}},\"id\":\"d276d001-b52f-4d9f-a50e-5f8752f24e75\",\"type\":\"VBar\"},{\"attributes\":{\"months\":[0,6]},\"id\":\"94b34d18-dca1-4ffc-957c-7a0c32498458\",\"type\":\"MonthsTicker\"},{\"attributes\":{\"callback\":null,\"column_names\":[\"x\",\"top\",\"bottom\"],\"data\":{\"bottom\":{\"__ndarray__\":\"mpmZmZmZCUDXo3A9CtcJQNejcD0K1wlA16NwPQrXCUBSuB6F61EKQI/C9ShcjwpAMzMzMzMzC0Bcj8L1KFwLQOxRuB6F6wtAhetRuB6FC0B7FK5H4XoMQEjhehSuRw1AUrgehetRDkApXI/C9SgOQFK4HoXrUQ5AZmZmZmZmDkDXo3A9CtcPQB+F61G4HhBAMzMzMzMzEEBmZmZmZmYQQLgehetRuBBAFK5H4XoUDkB7FK5H4XoOQGZmZmZmZg5ACtejcD0KD0C4HoXrUbgQQKRwPQrXoxBAmpmZmZmZEEBI4XoUrkcQQB+F61G4Hg9ASOF6FK5HD0AUrkfhehQQQDMzMzMzMxBAMzMzMzMzD0DXo3A9CtcPQD0K16NwPRBAH4XrUbgeEECkcD0K16MQQOxRuB6F6xBAmpmZmZmZEECkcD0K16MQQI/C9ShcjxBAFK5H4XoUEECamZmZmZkPQArXo3A9ChBAmpmZmZmZD0AfhetRuB4QQB+F61G4HhBAcT0K16NwD0CamZmZmZkPQB+F61G4Hg9AmpmZmZmZDUB7FK5H4XoOQM3MzMzMzA5Aj8L1KFyPDkD2KFyPwvUOQB+F61G4Hg9AMzMzMzMzD0Bcj8L1KFwPQM3MzMzMzA5AuB6F61G4DkAzMzMzMzMPQArXo3A9ChBACtejcD0KEEDD9Shcj8IPQArXo3A9ChBACtejcD0KEEAAAAAAAAAQQK5H4XoUrhBAzczMzMzMEED2KFyPwvURQClcj8L1KBNAPQrXo3A9E0AUrkfhehQTQGZmZmZmZhRAmpmZmZmZFEApXI/C9SgVQD0K16NwPRRAAAAAAAAAFUDhehSuR+EWQArXo3A9ChdArkfhehSuF0CamZmZmZkYQOF6FK5H4RhACtejcD0KGEApXI/C9SgaQB+F61G4HhpAFK5H4XoUGkDhehSuR+EYQK5H4XoUrhlAFK5H4XoUGUCuR+F6FK4aQI/C9ShcjxVAXI/C9ShcFUCF61G4HoUVQGZmZmZmZhZAexSuR+F6FkDXo3A9CtcWQK5H4XoUrhZAMzMzMzMzF0ApXI/C9SgXQB+F61G4HhZAmpmZmZmZFkCkcD0K16MWQKRwPQrXoxdAKVyPwvUoF0ApXI/C9SgXQBSuR+F6FBdAUrgehetRFkAK16NwPQoYQFyPwvUoXBhAXI/C9ShcGEAUrkfhehQZQI/C9ShcjxlAcT0K16NwGUCamZmZmZkaQJqZmZmZmRpAMzMzMzMzGkApXI/C9SgZQA==\",\"dtype\":\"float64\",\"shape\":[119]},\"top\":{\"__ndarray__\":\"CtejcD0KCUBxPQrXo3AJQMP1KFyPwglAhetRuB6FCUDXo3A9CtcJQFK4HoXrUQpApHA9CtejCkAzMzMzMzMLQFyPwvUoXAtASOF6FK5HC0CF61G4HoULQGZmZmZmZgxAMzMzMzMzDUDXo3A9CtcNQK5H4XoUrg1AAAAAAAAADkCkcD0K16MOQM3MzMzMzA5AAAAAAAAAEEAfhetRuB4QQHE9CtejcBBA4XoUrkfhDEAUrkfhehQOQD0K16NwPQ5A4XoUrkfhDkD2KFyPwvUOQFK4HoXrURBAj8L1KFyPEEDD9Shcj8IPQOF6FK5H4Q5AzczMzMzMDkAfhetRuB4PQClcj8L1KBBAH4XrUbgeD0AfhetRuB4PQNejcD0K1w9A16NwPQrXD0AfhetRuB4QQKRwPQrXoxBAcT0K16NwEECPwvUoXI8QQIXrUbgehRBAAAAAAAAAEECF61G4HoUPQK5H4XoUrg9AH4XrUbgeD0CF61G4HoUPQK5H4XoUrg9ASOF6FK5HD0AzMzMzMzMPQM3MzMzMzA5AcT0K16NwDUCamZmZmZkNQHsUrkfheg5AexSuR+F6DkB7FK5H4XoOQOF6FK5H4Q5A4XoUrkfhDkAfhetRuB4PQKRwPQrXow5ApHA9CtejDkCkcD0K16MOQEjhehSuRw9AAAAAAAAAEECuR+F6FK4PQM3MzMzMzA5AAAAAAAAAEECuR+F6FK4PQNejcD0K1w9AmpmZmZmZEEDNzMzMzMwQQJqZmZmZmRFAKVyPwvUoE0DXo3A9CtcSQFK4HoXrURNAXI/C9ShcFECamZmZmZkUQAAAAAAAABRAcT0K16NwFEDsUbgehesUQKRwPQrXoxZAMzMzMzMzF0AfhetRuB4YQHsUrkfhehhAXI/C9ShcF0AAAAAAAAAYQAAAAAAAABpApHA9CtejGUCuR+F6FK4YQLgehetRuBhAzczMzMzMGED2KFyPwvUYQDMzMzMzMxVAMzMzMzMzFUBcj8L1KFwVQK5H4XoUrhVAPQrXo3A9FkB7FK5H4XoWQDMzMzMzMxZArkfhehSuFkDXo3A9CtcWQPYoXI/C9RVAFK5H4XoUFkCPwvUoXI8WQLgehetRuBZA4XoUrkfhFkAUrkfhehQXQAAAAAAAABdAPQrXo3A9FkAzMzMzMzMWQOxRuB6F6xdAPQrXo3A9GEBcj8L1KFwYQFyPwvUoXBlASOF6FK5HGUCF61G4HoUZQHsUrkfhehpAuB6F61G4GUAfhetRuB4ZQA==\",\"dtype\":\"float64\",\"shape\":[119]},\"x\":{\"__ndarray__\":\"AACAbk+sdUIAAAA69Kx1QgAAwJ9GrXVCAADANpCudUIAAICc4q51QgAAQAI1r3VCAADAzdmvdUIAAAD/0LB1QgAAwGQjsXVCAAAAlhqydUIAAMCStrN1QgAAQF5btHVCAACAj1K1dUIAAMDASbZ1QgAAgL3lt3VCAAAAiYq4dUIAAMDu3Lh1QgAAgOt4unVCAABAUcu6dUIAAABOZ7x1QgAAwLO5vHVCAABAFqi+dUIAAAB8+r51QgAAgEefv3VCAADAeJbAdUIAAIDe6MB1QgAAAKqNwXVCAADAD+DBdUIAAIAMfMN1QgAAQKBhxnVCAAAAnf3HdUIAAMACUMh1QgAAgGiiyHVCAAAAy5DKdUIAAMAw48p1QgAAwMcszHVCAAAA+SPNdUIAAEAqG851QgAAgFsSz3VCAABAWK7QdUIAAAC+ANF1QgAAgIml0XVCAACAIO/SdUIAAADsk9N1QgAAwFHm03VCAADA6C/VdUIAAIBOgtV1QgAAQEse13VCAACAfBXYdUIAAIATX9l1QgAAwNuf23VCAADAcuncdUIAAACk4N11QgAAgG+F3nVCAAAAOyrfdUIAAEBsIeB1QgAAwDfG4HVCAABAA2vhdUIAAIA0YuJ1QgAAAAAH43VCAACAy6vjdUIAAMD8ouR1QgAAgGL15HVCAABAyEfldUIAAMCT7OV1QgAAQI0k6XVCAAAA83bpdUIAAEAkbup1QgAAQLu363VCAAAAIQrsdUIAAMCGXOx1QgAAAObm73VCAADASznwdUIAAEAX3vB1QgAAAH0w8XVCAAAAFHrydUIAAMB5zPJ1QgAAQEVx83VCAACAdmj0dUIAAABCDfV1QgAAwKdf9XVCAACADbL1dUIAAMA+qfZ1QgAAgKT79nVCAADA1fL3dUIAAAAH6vh1QgAAwGw8+XVCAABAOOH5dUIAAMCaz/t1QgAAgAAi/HVCAACAl2v9dUIAAED9vf11QgAAgMX+/3VCAAAAkaMAdkIAAMD29QB2QgAAACjtAXZCAADAjT8CdkIAAIDzkQJ2QgAAAL82A3ZCAABA8C0EdkIAAMC70gR2QgAAgLhuBnZCAABAHsEGdkIAAACEEwd2QgAAwOllB3ZCAAAAsqYJdkIAAMAX+Ql2QgAAgBSVC3ZCAABAETENdkIAAAB3gw12QgAAwNzVDXZCAACAQigOdkIAAIDZcQ92QgAAQD/ED3ZCAADACmkQdkIAAIBwuxB2QgAAwKGyEXZCAABAbVcSdkIAAMA4/BJ2Qg==\",\"dtype\":\"float64\",\"shape\":[119]}}},\"id\":\"d4f3a1a5-c6b2-43a3-b568-8ee2105d2566\",\"type\":\"ColumnDataSource\"},{\"attributes\":{\"bottom\":{\"field\":\"bottom\"},\"fill_alpha\":{\"value\":0.1},\"fill_color\":{\"value\":\"#1f77b4\"},\"line_alpha\":{\"value\":0.1},\"line_color\":{\"value\":\"#1f77b4\"},\"top\":{\"field\":\"top\"},\"width\":{\"value\":43200000},\"x\":{\"field\":\"x\"}},\"id\":\"90039a10-5cdd-49a0-a363-467f4f957bad\",\"type\":\"VBar\"},{\"attributes\":{\"bottom_units\":\"screen\",\"fill_alpha\":{\"value\":0.5},\"fill_color\":{\"value\":\"lightgrey\"},\"left_units\":\"screen\",\"level\":\"overlay\",\"line_alpha\":{\"value\":1.0},\"line_color\":{\"value\":\"black\"},\"line_dash\":[4,4],\"line_width\":{\"value\":2},\"plot\":null,\"render_mode\":\"css\",\"right_units\":\"screen\",\"top_units\":\"screen\"},\"id\":\"8a9db79d-dbd9-4790-86dd-5bb3a1cc9f6d\",\"type\":\"BoxAnnotation\"},{\"attributes\":{\"source\":{\"id\":\"d4f3a1a5-c6b2-43a3-b568-8ee2105d2566\",\"type\":\"ColumnDataSource\"}},\"id\":\"54d906e4-9288-441a-a6e8-a8186fec24df\",\"type\":\"CDSView\"},{\"attributes\":{\"mantissas\":[1,2,5],\"max_interval\":500.0,\"num_minor_ticks\":0},\"id\":\"4110a3b5-d5dc-4ee8-9c45-d6aa150b3251\",\"type\":\"AdaptiveTicker\"},{\"attributes\":{\"bottom\":{\"field\":\"bottom\"},\"fill_color\":{\"value\":\"#F2583E\"},\"top\":{\"field\":\"top\"},\"width\":{\"value\":43200000},\"x\":{\"field\":\"x\"}},\"id\":\"c89595ca-5fae-4cd5-9001-4575db9f876f\",\"type\":\"VBar\"},{\"attributes\":{},\"id\":\"a94bcc0f-433b-403e-acdc-ba917b795d61\",\"type\":\"WheelZoomTool\"},{\"attributes\":{\"bottom\":{\"field\":\"bottom\"},\"fill_alpha\":{\"value\":0.1},\"fill_color\":{\"value\":\"#1f77b4\"},\"line_alpha\":{\"value\":0.1},\"line_color\":{\"value\":\"#1f77b4\"},\"top\":{\"field\":\"top\"},\"width\":{\"value\":43200000},\"x\":{\"field\":\"x\"}},\"id\":\"ebbd29c2-a2bc-4ec1-b209-3bdaf301fd66\",\"type\":\"VBar\"},{\"attributes\":{\"days\":[1,4,7,10,13,16,19,22,25,28]},\"id\":\"4654da4f-63e3-4bf0-b37e-232550cafd80\",\"type\":\"DaysTicker\"},{\"attributes\":{\"line_alpha\":{\"value\":0.1},\"line_color\":{\"value\":\"#1f77b4\"},\"x0\":{\"field\":\"x0\"},\"x1\":{\"field\":\"x1\"},\"y0\":{\"field\":\"y0\"},\"y1\":{\"field\":\"y1\"}},\"id\":\"f98b7a7e-836d-40ab-ac14-02930dbd5c78\",\"type\":\"Segment\"},{\"attributes\":{\"overlay\":{\"id\":\"8a9db79d-dbd9-4790-86dd-5bb3a1cc9f6d\",\"type\":\"BoxAnnotation\"}},\"id\":\"fcd825ff-507b-4372-9b82-5a5a554b7cd2\",\"type\":\"BoxZoomTool\"},{\"attributes\":{\"base\":60,\"mantissas\":[1,2,5,10,15,20,30],\"max_interval\":1800000.0,\"min_interval\":1000.0,\"num_minor_ticks\":0},\"id\":\"a06e79b3-4ecc-47dc-9cdc-3524dc611874\",\"type\":\"AdaptiveTicker\"},{\"attributes\":{\"months\":[0,2,4,6,8,10]},\"id\":\"85203580-c9d4-4c6f-8460-5108f97f7f78\",\"type\":\"MonthsTicker\"},{\"attributes\":{\"months\":[0,1,2,3,4,5,6,7,8,9,10,11]},\"id\":\"8dc9ce5c-d51e-4b51-90cb-791404c05cf8\",\"type\":\"MonthsTicker\"},{\"attributes\":{\"days\":[1,15]},\"id\":\"64b83c98-f673-48dc-9371-ff5d21e143e3\",\"type\":\"DaysTicker\"}],\"root_ids\":[\"b37444af-b102-4386-803d-d1e10edafa1b\"]},\"title\":\"Bokeh Application\",\"version\":\"0.12.13\"}};\n",
       "  var render_items = [{\"docid\":\"3d460ebf-f659-4bca-97b8-5fcbc61c0ef0\",\"elementid\":\"a9f4b9cc-ba72-4307-a3a2-72dc6d65c608\",\"modelid\":\"b37444af-b102-4386-803d-d1e10edafa1b\"}];\n",
       "  root.Bokeh.embed.embed_items_notebook(docs_json, render_items);\n",
       "\n",
       "  }\n",
       "  if (root.Bokeh !== undefined) {\n",
       "    embed_document(root);\n",
       "  } else {\n",
       "    var attempts = 0;\n",
       "    var timer = setInterval(function(root) {\n",
       "      if (root.Bokeh !== undefined) {\n",
       "        embed_document(root);\n",
       "        clearInterval(timer);\n",
       "      }\n",
       "      attempts++;\n",
       "      if (attempts > 100) {\n",
       "        console.log(\"Bokeh: ERROR: Unable to run BokehJS code because BokehJS library is missing\")\n",
       "        clearInterval(timer);\n",
       "      }\n",
       "    }, 10, root)\n",
       "  }\n",
       "})(window);"
      ],
      "application/vnd.bokehjs_exec.v0+json": ""
     },
     "metadata": {
      "application/vnd.bokehjs_exec.v0+json": {
       "id": "b37444af-b102-4386-803d-d1e10edafa1b"
      }
     },
     "output_type": "display_data"
    }
   ],
   "source": [
    "jdf = candlestickStrat('000725.sz', 100, '2017-03-08', '2018-01-28')\n",
    "candlestick(jdf, '京东方')"
   ]
  },
  {
   "cell_type": "code",
   "execution_count": 207,
   "metadata": {
    "scrolled": false
   },
   "outputs": [
    {
     "name": "stdout",
     "output_type": "stream",
     "text": [
      "number of stocks: 100\n",
      "\n",
      "2017-06-30\n",
      "Next day open price: 474.200012\n",
      "investment: 47420.0012\n",
      "difference:-13.830017\n",
      "Daily earning: -1383.0017\n",
      "accumulative earning: -1383.0017\n",
      "\n",
      "2017-09-08\n",
      "difference:7.230011\n",
      "Daily earning: 723.0011\n",
      "accumulative earning: -660.0006\n",
      "\n",
      "2017-11-24\n",
      "difference:-12.710022\n",
      "Daily earning: -1271.0022\n",
      "accumulative earning: -1931.0028\n",
      "earning percentage: -4.07212726937%\n"
     ]
    },
    {
     "data": {
      "text/html": [
       "\n",
       "<div class=\"bk-root\">\n",
       "    <div class=\"bk-plotdiv\" id=\"43b2adeb-439c-4c67-91fc-3d306e0e9d97\"></div>\n",
       "</div>"
      ]
     },
     "metadata": {},
     "output_type": "display_data"
    },
    {
     "data": {
      "application/javascript": [
       "(function(root) {\n",
       "  function embed_document(root) {\n",
       "    \n",
       "  var docs_json = {\"7eff62a1-fc26-465f-ba20-40ab93455b85\":{\"roots\":{\"references\":[{\"attributes\":{\"days\":[1,4,7,10,13,16,19,22,25,28]},\"id\":\"4e1156c1-9557-4b0e-bfa3-edac40859b98\",\"type\":\"DaysTicker\"},{\"attributes\":{\"bottom_units\":\"screen\",\"fill_alpha\":{\"value\":0.5},\"fill_color\":{\"value\":\"lightgrey\"},\"left_units\":\"screen\",\"level\":\"overlay\",\"line_alpha\":{\"value\":1.0},\"line_color\":{\"value\":\"black\"},\"line_dash\":[4,4],\"line_width\":{\"value\":2},\"plot\":null,\"render_mode\":\"css\",\"right_units\":\"screen\",\"top_units\":\"screen\"},\"id\":\"4fd51c5a-281b-4d84-b89f-3b54ad04d2ec\",\"type\":\"BoxAnnotation\"},{\"attributes\":{\"base\":24,\"mantissas\":[1,2,4,6,8,12],\"max_interval\":43200000.0,\"min_interval\":3600000.0,\"num_minor_ticks\":0},\"id\":\"99ad915e-d6c8-44bb-b5c6-d0e0853b094a\",\"type\":\"AdaptiveTicker\"},{\"attributes\":{\"callback\":null},\"id\":\"45ffbd75-958c-4725-87b9-0f22284482e7\",\"type\":\"DataRange1d\"},{\"attributes\":{\"data_source\":{\"id\":\"45ec8a84-7556-4e6a-9cc8-103f37b5f026\",\"type\":\"ColumnDataSource\"},\"glyph\":{\"id\":\"3e4ca06b-bd18-4f12-8862-ecc9dd4ee524\",\"type\":\"VBar\"},\"hover_glyph\":null,\"muted_glyph\":null,\"nonselection_glyph\":{\"id\":\"5c01b7c2-9bab-4c5c-b6e9-bc4e402a9e3d\",\"type\":\"VBar\"},\"selection_glyph\":null,\"view\":{\"id\":\"91a128e9-6bef-4135-b0f6-d27c961102ff\",\"type\":\"CDSView\"}},\"id\":\"fe0ce684-c7c4-4658-a026-d932427d684f\",\"type\":\"GlyphRenderer\"},{\"attributes\":{\"months\":[0,4,8]},\"id\":\"792e803a-722a-451f-b679-2a56f7940cd3\",\"type\":\"MonthsTicker\"},{\"attributes\":{\"callback\":null},\"id\":\"43a2be86-c834-418a-a2af-ec72b8569494\",\"type\":\"DataRange1d\"},{\"attributes\":{\"overlay\":{\"id\":\"4fd51c5a-281b-4d84-b89f-3b54ad04d2ec\",\"type\":\"BoxAnnotation\"}},\"id\":\"8e15477c-6d79-4d04-9dc6-39ecd7e25c72\",\"type\":\"BoxZoomTool\"},{\"attributes\":{\"days\":[1,2,3,4,5,6,7,8,9,10,11,12,13,14,15,16,17,18,19,20,21,22,23,24,25,26,27,28,29,30,31]},\"id\":\"2ea90e7c-abef-4ef7-89eb-7642b7b2939a\",\"type\":\"DaysTicker\"},{\"attributes\":{\"line_alpha\":{\"value\":0.1},\"line_color\":{\"value\":\"#1f77b4\"},\"x0\":{\"field\":\"x0\"},\"x1\":{\"field\":\"x1\"},\"y0\":{\"field\":\"y0\"},\"y1\":{\"field\":\"y1\"}},\"id\":\"a2945635-933f-4ee0-b908-7c32e92a354e\",\"type\":\"Segment\"},{\"attributes\":{},\"id\":\"217cd13f-4a02-46e5-bf19-fd7478100136\",\"type\":\"LinearScale\"},{\"attributes\":{\"data_source\":{\"id\":\"66af856f-56d2-48ee-9250-f4e1f9ba39dd\",\"type\":\"ColumnDataSource\"},\"glyph\":{\"id\":\"e307e4c9-768f-4550-96a4-0f89157e2776\",\"type\":\"Segment\"},\"hover_glyph\":null,\"muted_glyph\":null,\"nonselection_glyph\":{\"id\":\"a2945635-933f-4ee0-b908-7c32e92a354e\",\"type\":\"Segment\"},\"selection_glyph\":null,\"view\":{\"id\":\"a6e3bfb8-c0c6-41c5-9d4e-b0a1e816e0d6\",\"type\":\"CDSView\"}},\"id\":\"b2da116a-f087-4ac5-b957-22e0e4aa048d\",\"type\":\"GlyphRenderer\"},{\"attributes\":{},\"id\":\"f03bcd33-09fe-48c9-b0ec-e98a454084a0\",\"type\":\"YearsTicker\"},{\"attributes\":{},\"id\":\"2fc8461f-9b0a-43ae-9482-e47284638706\",\"type\":\"BasicTickFormatter\"},{\"attributes\":{\"days\":[1,8,15,22]},\"id\":\"6e743b47-3f84-4865-bd24-1c3093ed086b\",\"type\":\"DaysTicker\"},{\"attributes\":{\"months\":[0,1,2,3,4,5,6,7,8,9,10,11]},\"id\":\"f8639d41-808c-455b-9d09-cf29f5f54a51\",\"type\":\"MonthsTicker\"},{\"attributes\":{\"bottom\":{\"field\":\"bottom\"},\"fill_alpha\":{\"value\":0.1},\"fill_color\":{\"value\":\"#1f77b4\"},\"line_alpha\":{\"value\":0.1},\"line_color\":{\"value\":\"#1f77b4\"},\"top\":{\"field\":\"top\"},\"width\":{\"value\":43200000},\"x\":{\"field\":\"x\"}},\"id\":\"89647d84-9b9a-41d9-ac73-27bba3eb101d\",\"type\":\"VBar\"},{\"attributes\":{},\"id\":\"96f3cd45-3a19-4442-9ca9-5868f74903c8\",\"type\":\"SaveTool\"},{\"attributes\":{\"grid_line_alpha\":{\"value\":0.3},\"plot\":{\"id\":\"26d84b2d-ba01-4787-beee-e0371e7d25af\",\"subtype\":\"Figure\",\"type\":\"Plot\"},\"ticker\":{\"id\":\"2b5b3d78-67b0-4413-8e31-2d4a511e4cf5\",\"type\":\"DatetimeTicker\"}},\"id\":\"9b69d0c5-41c5-411a-8033-3ab6068addc1\",\"type\":\"Grid\"},{\"attributes\":{},\"id\":\"27f3ef77-d602-4683-bd26-9ef3182f2812\",\"type\":\"BasicTicker\"},{\"attributes\":{\"base\":60,\"mantissas\":[1,2,5,10,15,20,30],\"max_interval\":1800000.0,\"min_interval\":1000.0,\"num_minor_ticks\":0},\"id\":\"7af1703c-8c5d-495d-b525-5f26e161e58a\",\"type\":\"AdaptiveTicker\"},{\"attributes\":{},\"id\":\"5bb03301-aeaf-4704-8f18-676d04e9fc56\",\"type\":\"PanTool\"},{\"attributes\":{\"bottom\":{\"field\":\"bottom\"},\"fill_alpha\":{\"value\":0.1},\"fill_color\":{\"value\":\"#1f77b4\"},\"line_alpha\":{\"value\":0.1},\"line_color\":{\"value\":\"#1f77b4\"},\"top\":{\"field\":\"top\"},\"width\":{\"value\":43200000},\"x\":{\"field\":\"x\"}},\"id\":\"5c01b7c2-9bab-4c5c-b6e9-bc4e402a9e3d\",\"type\":\"VBar\"},{\"attributes\":{\"dimension\":1,\"grid_line_alpha\":{\"value\":0.3},\"plot\":{\"id\":\"26d84b2d-ba01-4787-beee-e0371e7d25af\",\"subtype\":\"Figure\",\"type\":\"Plot\"},\"ticker\":{\"id\":\"27f3ef77-d602-4683-bd26-9ef3182f2812\",\"type\":\"BasicTicker\"}},\"id\":\"e2b995ba-f1d7-4293-a0e8-23e579ea2a7a\",\"type\":\"Grid\"},{\"attributes\":{\"source\":{\"id\":\"4d83c01c-a52a-4345-9d50-dd747898c411\",\"type\":\"ColumnDataSource\"}},\"id\":\"cba51f57-eef1-4cca-98a2-0fbcdc307364\",\"type\":\"CDSView\"},{\"attributes\":{\"months\":[0,2,4,6,8,10]},\"id\":\"80790772-014c-40d4-b4f2-44bcf1880144\",\"type\":\"MonthsTicker\"},{\"attributes\":{},\"id\":\"5e8ded9a-4400-4a1d-97d6-66e8b089e3c6\",\"type\":\"ResetTool\"},{\"attributes\":{},\"id\":\"a902ef92-e823-473a-bbec-6d6f01069299\",\"type\":\"DatetimeTickFormatter\"},{\"attributes\":{\"line_color\":{\"value\":\"red\"},\"x0\":{\"field\":\"x0\"},\"x1\":{\"field\":\"x1\"},\"y0\":{\"field\":\"y0\"},\"y1\":{\"field\":\"y1\"}},\"id\":\"e307e4c9-768f-4550-96a4-0f89157e2776\",\"type\":\"Segment\"},{\"attributes\":{\"below\":[{\"id\":\"7be9b671-1edd-43f4-8b86-1952f770e9bd\",\"type\":\"DatetimeAxis\"}],\"left\":[{\"id\":\"0b17e3ff-47d7-4fe3-b574-840fd9d0a6d4\",\"type\":\"LinearAxis\"}],\"plot_width\":800,\"renderers\":[{\"id\":\"7be9b671-1edd-43f4-8b86-1952f770e9bd\",\"type\":\"DatetimeAxis\"},{\"id\":\"9b69d0c5-41c5-411a-8033-3ab6068addc1\",\"type\":\"Grid\"},{\"id\":\"0b17e3ff-47d7-4fe3-b574-840fd9d0a6d4\",\"type\":\"LinearAxis\"},{\"id\":\"e2b995ba-f1d7-4293-a0e8-23e579ea2a7a\",\"type\":\"Grid\"},{\"id\":\"4fd51c5a-281b-4d84-b89f-3b54ad04d2ec\",\"type\":\"BoxAnnotation\"},{\"id\":\"b2da116a-f087-4ac5-b957-22e0e4aa048d\",\"type\":\"GlyphRenderer\"},{\"id\":\"fe0ce684-c7c4-4658-a026-d932427d684f\",\"type\":\"GlyphRenderer\"},{\"id\":\"bbac2a1f-a687-4e49-9993-36e3188d8c8d\",\"type\":\"GlyphRenderer\"}],\"title\":{\"id\":\"1927dc5c-41d4-43dc-90e3-54c5bc286b5d\",\"type\":\"Title\"},\"toolbar\":{\"id\":\"32a21c1a-9f85-4458-bca1-3128009b4454\",\"type\":\"Toolbar\"},\"x_range\":{\"id\":\"45ffbd75-958c-4725-87b9-0f22284482e7\",\"type\":\"DataRange1d\"},\"x_scale\":{\"id\":\"787d14dc-9aa6-461d-b589-31ab9d235239\",\"type\":\"LinearScale\"},\"y_range\":{\"id\":\"43a2be86-c834-418a-a2af-ec72b8569494\",\"type\":\"DataRange1d\"},\"y_scale\":{\"id\":\"217cd13f-4a02-46e5-bf19-fd7478100136\",\"type\":\"LinearScale\"}},\"id\":\"26d84b2d-ba01-4787-beee-e0371e7d25af\",\"subtype\":\"Figure\",\"type\":\"Plot\"},{\"attributes\":{\"source\":{\"id\":\"45ec8a84-7556-4e6a-9cc8-103f37b5f026\",\"type\":\"ColumnDataSource\"}},\"id\":\"91a128e9-6bef-4135-b0f6-d27c961102ff\",\"type\":\"CDSView\"},{\"attributes\":{},\"id\":\"c178b224-b059-44cd-8fdb-454cc26fd41d\",\"type\":\"WheelZoomTool\"},{\"attributes\":{\"months\":[0,6]},\"id\":\"813c2bdf-c8cf-43a0-abe9-f9a48b6ac83e\",\"type\":\"MonthsTicker\"},{\"attributes\":{\"num_minor_ticks\":5,\"tickers\":[{\"id\":\"8c0f74ae-89bb-4040-b38a-c0cf6e835c72\",\"type\":\"AdaptiveTicker\"},{\"id\":\"7af1703c-8c5d-495d-b525-5f26e161e58a\",\"type\":\"AdaptiveTicker\"},{\"id\":\"99ad915e-d6c8-44bb-b5c6-d0e0853b094a\",\"type\":\"AdaptiveTicker\"},{\"id\":\"2ea90e7c-abef-4ef7-89eb-7642b7b2939a\",\"type\":\"DaysTicker\"},{\"id\":\"4e1156c1-9557-4b0e-bfa3-edac40859b98\",\"type\":\"DaysTicker\"},{\"id\":\"6e743b47-3f84-4865-bd24-1c3093ed086b\",\"type\":\"DaysTicker\"},{\"id\":\"e3e4ee4e-973c-4e74-8b59-173689b2ed38\",\"type\":\"DaysTicker\"},{\"id\":\"f8639d41-808c-455b-9d09-cf29f5f54a51\",\"type\":\"MonthsTicker\"},{\"id\":\"80790772-014c-40d4-b4f2-44bcf1880144\",\"type\":\"MonthsTicker\"},{\"id\":\"792e803a-722a-451f-b679-2a56f7940cd3\",\"type\":\"MonthsTicker\"},{\"id\":\"813c2bdf-c8cf-43a0-abe9-f9a48b6ac83e\",\"type\":\"MonthsTicker\"},{\"id\":\"f03bcd33-09fe-48c9-b0ec-e98a454084a0\",\"type\":\"YearsTicker\"}]},\"id\":\"2b5b3d78-67b0-4413-8e31-2d4a511e4cf5\",\"type\":\"DatetimeTicker\"},{\"attributes\":{\"days\":[1,15]},\"id\":\"e3e4ee4e-973c-4e74-8b59-173689b2ed38\",\"type\":\"DaysTicker\"},{\"attributes\":{\"bottom\":{\"field\":\"bottom\"},\"fill_color\":{\"value\":\"#1ED837\"},\"top\":{\"field\":\"top\"},\"width\":{\"value\":43200000},\"x\":{\"field\":\"x\"}},\"id\":\"3e4ca06b-bd18-4f12-8862-ecc9dd4ee524\",\"type\":\"VBar\"},{\"attributes\":{\"callback\":null,\"column_names\":[\"x0\",\"y0\",\"x1\",\"y1\"],\"data\":{\"x0\":{\"__ndarray__\":\"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\",\"dtype\":\"float64\",\"shape\":[223]},\"x1\":{\"__ndarray__\":\"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\",\"dtype\":\"float64\",\"shape\":[223]},\"y0\":{\"__ndarray__\":\"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\",\"dtype\":\"float64\",\"shape\":[223]},\"y1\":{\"__ndarray__\":\"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\",\"dtype\":\"float64\",\"shape\":[223]}}},\"id\":\"66af856f-56d2-48ee-9250-f4e1f9ba39dd\",\"type\":\"ColumnDataSource\"},{\"attributes\":{\"source\":{\"id\":\"66af856f-56d2-48ee-9250-f4e1f9ba39dd\",\"type\":\"ColumnDataSource\"}},\"id\":\"a6e3bfb8-c0c6-41c5-9d4e-b0a1e816e0d6\",\"type\":\"CDSView\"},{\"attributes\":{\"plot\":null,\"text\":\"\\u8305\\u53f0\"},\"id\":\"1927dc5c-41d4-43dc-90e3-54c5bc286b5d\",\"type\":\"Title\"},{\"attributes\":{\"callback\":null,\"column_names\":[\"x\",\"top\",\"bottom\"],\"data\":{\"bottom\":{\"__ndarray__\":\"mz474Hr0dkCKyRtgZh53QBSTN8DMOHdAJQhXQOFqd0CGqwMgrqd3QKuzWmCPJnhAIeo+ACmgeECGqwMgrqd4QCHqPgApxHdAiskbYGb6d0AxX16APSJ4QM+goX/CJXhAq7NaYI9aeECrs1pgj354QIarAyCuY3hAMV9egD3meEC7KHrgo7x4QIrJG2BmSnlA3xXB/9ZbeUA1fXbA9fR5QDFfXoA9LnpAyoKJPwpXekDPoKF/whl6QAAAAAAAAHpAIeo+ACmMeUBVTKWfcKF5QKuzWmCPwnlAFJM3wMw4ekDwiuB/6+F6QLsoeuCj2HpA3Peovx6Ne0CbPjvgepx7QOxsyD8zY3xAdTbkn5kpfEBRLo1fuD58QJs+O+B6FHxA3Peovx4NfEDwiuB/67V8QDZ9dsD1BH1A4BXB/9YbfUAQdR+AFI59QDJfXoA9pn1AEHUfgBTqfEBRLo1fuGJ9QEXXhR9ci31AJAhXQOFKfkB1NuSfmUF+QHU25J+ZfX1AEHUfgBTCfEBlwcQfhWd8QBB1H4AU8nxAq7NaYI+CfECrs1pgj4Z8QBSTN8DMSHxAzqChf8KNfEBlwcQfhSd9QOxsyD8zk31AFJM3wMzcfUDwiuB/6519QFEujV+4Pn5AVUyln3AtfkA2fXbA9Rh+QK/RcqBHKX5AdTbkn5mtfkAQdR+AFLp+QK/RcqBHPX9Ah6sDIK6bfkAg6j4AKeB+QGXBxB+Fz35AJAhXQOHyfkDc96i/HuV9QKuzWmCPTn5AEHUfgBS6fkBlwcQfhS9/QHlU/N9RLH9AJAhXQOE+f0DgFcH/1rN/QLsoeuCj1H9AhqsDIK4zgECZLy/AHi2AQCHqPgApfoBAmz474HrggEB6VPzfUQyBQOxsyD8zYYFAZcHEH4WFgUCM2CeAwoWBQBSTN8DMNIJADmYTYLjogkCIug9ACk2EQBB1H4AUeINAAg8MIFz5g0CbPjvgemiEQIi6D0AKU4RA7nvUX49QhEB2NuSfmS+FQIi6D0AKf4VA/vDz36OAhUBn0NA/4XiGQOxsyD8zOYVAAAAAAAAqhUDfFcH/1kGEQHpU/N9R7oNAdCfYfz2ag0DwiuB/61eEQIarAyCu4YRAIeo+ACnOhEAOZhNguNiEQPKZ7J9HZ4VAAg8MIFxXhUB4RfC/9YCFQGXBxB+FdYZAFJM3wMz+hUBn0NA/4V6GQO571F+PCIdAiLoPQAqBh0Ah6j4AKXSIQIarAyCujYhAAg8MIFyjiEDwiuB/63WHQJkvL8AeLYhA8pnsn0cJiECM2CeAwkmIQA==\",\"dtype\":\"float64\",\"shape\":[122]},\"top\":{\"__ndarray__\":\"JQhXQOHydkAAAAAAAPB2QBSTN8DMIHdAAAAAAAAYd0B2NuSfmVF3QAAAAAAAyHdAFJM3wMwoeECbPjvgemh4QOxsyD8zv3dAIeo+ACnQd0AAAAAAAPB3QOxsyD8zI3hAz6Chf8IleEAh6j4AKVB4QLsoeuCjFHhAmz474HpseEAAAAAAAHB4QHY25J+ZqXhAAAAAAAAweUBVTKWfcGF5QBSTN8DMTHlAmz474Hr4eUAAAAAAALB5QBB1H4AU6nlAy4KJPwpHeUCKyRtgZoZ5QIrJG2BmhnlA8Irgf+vReUB1NuSfmTl6QBSTN8DMkHpA3Peovx7ZekC7KHrgo3B7QAAAAAAApHtARdeFH1wLfEDc96i/Hi18QAAAAAAAqHtAZcHEH4XPe0DwiuB/6xF8QNz3qL8e1XxA4BXB/9YDfUAAAAAAADB9QLsoeuCjjH1AAAAAAADYfEBF14UfXN98QBSTN8DMWH1AIOo+ACmQfUDc96i/Hi1+QCDqPgApeH1AIOo+AClQfEAQdR+AFO57QAAAAAAAaHxAdTbkn5l1fEAAAAAAAIR8QOAVwf/WP3xAAAAAAABgfEDOoKF/wn18QEXXhR9cL31AEHUfgBSufUAQdR+AFHp9QAAAAAAAcH1Auyh64KMAfkAAAAAAAIh9QAAAAAAAIH5AVUyln3BNfkBVTKWfcLF+QEXXhR9cU35AAAAAAACAfkDsbMg/M1d+QOxsyD8zm35A7GzIPzOjfkBVTKWfcHF9QAAAAAAA+H1AAAAAAABQfkAyX16APaJ+QMqCiT8K/35Ai8kbYGYOf0A2fXbA9UR/QMqCiT8Kq39A7GzIPzOzf0AAAAAAACCAQJkvL8AeLYBAiskbYGZ4gEAUkzfAzNCAQAAAAAAACIFA8Irgf+t/gUB2NuSfmVGBQAAAAAAAiIFAAAAAAADogkBn0NA/4dCCQIi6D0AKZ4NA7GzIPzOlg0AAAAAAAAyEQP7w89+jEoRAAAAAAABAhEAShCugcFOEQAAAAAAAQIVAAAAAAAA2hUAQdR+AFHCFQIrJG2BmJoVAAAAAAADohECbPjvgeoiDQHY25J+Zf4NAAg8MIFw7g0AAAAAAALiDQPCK4H/rd4RAAAAAAACghEAAAAAAALiEQOxsyD8z74RAAAAAAABAhUAAAAAAAHCFQAAAAAAAeIVA8Irgf+vLhUAAAAAAAOyFQOxsyD8zi4ZAIeo+ACn4hkCGqwMgroGHQAAAAAAAiIhAIeo+ACkuiEAShCugcF+HQJs+O+B6fodAAAAAAADIh0DwiuB/6/mHQA==\",\"dtype\":\"float64\",\"shape\":[122]},\"x\":{\"__ndarray__\":\"AADAcbOqdUIAAIDXBat1QgAAgG5PrHVCAAAAOvSsdUIAAIAFma11QgAAwDaQrnVCAACAnOKudUIAAEACNa91QgAAwGQjsXVCAACAynWxdUIAAEAwyLF1QgAAAJYasnVCAADAkrazdUIAAID4CLR1QgAAAFv3tXVCAADAwEm2dUIAAMBXk7d1QgAAgL3lt3VCAABAIzi4dUIAAACJirh1QgAAwIUmunVCAABAUcu6dUIAAMCzubx1QgAAgBkMvXVCAABAFqi+dUIAAAB8+r51QgAAwOFMv3VCAADAeJbAdUIAAIDe6MB1QgAAAKqNwXVCAADAD+DBdUIAAABB18J1QgAAwKYpw3VCAABAcs7DdUIAAADYIMR1QgAAgDoPxnVCAABAN6vHdUIAAACd/cd1QgAAwAJQyHVCAACAaKLIdUIAAMCZmcl1QgAAQGU+ynVCAADAMOPKdUIAAABi2st1QgAAgC1/zHVCAABAKhvOdUIAAACQbc51QgAAQMFkz3VCAAAAvgDRdUIAAMC6nNJ1QgAAgCDv0nVCAAAA7JPTdUIAAMBR5tN1QgAAwOgv1XVCAACAToLVdUIAAEC01NV1QgAAABon1nVCAABASx7XdUIAAIB8Fdh1QgAAQOJn2HVCAAAA3wPadUIAAMDbn9t1QgAAgEHy23VCAABAp0TcdUIAAAANl9x1QgAAAKTg3XVCAABAbCHgdUIAAMA3xuB1QgAAAAAH43VCAACAy6vjdUIAAADF4+Z1QgAAwCo253VCAACAkIjndUIAAECNJOl1QgAAgL4b6nVCAABAJG7qdUIAAIBVZet1QgAAQLu363VCAADAhlzsdUIAAIDsrux1QgAAAObm73VCAADASznwdUIAAICxi/B1QgAAAH0w8XVCAABArifydUIAAMB5zPJ1QgAAgN8e83VCAADAp1/1dUIAAIANsvV1QgAAQApO93VCAADA1fL3dUIAAAAH6vh1QgAAgNKO+XVCAABAOOH5dUIAAACeM/p1QgAAQM8q+3VCAADAms/7dUIAAIAAIvx1QgAAgJdr/XVCAABA/b39dUIAAIDF/v91QgAAACjtAXZCAAAAvzYDdkIAAEDwLQR2QgAAwLvSBHZCAACAuG4GdkIAAEAewQZ2QgAAAIQTB3ZCAACAT7gHdkIAAMCArwh2QgAAALKmCXZCAADArkILdkIAAIAUlQt2QgAAQHrnC3ZCAABAETENdkIAAAB3gw12QgAAwNzVDXZCAABAqHoOdkIAAMAKaRB2QgAAwKGyEXZCAAAA06kSdkIAAMA4/BJ2Qg==\",\"dtype\":\"float64\",\"shape\":[122]}}},\"id\":\"45ec8a84-7556-4e6a-9cc8-103f37b5f026\",\"type\":\"ColumnDataSource\"},{\"attributes\":{\"formatter\":{\"id\":\"a902ef92-e823-473a-bbec-6d6f01069299\",\"type\":\"DatetimeTickFormatter\"},\"major_label_orientation\":0.7853981633974483,\"plot\":{\"id\":\"26d84b2d-ba01-4787-beee-e0371e7d25af\",\"subtype\":\"Figure\",\"type\":\"Plot\"},\"ticker\":{\"id\":\"2b5b3d78-67b0-4413-8e31-2d4a511e4cf5\",\"type\":\"DatetimeTicker\"}},\"id\":\"7be9b671-1edd-43f4-8b86-1952f770e9bd\",\"type\":\"DatetimeAxis\"},{\"attributes\":{\"active_drag\":\"auto\",\"active_inspect\":\"auto\",\"active_scroll\":\"auto\",\"active_tap\":\"auto\",\"tools\":[{\"id\":\"5bb03301-aeaf-4704-8f18-676d04e9fc56\",\"type\":\"PanTool\"},{\"id\":\"c178b224-b059-44cd-8fdb-454cc26fd41d\",\"type\":\"WheelZoomTool\"},{\"id\":\"8e15477c-6d79-4d04-9dc6-39ecd7e25c72\",\"type\":\"BoxZoomTool\"},{\"id\":\"5e8ded9a-4400-4a1d-97d6-66e8b089e3c6\",\"type\":\"ResetTool\"},{\"id\":\"96f3cd45-3a19-4442-9ca9-5868f74903c8\",\"type\":\"SaveTool\"}]},\"id\":\"32a21c1a-9f85-4458-bca1-3128009b4454\",\"type\":\"Toolbar\"},{\"attributes\":{},\"id\":\"787d14dc-9aa6-461d-b589-31ab9d235239\",\"type\":\"LinearScale\"},{\"attributes\":{\"callback\":null,\"column_names\":[\"x\",\"top\",\"bottom\"],\"data\":{\"bottom\":{\"__ndarray__\":\"djbkn5kdd0AAAAAAABh3QHpU/N9RbHdAuyh64KNceEDb96i/Hi14QNv3qL8erXdA8Irgf+uNeEDsbMg/M1N4QLsoeuCjFHhA7GzIPzO3eECbPjvgegh5QBSTN8DM6HhARdeFH1wfekCGqwMgrtd5QK/RcqBHwXlAy4KJPwoDekCGqwMgrld5QGXBxB+F13lAdTbkn5mpekDc96i/HiV8QMqCiT8Kr3tANn12wPX0e0Crs1pgj8Z7QLsoeuCjkH1AFJM3wMwEfUAUkzfAzCR9QAAAAAAAjH1Ah6sDIK6LfUAUkzfAzLR9QCDqPgApkH1A8Irgf+vFfEBRLo1fuD58QIerAyCuf3xAZcHEH4Xfe0BlwcQfhZd8QNz3qL8eIXxARdeFH1zffUAQdR+AFHp9QGXBxB+FE35A4BXB/9YDfkBlwcQfhdN9QDJfXoA9mn1ANn12wPVAfkBlwcQfhf9+QOAVwf/WB39AyoKJPwrLfkCLyRtgZpp+QGXBxB+Fc35ANn12wPXMfkDgFcH/1s9+QLsoeuCjwH5AyoKJPwqXfkCLyRtgZrJ+QFEujV+4xn5A4BXB/9affkCHqwMgrk9+QHlU/N9RFH5A8Irgf+ulfUBF14UfXKt+QFVMpZ9wnX5A7GzIPzMPf0DsbMg/MwN/QEXXhR9cw39ADmYTYLgAgUDfFcH/1mWBQP7w89+j8oFA8pnsn0frgUD+8PPfo7qBQAIPDCBcrYFA/vDz36Nwg0B0J9h/PVCDQAIPDCBcl4NA7nvUX48QhEAAAAAAADaFQAAAAAAAkoVAIeo+AClUhEDfFcH/1s2DQHpU/N9RsINAelT831Fqg0B4RfC/9fCDQAAAAAAAuINAFJM3wMxyg0CGqwMgrseDQBB1H4AUiINAZcHEH4VFg0Due9Rfj1qEQIrJG2BmxIRAelT831FuhEDwiuB/602FQJs+O+B6RoVAEoQroHDBhEDwiuB/68uFQGfQ0D/hEodAmz474Ho2iEB4RfC/9YqIQGXBxB+FJ4hAEoQroHBfh0AShCugcHGHQHQn2H89LohAhqsDIK7jh0A=\",\"dtype\":\"float64\",\"shape\":[100]},\"top\":{\"__ndarray__\":\"US6NX7ged0AUkzfAzDh3QDV9dsD1iHdAmz474HqAeEDb96i/HoV4QJs+O+B6IHhA3xXB/9aPeEAAAAAAAKB4QBSTN8DMQHhAJQhXQOH2eEAAAAAAAPB5QPCK4H/rCXlAdjbkn5ktekDgFcH/1l96QIarAyCu13lA7GzIPzMDekAlCFdA4QJ6QFVMpZ9w2XlAAAAAAADQekCLyRtgZk58QFEujV+4PnxAAAAAAAAgfEC7KHrgowB8QBSTN8DMkH1AAAAAAACwfUAAAAAAAJB9QHlU/N9RkH1AzqChf8KNfUBVTKWfcEF+QBSTN8DMxH1A7GzIPzOjfUBF14UfXK98QM6goX/CoXxAFJM3wMwwfEAUkzfAzBx9QLsoeuCjkHxA7GzIPzMjfkAUkzfAzOB9QAAAAAAAQH5AAAAAAAAQfkAkCFdA4Tp+QAAAAAAA0H1AAAAAAACQfkDOoKF/wkF/QAAAAAAAIH9AdTbkn5kZf0AUkzfAzMx+QIvJG2Bmdn5A4BXB/9bffkDsbMg/M9d+QAAAAAAA0H5AeVT831HQfkC7KHrgo+B+QCQIV0Dh8n5AEHUfgBTOfkAAAAAAAKB+QDZ9dsD1VH5AAAAAAADkfUDgFcH/1s9+QAAAAAAAyH5AFJM3wMxEf0CLyRtgZg5/QFEujV+4zn9AAAAAAAAIgUCM2CeAwoeBQAAAAAAAKIJAdjbkn5kBgkAAAAAAAOCBQAAAAAAAzoFAiskbYGYYhEAQdR+AFHCDQHY25J+Zl4NA/vDz36NUhECZLy/AHnmFQAAAAAAAwIVAAAAAAAAohUAAAAAAABCEQOxsyD8z34NAAAAAAADQg0BlwcQfhU+EQBB1H4AU3INAEHUfgBTwg0AAAAAAANCDQAAAAAAAvINAdjbkn5mHg0B2NuSfmZWEQN8Vwf/W74RAAAAAAADAhEAAAAAAAFiFQBKEK6BwgYVAZ9DQP+FmhUAAAAAAAHCGQAAAAAAAKIdAAAAAAACYiECGqwMgrsuIQN8Vwf/WY4hAAAAAAAAQiEDsbMg/M4eHQJs+O+B6TohAZcHEH4VDiEA=\",\"dtype\":\"float64\",\"shape\":[100]},\"x\":{\"__ndarray__\":\"AABAPVirdUIAAEDUoax1QgAAwJ9GrXVCAAAAaIevdUIAAMDN2a91QgAAAP/QsHVCAABAXlu0dUIAAICPUrV1QgAAQPWktXVCAACAJpy2dUIAAMDu3Lh1QgAAACDUuXVCAACA63i6dUIAAAC3Hbt1QgAAAE5nvHVCAABAf169dUIAAICwVb51QgAAgEefv3VCAABARDvBdUIAAIAMfMN1QgAAwNS8xXVCAABAoGHGdUIAAIDRWMd1QgAAgP/ryXVCAAAAy5DKdUIAAMDHLMx1QgAAQJPRzHVCAAAA+SPNdUIAAMD1v851QgAAgFsSz3VCAACA8lvQdUIAAEBYrtB1QgAAwCNT0XVCAACAiaXRdUIAAECGQdN1QgAAAIPd1HVCAAAAsXDXdUIAAMAWw9d1QgAAgBNf2XVCAABAebHZdUIAAMBEVtp1QgAAgKqo2nVCAADAcuncdUIAAMAJM951QgAAgG+F3nVCAABA1dfedUIAAAA7Kt91QgAAANJz4HVCAACAnRjhdUIAAEADa+F1QgAAgDRi4nVCAABAmrTidUIAAMBlWeN1QgAAwPyi5HVCAACAYvXkdUIAAEDIR+V1QgAAAC6a5XVCAADAk+zldUIAAED22ud1QgAAAFwt6HVCAAAA83bpdUIAAMBYyel1QgAAACEK7HVCAABAF97wdUIAAAAUevJ1QgAAQEVx83VCAACAdmj0dUIAAEDcuvR1QgAAAEIN9XVCAADAPqn2dUIAAICk+/Z1QgAAAHCg93VCAADAbDz5dUIAAAA1fft1QgAAQGZ0/HVCAAAAYxD+dUIAAMDIYv51QgAAgC61/nVCAADAX6z/dUIAAEArUQB2QgAAAJGjAHZCAADA9vUAdkIAAMCNPwJ2QgAAgPORAnZCAABAWeQCdkIAAABWgAR2QgAAgCElBXZCAABAh3cFdkIAAMDpZQd2QgAAgOYBCXZCAABATFQJdkIAAMAX+Ql2QgAAAOA5DHZCAACAQigOdkIAAIDZcQ92QgAAQD/ED3ZCAAAApRYQdkIAAIBwuxB2QgAAgAcFEnZCAABAbVcSdkI=\",\"dtype\":\"float64\",\"shape\":[100]}}},\"id\":\"4d83c01c-a52a-4345-9d50-dd747898c411\",\"type\":\"ColumnDataSource\"},{\"attributes\":{\"mantissas\":[1,2,5],\"max_interval\":500.0,\"num_minor_ticks\":0},\"id\":\"8c0f74ae-89bb-4040-b38a-c0cf6e835c72\",\"type\":\"AdaptiveTicker\"},{\"attributes\":{\"bottom\":{\"field\":\"bottom\"},\"fill_color\":{\"value\":\"#F2583E\"},\"top\":{\"field\":\"top\"},\"width\":{\"value\":43200000},\"x\":{\"field\":\"x\"}},\"id\":\"8007a28c-015f-4c26-8227-629d37c8d331\",\"type\":\"VBar\"},{\"attributes\":{\"data_source\":{\"id\":\"4d83c01c-a52a-4345-9d50-dd747898c411\",\"type\":\"ColumnDataSource\"},\"glyph\":{\"id\":\"8007a28c-015f-4c26-8227-629d37c8d331\",\"type\":\"VBar\"},\"hover_glyph\":null,\"muted_glyph\":null,\"nonselection_glyph\":{\"id\":\"89647d84-9b9a-41d9-ac73-27bba3eb101d\",\"type\":\"VBar\"},\"selection_glyph\":null,\"view\":{\"id\":\"cba51f57-eef1-4cca-98a2-0fbcdc307364\",\"type\":\"CDSView\"}},\"id\":\"bbac2a1f-a687-4e49-9993-36e3188d8c8d\",\"type\":\"GlyphRenderer\"},{\"attributes\":{\"formatter\":{\"id\":\"2fc8461f-9b0a-43ae-9482-e47284638706\",\"type\":\"BasicTickFormatter\"},\"plot\":{\"id\":\"26d84b2d-ba01-4787-beee-e0371e7d25af\",\"subtype\":\"Figure\",\"type\":\"Plot\"},\"ticker\":{\"id\":\"27f3ef77-d602-4683-bd26-9ef3182f2812\",\"type\":\"BasicTicker\"}},\"id\":\"0b17e3ff-47d7-4fe3-b574-840fd9d0a6d4\",\"type\":\"LinearAxis\"}],\"root_ids\":[\"26d84b2d-ba01-4787-beee-e0371e7d25af\"]},\"title\":\"Bokeh Application\",\"version\":\"0.12.13\"}};\n",
       "  var render_items = [{\"docid\":\"7eff62a1-fc26-465f-ba20-40ab93455b85\",\"elementid\":\"43b2adeb-439c-4c67-91fc-3d306e0e9d97\",\"modelid\":\"26d84b2d-ba01-4787-beee-e0371e7d25af\"}];\n",
       "  root.Bokeh.embed.embed_items_notebook(docs_json, render_items);\n",
       "\n",
       "  }\n",
       "  if (root.Bokeh !== undefined) {\n",
       "    embed_document(root);\n",
       "  } else {\n",
       "    var attempts = 0;\n",
       "    var timer = setInterval(function(root) {\n",
       "      if (root.Bokeh !== undefined) {\n",
       "        embed_document(root);\n",
       "        clearInterval(timer);\n",
       "      }\n",
       "      attempts++;\n",
       "      if (attempts > 100) {\n",
       "        console.log(\"Bokeh: ERROR: Unable to run BokehJS code because BokehJS library is missing\")\n",
       "        clearInterval(timer);\n",
       "      }\n",
       "    }, 10, root)\n",
       "  }\n",
       "})(window);"
      ],
      "application/vnd.bokehjs_exec.v0+json": ""
     },
     "metadata": {
      "application/vnd.bokehjs_exec.v0+json": {
       "id": "26d84b2d-ba01-4787-beee-e0371e7d25af"
      }
     },
     "output_type": "display_data"
    }
   ],
   "source": [
    "moutai = candlestickStrat('600519.ss', 100, '2017-03-08', '2018-01-28')\n",
    "candlestick(moutai, '茅台')"
   ]
  },
  {
   "cell_type": "markdown",
   "metadata": {},
   "source": [
    "Not so useful for the chosen stocks..."
   ]
  }
 ],
 "metadata": {
  "kernelspec": {
   "display_name": "Python 3",
   "language": "python",
   "name": "python3"
  },
  "language_info": {
   "codemirror_mode": {
    "name": "ipython",
    "version": 3
   },
   "file_extension": ".py",
   "mimetype": "text/x-python",
   "name": "python",
   "nbconvert_exporter": "python",
   "pygments_lexer": "ipython3",
   "version": "3.6.4"
  }
 },
 "nbformat": 4,
 "nbformat_minor": 2
}
